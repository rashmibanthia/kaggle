{
 "cells": [
  {
   "cell_type": "code",
   "execution_count": 2,
   "metadata": {
    "colab": {
     "base_uri": "https://localhost:8080/",
     "height": 102
    },
    "colab_type": "code",
    "executionInfo": {
     "elapsed": 874,
     "status": "ok",
     "timestamp": 1581172351903,
     "user": {
      "displayName": "Rashmi Banthia",
      "photoUrl": "https://lh3.googleusercontent.com/a-/AAuE7mC5ihkUCG0_SA8371-sQxBlJGpW-h1VSy6j7MY-QQ=s64",
      "userId": "08241869107709835428"
     },
     "user_tz": 300
    },
    "id": "qovEzeYFa1M3",
    "outputId": "e2644221-d575-428f-b9fc-9e95e9a5546b"
   },
   "outputs": [
    {
     "name": "stdout",
     "output_type": "stream",
     "text": [
      "`%tensorflow_version` only switches the major version: `1.x` or `2.x`.\n",
      "You set: `2.0.0`. This will be interpreted as: `2.x`.\n",
      "\n",
      "\n",
      "TensorFlow 2.x selected.\n"
     ]
    }
   ],
   "source": [
    "%tensorflow_version 2.0.0"
   ]
  },
  {
   "cell_type": "code",
   "execution_count": 4,
   "metadata": {
    "colab": {
     "base_uri": "https://localhost:8080/",
     "height": 34
    },
    "colab_type": "code",
    "executionInfo": {
     "elapsed": 506,
     "status": "ok",
     "timestamp": 1581172355446,
     "user": {
      "displayName": "Rashmi Banthia",
      "photoUrl": "https://lh3.googleusercontent.com/a-/AAuE7mC5ihkUCG0_SA8371-sQxBlJGpW-h1VSy6j7MY-QQ=s64",
      "userId": "08241869107709835428"
     },
     "user_tz": 300
    },
    "id": "ec0UNSo0YoDj",
    "outputId": "fe586972-d8a5-4710-a335-3f081af2bf2f"
   },
   "outputs": [
    {
     "name": "stdout",
     "output_type": "stream",
     "text": [
      "3.6.9\n"
     ]
    }
   ],
   "source": [
    "from platform import python_version\n",
    "\n",
    "print(python_version())"
   ]
  },
  {
   "cell_type": "code",
   "execution_count": 5,
   "metadata": {
    "colab": {
     "base_uri": "https://localhost:8080/",
     "height": 122
    },
    "colab_type": "code",
    "executionInfo": {
     "elapsed": 18529,
     "status": "ok",
     "timestamp": 1581172375295,
     "user": {
      "displayName": "Rashmi Banthia",
      "photoUrl": "https://lh3.googleusercontent.com/a-/AAuE7mC5ihkUCG0_SA8371-sQxBlJGpW-h1VSy6j7MY-QQ=s64",
      "userId": "08241869107709835428"
     },
     "user_tz": 300
    },
    "id": "Kn2ER2tiHXYG",
    "outputId": "be54b229-1b89-46c3-e00b-16a9dbce736a"
   },
   "outputs": [
    {
     "name": "stdout",
     "output_type": "stream",
     "text": [
      "Go to this URL in a browser: https://accounts.google.com/o/oauth2/auth?client_id=947318989803-6bn6qk8qdgf4n4g3pfee6491hc0brc4i.apps.googleusercontent.com&redirect_uri=urn%3aietf%3awg%3aoauth%3a2.0%3aoob&response_type=code&scope=email%20https%3a%2f%2fwww.googleapis.com%2fauth%2fdocs.test%20https%3a%2f%2fwww.googleapis.com%2fauth%2fdrive%20https%3a%2f%2fwww.googleapis.com%2fauth%2fdrive.photos.readonly%20https%3a%2f%2fwww.googleapis.com%2fauth%2fpeopleapi.readonly\n",
      "\n",
      "Enter your authorization code:\n",
      "··········\n",
      "Mounted at /content/gdrive\n"
     ]
    }
   ],
   "source": [
    "from google.colab import drive\n",
    "drive.mount('/content/gdrive')\n",
    "data_dir = 'gdrive/My Drive/kaggle/google-quest-challenge'\n",
    "\n",
    "#data_dir = '/home/jupyter/google_quest_datasets/'"
   ]
  },
  {
   "cell_type": "code",
   "execution_count": 0,
   "metadata": {
    "colab": {},
    "colab_type": "code",
    "id": "B6hAiOoUHzZF"
   },
   "outputs": [],
   "source": [
    "import subprocess\n",
    "import sys\n",
    "\n",
    "reqs = subprocess.check_output([sys.executable, '-m', 'pip', 'freeze'])\n",
    "installed_packages = [r.decode().split('==')[0] for r in reqs.split()]\n",
    "\n",
    "if 'sacremoses' not in installed_packages:\n",
    "   !pip install sacremoses >/dev/null\n",
    "\n",
    "if 'transformers' not in installed_packages:\n",
    "   !pip install transformers >/dev/null\n",
    "else:\n",
    "   import transformers\n",
    "   print(transformers.__version__)\n"
   ]
  },
  {
   "cell_type": "code",
   "execution_count": 0,
   "metadata": {
    "colab": {},
    "colab_type": "code",
    "id": "euf8b0Y2IEb6"
   },
   "outputs": [],
   "source": [
    "#!pip install iterative-stratification "
   ]
  },
  {
   "cell_type": "code",
   "execution_count": 8,
   "metadata": {
    "colab": {
     "base_uri": "https://localhost:8080/",
     "height": 34
    },
    "colab_type": "code",
    "executionInfo": {
     "elapsed": 14294,
     "status": "ok",
     "timestamp": 1581172412092,
     "user": {
      "displayName": "Rashmi Banthia",
      "photoUrl": "https://lh3.googleusercontent.com/a-/AAuE7mC5ihkUCG0_SA8371-sQxBlJGpW-h1VSy6j7MY-QQ=s64",
      "userId": "08241869107709835428"
     },
     "user_tz": 300
    },
    "id": "0kFnLMaTH8TS",
    "outputId": "fe91d324-de38-48ed-8602-a7afd97fe6df"
   },
   "outputs": [
    {
     "name": "stdout",
     "output_type": "stream",
     "text": [
      "2.4.1\n"
     ]
    }
   ],
   "source": [
    "# coding: utf-8\n",
    "\n",
    "import os \n",
    "import transformers, sys, os, gc\n",
    "import numpy as np, pandas as pd, math\n",
    "import torch, random, os, multiprocessing, glob\n",
    "import torch.nn.functional as F\n",
    "import torch, time\n",
    "\n",
    "#sys.path.insert(0, \"gdrive/My Drive/kaggle/google-quest-challenge/\")\n",
    "sys.path.insert(0, data_dir)\n",
    "\n",
    "from ml_stratifiers import MultilabelStratifiedShuffleSplit, MultilabelStratifiedKFold\n",
    "from scipy.stats import spearmanr\n",
    "from torch import nn\n",
    "from torch.utils import data\n",
    "from torch.utils.data import DataLoader, Dataset\n",
    "from transformers import (RobertaTokenizer, RobertaModel, BertPreTrainedModel, \n",
    "                          RobertaForSequenceClassification, RobertaConfig, AdamW, \n",
    "                          get_linear_schedule_with_warmup, get_cosine_schedule_with_warmup, ROBERTA_PRETRAINED_MODEL_ARCHIVE_MAP )\n",
    "#WEIGHTS_NAME, CONFIG_NAME, \n",
    "\n",
    "from os.path import join as path_join\n",
    "\n",
    "from tqdm import tqdm\n",
    "import logging\n",
    "\n",
    "logging.basicConfig(filename=path_join('gdrive','My Drive','kaggle','submissions','roberta_seed_1029','robertamodel1029.log') ,level=logging.WARNING)\n",
    "    \n",
    "print(transformers.__version__)\n",
    "\n",
    "def set_seeds(SEED=42):\n",
    "  os.environ[\"PYTHONHASHSEED\"] = str(SEED)\n",
    "  np.random.seed(SEED)\n",
    "  torch.manual_seed(SEED)\n",
    "  torch.cuda.manual_seed(SEED)\n",
    "  torch.backends.cudnn.deterministic = True\n",
    "\n",
    "SEED=1029\n",
    "set_seeds(SEED)\n",
    "HEAD_TAIL = True"
   ]
  },
  {
   "cell_type": "code",
   "execution_count": 0,
   "metadata": {
    "colab": {},
    "colab_type": "code",
    "id": "0hf5Q5aTpmst"
   },
   "outputs": [],
   "source": [
    "#logging.basicConfig(filename=path_join('gdrive','My Drive','kaggle','submissions','roberta_seed42','robertamodel.log') ,level=logging.WARNING)\n",
    "logging.warning('Roberta log')\n",
    "logging.warning('Roberta log - seed 1029')"
   ]
  },
  {
   "cell_type": "markdown",
   "metadata": {
    "colab_type": "text",
    "id": "PfmjcXrtYoD0"
   },
   "source": [
    "### Create USE Features "
   ]
  },
  {
   "cell_type": "code",
   "execution_count": 17,
   "metadata": {
    "colab": {
     "base_uri": "https://localhost:8080/",
     "height": 34
    },
    "colab_type": "code",
    "executionInfo": {
     "elapsed": 1006,
     "status": "ok",
     "timestamp": 1581172524796,
     "user": {
      "displayName": "Rashmi Banthia",
      "photoUrl": "https://lh3.googleusercontent.com/a-/AAuE7mC5ihkUCG0_SA8371-sQxBlJGpW-h1VSy6j7MY-QQ=s64",
      "userId": "08241869107709835428"
     },
     "user_tz": 300
    },
    "id": "nFTrGDbLYoD1",
    "outputId": "db02e404-88ba-497a-b8d2-f4027a59d214"
   },
   "outputs": [
    {
     "name": "stderr",
     "output_type": "stream",
     "text": [
      "Using TensorFlow backend.\n"
     ]
    }
   ],
   "source": [
    "import os\n",
    "import re\n",
    "import gc\n",
    "import pickle  \n",
    "import random\n",
    "import keras\n",
    "\n",
    "import numpy as np\n",
    "import pandas as pd\n",
    "import tensorflow as tf\n",
    "import tensorflow_hub as hub\n",
    "#import keras.backend as K\n",
    "\n",
    "#from keras.models import Model\n",
    "#from keras.layers import Dense, Input, Dropout, Lambda\n",
    "#from keras.optimizers import Adam\n",
    "#from keras.callbacks import Callback\n",
    "from scipy.stats import spearmanr, rankdata\n",
    "from os.path import join as path_join\n",
    "from numpy.random import seed\n",
    "from urllib.parse import urlparse\n",
    "from sklearn.preprocessing import OneHotEncoder\n",
    "from sklearn.model_selection import KFold\n",
    "from sklearn.linear_model import MultiTaskElasticNet\n",
    "import re\n",
    "\n",
    "seed(SEED)\n",
    "#tf.random.set_seed(SEED)\n",
    "random.seed(SEED)"
   ]
  },
  {
   "cell_type": "code",
   "execution_count": 18,
   "metadata": {
    "colab": {
     "base_uri": "https://localhost:8080/",
     "height": 34
    },
    "colab_type": "code",
    "executionInfo": {
     "elapsed": 2316,
     "status": "ok",
     "timestamp": 1581172526665,
     "user": {
      "displayName": "Rashmi Banthia",
      "photoUrl": "https://lh3.googleusercontent.com/a-/AAuE7mC5ihkUCG0_SA8371-sQxBlJGpW-h1VSy6j7MY-QQ=s64",
      "userId": "08241869107709835428"
     },
     "user_tz": 300
    },
    "id": "fHS6STBKYoD4",
    "outputId": "95bb0c2b-01e5-4288-ed7b-160fd74a6088"
   },
   "outputs": [
    {
     "name": "stdout",
     "output_type": "stream",
     "text": [
      "(6079, 41) (476, 11)\n"
     ]
    }
   ],
   "source": [
    "train = pd.read_csv(path_join(data_dir, 'train.csv'))\n",
    "test = pd.read_csv(path_join(data_dir, 'test.csv'))\n",
    "print(train.shape, test.shape)"
   ]
  },
  {
   "cell_type": "code",
   "execution_count": 19,
   "metadata": {
    "colab": {
     "base_uri": "https://localhost:8080/",
     "height": 187
    },
    "colab_type": "code",
    "executionInfo": {
     "elapsed": 1815,
     "status": "ok",
     "timestamp": 1581172526666,
     "user": {
      "displayName": "Rashmi Banthia",
      "photoUrl": "https://lh3.googleusercontent.com/a-/AAuE7mC5ihkUCG0_SA8371-sQxBlJGpW-h1VSy6j7MY-QQ=s64",
      "userId": "08241869107709835428"
     },
     "user_tz": 300
    },
    "id": "0WegRkBQDYtw",
    "outputId": "c57e2028-9d2b-4efc-952e-6b409a3d35c2"
   },
   "outputs": [
    {
     "data": {
      "text/plain": [
       "1.000000    2634\n",
       "0.888889    2175\n",
       "0.777778     727\n",
       "0.666667     274\n",
       "0.833333     211\n",
       "0.555556      38\n",
       "0.444444       8\n",
       "0.500000       8\n",
       "0.333333       4\n",
       "Name: answer_well_written, dtype: int64"
      ]
     },
     "execution_count": 19,
     "metadata": {
      "tags": []
     },
     "output_type": "execute_result"
    }
   ],
   "source": [
    "train.answer_well_written.value_counts()"
   ]
  },
  {
   "cell_type": "code",
   "execution_count": 20,
   "metadata": {
    "colab": {
     "base_uri": "https://localhost:8080/",
     "height": 419
    },
    "colab_type": "code",
    "executionInfo": {
     "elapsed": 1217,
     "status": "ok",
     "timestamp": 1581172526666,
     "user": {
      "displayName": "Rashmi Banthia",
      "photoUrl": "https://lh3.googleusercontent.com/a-/AAuE7mC5ihkUCG0_SA8371-sQxBlJGpW-h1VSy6j7MY-QQ=s64",
      "userId": "08241869107709835428"
     },
     "user_tz": 300
    },
    "id": "ZBT6wgsUD7Y9",
    "outputId": "bab4b8b4-76a6-4cf1-87ef-2f38adbb0de1"
   },
   "outputs": [
    {
     "data": {
      "text/html": [
       "<div>\n",
       "<style scoped>\n",
       "    .dataframe tbody tr th:only-of-type {\n",
       "        vertical-align: middle;\n",
       "    }\n",
       "\n",
       "    .dataframe tbody tr th {\n",
       "        vertical-align: top;\n",
       "    }\n",
       "\n",
       "    .dataframe thead th {\n",
       "        text-align: right;\n",
       "    }\n",
       "</style>\n",
       "<table border=\"1\" class=\"dataframe\">\n",
       "  <thead>\n",
       "    <tr style=\"text-align: right;\">\n",
       "      <th></th>\n",
       "      <th>answer</th>\n",
       "      <th>answer_well_written</th>\n",
       "    </tr>\n",
       "  </thead>\n",
       "  <tbody>\n",
       "    <tr>\n",
       "      <th>0</th>\n",
       "      <td>I just got extension tubes, so here's the skin...</td>\n",
       "      <td>1.000000</td>\n",
       "    </tr>\n",
       "    <tr>\n",
       "      <th>1</th>\n",
       "      <td>It might be helpful to look into the definitio...</td>\n",
       "      <td>0.888889</td>\n",
       "    </tr>\n",
       "    <tr>\n",
       "      <th>2</th>\n",
       "      <td>Do you even need grooves?  We make several pro...</td>\n",
       "      <td>0.888889</td>\n",
       "    </tr>\n",
       "    <tr>\n",
       "      <th>3</th>\n",
       "      <td>Sending an \"affidavit\" it is a dispute between...</td>\n",
       "      <td>1.000000</td>\n",
       "    </tr>\n",
       "    <tr>\n",
       "      <th>4</th>\n",
       "      <td>Check out Image Trace in Adobe Illustrator. \\n...</td>\n",
       "      <td>1.000000</td>\n",
       "    </tr>\n",
       "    <tr>\n",
       "      <th>...</th>\n",
       "      <td>...</td>\n",
       "      <td>...</td>\n",
       "    </tr>\n",
       "    <tr>\n",
       "      <th>6074</th>\n",
       "      <td>If you're thinking about wearing a ski helmet ...</td>\n",
       "      <td>0.888889</td>\n",
       "    </tr>\n",
       "    <tr>\n",
       "      <th>6075</th>\n",
       "      <td>\\nYou can replace the pads (as stated elsewher...</td>\n",
       "      <td>0.888889</td>\n",
       "    </tr>\n",
       "    <tr>\n",
       "      <th>6076</th>\n",
       "      <td>Maybe help if can be fixes origin of this erro...</td>\n",
       "      <td>0.555556</td>\n",
       "    </tr>\n",
       "    <tr>\n",
       "      <th>6077</th>\n",
       "      <td>As a non-mathematician, I am somewhat mystifie...</td>\n",
       "      <td>1.000000</td>\n",
       "    </tr>\n",
       "    <tr>\n",
       "      <th>6078</th>\n",
       "      <td>First, I really like Eric's answer for practic...</td>\n",
       "      <td>1.000000</td>\n",
       "    </tr>\n",
       "  </tbody>\n",
       "</table>\n",
       "<p>6079 rows × 2 columns</p>\n",
       "</div>"
      ],
      "text/plain": [
       "                                                 answer  answer_well_written\n",
       "0     I just got extension tubes, so here's the skin...             1.000000\n",
       "1     It might be helpful to look into the definitio...             0.888889\n",
       "2     Do you even need grooves?  We make several pro...             0.888889\n",
       "3     Sending an \"affidavit\" it is a dispute between...             1.000000\n",
       "4     Check out Image Trace in Adobe Illustrator. \\n...             1.000000\n",
       "...                                                 ...                  ...\n",
       "6074  If you're thinking about wearing a ski helmet ...             0.888889\n",
       "6075  \\nYou can replace the pads (as stated elsewher...             0.888889\n",
       "6076  Maybe help if can be fixes origin of this erro...             0.555556\n",
       "6077  As a non-mathematician, I am somewhat mystifie...             1.000000\n",
       "6078  First, I really like Eric's answer for practic...             1.000000\n",
       "\n",
       "[6079 rows x 2 columns]"
      ]
     },
     "execution_count": 20,
     "metadata": {
      "tags": []
     },
     "output_type": "execute_result"
    }
   ],
   "source": [
    "train[['answer','answer_well_written']]"
   ]
  },
  {
   "cell_type": "markdown",
   "metadata": {
    "colab_type": "text",
    "id": "CVui_-EdYoD7"
   },
   "source": [
    "## Features "
   ]
  },
  {
   "cell_type": "code",
   "execution_count": 0,
   "metadata": {
    "colab": {},
    "colab_type": "code",
    "id": "_O-gbab0YoD8"
   },
   "outputs": [],
   "source": [
    "tmp = pd.DataFrame([['unknown1', 'LIFE_ARTS'],['unknown2', 'CULTURE'],['unknown3', 'SCIENCE'],\n",
    "             ['unknown4', 'STACKOVERFLOW'],['unknown5', 'TECHNOLOGY'],['unknown6', 'LIFE_ARTS'],\n",
    "              ['unknown7', 'CULTURE'],['unknown8', 'SCIENCE'],['unknown9', 'STACKOVERFLOW'],\n",
    "              ['unknown10', 'TECHNOLOGY'],['unknown11', 'CULTURE'],['unknown12', 'SCIENCE'],\n",
    "              ['unknown13', 'STACKOVERFLOW'],['unknown14', 'TECHNOLOGY'],['unknown15', 'LIFE_ARTS'],\n",
    "              ['unknown16', 'LIFE_ARTS'],['unknown17', 'CULTURE'],['unknown18', 'SCIENCE'],\n",
    "             ['unknown19', 'STACKOVERFLOW'],['unknown20', 'TECHNOLOGY'],['unknown21', 'LIFE_ARTS'],\n",
    "              ['unknown22', 'CULTURE'],['unknown23', 'SCIENCE'],['unknown24', 'STACKOVERFLOW'],\n",
    "              ['unknown25', 'TECHNOLOGY'],['unknown26', 'CULTURE'],['unknown27', 'SCIENCE'],\n",
    "              ['unknown28', 'STACKOVERFLOW'],['unknown29', 'TECHNOLOGY'],['unknown30', 'LIFE_ARTS'] ,\n",
    "                    ['unknown31', 'LIFE_ARTS'],['unknown32', 'CULTURE'],['unknown33', 'SCIENCE'],\n",
    "             ['unknown34', 'STACKOVERFLOW'],['unknown35', 'TECHNOLOGY'],['unknown36', 'LIFE_ARTS'],\n",
    "              ['unknown37', 'CULTURE'],['unknown38', 'SCIENCE'],['unknown39', 'STACKOVERFLOW'],\n",
    "              ['unknown40', 'TECHNOLOGY']\n",
    "             ],columns =  ['netloc', 'category'])"
   ]
  },
  {
   "cell_type": "code",
   "execution_count": 22,
   "metadata": {
    "colab": {
     "base_uri": "https://localhost:8080/",
     "height": 34
    },
    "colab_type": "code",
    "executionInfo": {
     "elapsed": 880,
     "status": "ok",
     "timestamp": 1581172527499,
     "user": {
      "displayName": "Rashmi Banthia",
      "photoUrl": "https://lh3.googleusercontent.com/a-/AAuE7mC5ihkUCG0_SA8371-sQxBlJGpW-h1VSy6j7MY-QQ=s64",
      "userId": "08241869107709835428"
     },
     "user_tz": 300
    },
    "id": "x45LkrO3YoD-",
    "outputId": "5840a784-d310-4cfa-ceb9-4bfc80370218"
   },
   "outputs": [
    {
     "name": "stdout",
     "output_type": "stream",
     "text": [
      "(6079, 104) (476, 104)\n"
     ]
    }
   ],
   "source": [
    "find = re.compile(r\"^[^.]*\")\n",
    "\n",
    "train['netloc'] = train['url'].apply(lambda x: re.findall(find, urlparse(x).netloc)[0])\n",
    "test['netloc'] = test['url'].apply(lambda x: re.findall(find, urlparse(x).netloc)[0])\n",
    "\n",
    "features = ['netloc', 'category']\n",
    "merged = pd.concat([train[features], test[features]])\n",
    "\n",
    "#Adding unknown url\n",
    "merged = merged.append(tmp)\n",
    "\n",
    "ohe = OneHotEncoder()\n",
    "ohe.fit(merged)\n",
    "\n",
    "features_train = ohe.transform(train[features]).toarray()\n",
    "features_test = ohe.transform(test[features]).toarray()\n",
    "print(features_train.shape, features_test.shape)\n",
    "#Need to add 40 more unknown categories for private test set !! "
   ]
  },
  {
   "cell_type": "code",
   "execution_count": 0,
   "metadata": {
    "colab": {},
    "colab_type": "code",
    "id": "0Hqb-_vUYoED"
   },
   "outputs": [],
   "source": [
    "module_url = path_join(data_dir,'4/') #path_join(data_dir,'use/')\n",
    "embed = hub.load(module_url)"
   ]
  },
  {
   "cell_type": "code",
   "execution_count": 0,
   "metadata": {
    "colab": {},
    "colab_type": "code",
    "id": "BK7h7z0HYoEF"
   },
   "outputs": [],
   "source": [
    "input_columns = ['question_title', 'question_body', 'answer']"
   ]
  },
  {
   "cell_type": "code",
   "execution_count": 25,
   "metadata": {
    "colab": {
     "base_uri": "https://localhost:8080/",
     "height": 85
    },
    "colab_type": "code",
    "executionInfo": {
     "elapsed": 185156,
     "status": "ok",
     "timestamp": 1581172712389,
     "user": {
      "displayName": "Rashmi Banthia",
      "photoUrl": "https://lh3.googleusercontent.com/a-/AAuE7mC5ihkUCG0_SA8371-sQxBlJGpW-h1VSy6j7MY-QQ=s64",
      "userId": "08241869107709835428"
     },
     "user_tz": 300
    },
    "id": "4MsY6NW0YoEH",
    "outputId": "6758e6e9-4b96-4b04-aff8-98cce6513c7f"
   },
   "outputs": [
    {
     "name": "stdout",
     "output_type": "stream",
     "text": [
      "question_title\n",
      "question_body\n",
      "answer\n"
     ]
    },
    {
     "data": {
      "text/plain": [
       "44"
      ]
     },
     "execution_count": 25,
     "metadata": {
      "tags": []
     },
     "output_type": "execute_result"
    }
   ],
   "source": [
    "embeddings_train = {}\n",
    "embeddings_test = {}\n",
    "for text in input_columns:\n",
    "    print(text)\n",
    "    train_text = train[text].str.replace('?', '.').str.replace('!', '.').tolist()\n",
    "    test_text = test[text].str.replace('?', '.').str.replace('!', '.').tolist()\n",
    "    \n",
    "    curr_train_emb = []\n",
    "    curr_test_emb = []\n",
    "    batch_size = 4\n",
    "    ind = 0\n",
    "    while ind*batch_size < len(train_text):\n",
    "        curr_train_emb.append(embed(train_text[ind*batch_size: (ind + 1)*batch_size])[\"outputs\"].numpy())\n",
    "        ind += 1\n",
    "        \n",
    "    ind = 0\n",
    "    while ind*batch_size < len(test_text):\n",
    "        curr_test_emb.append(embed(test_text[ind*batch_size: (ind + 1)*batch_size])[\"outputs\"].numpy())\n",
    "        ind += 1    \n",
    "        \n",
    "    embeddings_train[text + '_embedding'] = np.vstack(curr_train_emb)\n",
    "    embeddings_test[text + '_embedding'] = np.vstack(curr_test_emb)\n",
    "    \n",
    "del embed\n",
    "gc.collect()"
   ]
  },
  {
   "cell_type": "code",
   "execution_count": 26,
   "metadata": {
    "colab": {
     "base_uri": "https://localhost:8080/",
     "height": 34
    },
    "colab_type": "code",
    "executionInfo": {
     "elapsed": 184978,
     "status": "ok",
     "timestamp": 1581172712390,
     "user": {
      "displayName": "Rashmi Banthia",
      "photoUrl": "https://lh3.googleusercontent.com/a-/AAuE7mC5ihkUCG0_SA8371-sQxBlJGpW-h1VSy6j7MY-QQ=s64",
      "userId": "08241869107709835428"
     },
     "user_tz": 300
    },
    "id": "y_NiK1i1YoEK",
    "outputId": "950a011c-29fb-4ed4-e772-6c6f0601ab1f"
   },
   "outputs": [
    {
     "data": {
      "text/plain": [
       "(3, 3, (476, 512))"
      ]
     },
     "execution_count": 26,
     "metadata": {
      "tags": []
     },
     "output_type": "execute_result"
    }
   ],
   "source": [
    "#512 columns for each row, each column i.e. Row 1 -> question_title -> 512 features\n",
    "len(embeddings_train), len(embeddings_test), embeddings_test['question_title_embedding'].shape"
   ]
  },
  {
   "cell_type": "markdown",
   "metadata": {
    "colab_type": "text",
    "id": "eNNCgM2CYoEM"
   },
   "source": [
    "### Distance features"
   ]
  },
  {
   "cell_type": "code",
   "execution_count": 0,
   "metadata": {
    "colab": {},
    "colab_type": "code",
    "id": "-MeSExVKYoEN"
   },
   "outputs": [],
   "source": [
    "l2_dist = lambda x, y: np.power(x - y, 2).sum(axis=1)\n",
    "\n",
    "cos_dist = lambda x, y: (x*y).sum(axis=1)\n",
    "\n",
    "dist_features_train = np.array([\n",
    "    l2_dist(embeddings_train['question_title_embedding'], embeddings_train['answer_embedding']),\n",
    "    l2_dist(embeddings_train['question_body_embedding'], embeddings_train['answer_embedding']),\n",
    "    l2_dist(embeddings_train['question_body_embedding'], embeddings_train['question_title_embedding']),\n",
    "    cos_dist(embeddings_train['question_title_embedding'], embeddings_train['answer_embedding']),\n",
    "    cos_dist(embeddings_train['question_body_embedding'], embeddings_train['answer_embedding']),\n",
    "    cos_dist(embeddings_train['question_body_embedding'], embeddings_train['question_title_embedding'])\n",
    "]).T\n",
    "\n",
    "dist_features_test = np.array([\n",
    "    l2_dist(embeddings_test['question_title_embedding'], embeddings_test['answer_embedding']),\n",
    "    l2_dist(embeddings_test['question_body_embedding'], embeddings_test['answer_embedding']),\n",
    "    l2_dist(embeddings_test['question_body_embedding'], embeddings_test['question_title_embedding']),\n",
    "    cos_dist(embeddings_test['question_title_embedding'], embeddings_test['answer_embedding']),\n",
    "    cos_dist(embeddings_test['question_body_embedding'], embeddings_test['answer_embedding']),\n",
    "    cos_dist(embeddings_test['question_body_embedding'], embeddings_test['question_title_embedding'])\n",
    "]).T\n",
    "\n",
    "X_train = np.hstack([item for k, item in embeddings_train.items()] + [features_train, dist_features_train])\n",
    "X_test = np.hstack([item for k, item in embeddings_test.items()] + [features_test, dist_features_test])\n",
    "#y_train = train[targets].values"
   ]
  },
  {
   "cell_type": "code",
   "execution_count": 28,
   "metadata": {
    "colab": {
     "base_uri": "https://localhost:8080/",
     "height": 34
    },
    "colab_type": "code",
    "executionInfo": {
     "elapsed": 184602,
     "status": "ok",
     "timestamp": 1581172712642,
     "user": {
      "displayName": "Rashmi Banthia",
      "photoUrl": "https://lh3.googleusercontent.com/a-/AAuE7mC5ihkUCG0_SA8371-sQxBlJGpW-h1VSy6j7MY-QQ=s64",
      "userId": "08241869107709835428"
     },
     "user_tz": 300
    },
    "id": "nwg6DK0pYoEQ",
    "outputId": "f9d1572b-268d-4ed9-b144-9fa13d88cc9b"
   },
   "outputs": [
    {
     "data": {
      "text/plain": [
       "((6079, 1646), (476, 1646))"
      ]
     },
     "execution_count": 28,
     "metadata": {
      "tags": []
     },
     "output_type": "execute_result"
    }
   ],
   "source": [
    "X_train.shape, X_test.shape"
   ]
  },
  {
   "cell_type": "code",
   "execution_count": 0,
   "metadata": {
    "colab": {},
    "colab_type": "code",
    "id": "B7v2zLcbVk0d"
   },
   "outputs": [],
   "source": [
    "# import pickle\n",
    "# with open(\"X_train.pickle\", \"rb\") as input_file:\n",
    "#       X_train = pickle.load(input_file)\n",
    " "
   ]
  },
  {
   "cell_type": "code",
   "execution_count": 29,
   "metadata": {
    "colab": {
     "base_uri": "https://localhost:8080/",
     "height": 34
    },
    "colab_type": "code",
    "executionInfo": {
     "elapsed": 183847,
     "status": "ok",
     "timestamp": 1581172712643,
     "user": {
      "displayName": "Rashmi Banthia",
      "photoUrl": "https://lh3.googleusercontent.com/a-/AAuE7mC5ihkUCG0_SA8371-sQxBlJGpW-h1VSy6j7MY-QQ=s64",
      "userId": "08241869107709835428"
     },
     "user_tz": 300
    },
    "id": "es6Y6zZmVphu",
    "outputId": "3bc10153-7f77-4c69-8633-27435b78b5d9"
   },
   "outputs": [
    {
     "data": {
      "text/plain": [
       "((6079, 1646),)"
      ]
     },
     "execution_count": 29,
     "metadata": {
      "tags": []
     },
     "output_type": "execute_result"
    }
   ],
   "source": [
    "X_train.shape,"
   ]
  },
  {
   "cell_type": "code",
   "execution_count": 30,
   "metadata": {
    "colab": {
     "base_uri": "https://localhost:8080/",
     "height": 289
    },
    "colab_type": "code",
    "executionInfo": {
     "elapsed": 185941,
     "status": "ok",
     "timestamp": 1581172715062,
     "user": {
      "displayName": "Rashmi Banthia",
      "photoUrl": "https://lh3.googleusercontent.com/a-/AAuE7mC5ihkUCG0_SA8371-sQxBlJGpW-h1VSy6j7MY-QQ=s64",
      "userId": "08241869107709835428"
     },
     "user_tz": 300
    },
    "id": "82k8nb_EUCeA",
    "outputId": "fe2a544e-6ba2-484b-cd94-07c1ef030135"
   },
   "outputs": [
    {
     "name": "stdout",
     "output_type": "stream",
     "text": [
      "Sat Feb  8 14:38:32 2020       \n",
      "+-----------------------------------------------------------------------------+\n",
      "| NVIDIA-SMI 440.48.02    Driver Version: 418.67       CUDA Version: 10.1     |\n",
      "|-------------------------------+----------------------+----------------------+\n",
      "| GPU  Name        Persistence-M| Bus-Id        Disp.A | Volatile Uncorr. ECC |\n",
      "| Fan  Temp  Perf  Pwr:Usage/Cap|         Memory-Usage | GPU-Util  Compute M. |\n",
      "|===============================+======================+======================|\n",
      "|   0  Tesla P100-PCIE...  Off  | 00000000:00:04.0 Off |                    0 |\n",
      "| N/A   43C    P0    39W / 250W |   2861MiB / 16280MiB |      0%      Default |\n",
      "+-------------------------------+----------------------+----------------------+\n",
      "                                                                               \n",
      "+-----------------------------------------------------------------------------+\n",
      "| Processes:                                                       GPU Memory |\n",
      "|  GPU       PID   Type   Process name                             Usage      |\n",
      "|=============================================================================|\n",
      "+-----------------------------------------------------------------------------+\n"
     ]
    }
   ],
   "source": [
    "!nvidia-smi"
   ]
  },
  {
   "cell_type": "code",
   "execution_count": 31,
   "metadata": {
    "colab": {
     "base_uri": "https://localhost:8080/",
     "height": 34
    },
    "colab_type": "code",
    "executionInfo": {
     "elapsed": 188520,
     "status": "ok",
     "timestamp": 1581172717885,
     "user": {
      "displayName": "Rashmi Banthia",
      "photoUrl": "https://lh3.googleusercontent.com/a-/AAuE7mC5ihkUCG0_SA8371-sQxBlJGpW-h1VSy6j7MY-QQ=s64",
      "userId": "08241869107709835428"
     },
     "user_tz": 300
    },
    "id": "KvlQEFZL1gh1",
    "outputId": "ca348fea-e7d6-47e3-c2a6-6163d415763a"
   },
   "outputs": [
    {
     "data": {
      "text/plain": [
       "<weakproxy at 0x7f92b69cdb38 to Device at 0x7f9256ff6e10>"
      ]
     },
     "execution_count": 31,
     "metadata": {
      "tags": []
     },
     "output_type": "execute_result"
    }
   ],
   "source": [
    "from numba import cuda\n",
    "cuda.select_device(0)\n",
    "cuda.close() \n",
    "\n",
    "cuda.select_device(0)\n",
    "cuda.close()\n",
    "cuda.select_device(0)\n"
   ]
  },
  {
   "cell_type": "code",
   "execution_count": 32,
   "metadata": {
    "colab": {
     "base_uri": "https://localhost:8080/",
     "height": 289
    },
    "colab_type": "code",
    "executionInfo": {
     "elapsed": 191100,
     "status": "ok",
     "timestamp": 1581172720687,
     "user": {
      "displayName": "Rashmi Banthia",
      "photoUrl": "https://lh3.googleusercontent.com/a-/AAuE7mC5ihkUCG0_SA8371-sQxBlJGpW-h1VSy6j7MY-QQ=s64",
      "userId": "08241869107709835428"
     },
     "user_tz": 300
    },
    "id": "-IctgJ1Vwzjh",
    "outputId": "30d32445-c628-4287-ba3f-c915ea536430"
   },
   "outputs": [
    {
     "name": "stdout",
     "output_type": "stream",
     "text": [
      "Sat Feb  8 14:38:38 2020       \n",
      "+-----------------------------------------------------------------------------+\n",
      "| NVIDIA-SMI 440.48.02    Driver Version: 418.67       CUDA Version: 10.1     |\n",
      "|-------------------------------+----------------------+----------------------+\n",
      "| GPU  Name        Persistence-M| Bus-Id        Disp.A | Volatile Uncorr. ECC |\n",
      "| Fan  Temp  Perf  Pwr:Usage/Cap|         Memory-Usage | GPU-Util  Compute M. |\n",
      "|===============================+======================+======================|\n",
      "|   0  Tesla P100-PCIE...  Off  | 00000000:00:04.0 Off |                    0 |\n",
      "| N/A   43C    P0    38W / 250W |    263MiB / 16280MiB |      0%      Default |\n",
      "+-------------------------------+----------------------+----------------------+\n",
      "                                                                               \n",
      "+-----------------------------------------------------------------------------+\n",
      "| Processes:                                                       GPU Memory |\n",
      "|  GPU       PID   Type   Process name                             Usage      |\n",
      "|=============================================================================|\n",
      "+-----------------------------------------------------------------------------+\n"
     ]
    }
   ],
   "source": [
    "!nvidia-smi"
   ]
  },
  {
   "cell_type": "markdown",
   "metadata": {
    "colab_type": "text",
    "id": "AioOFsiHb5ZN"
   },
   "source": [
    "# Model"
   ]
  },
  {
   "cell_type": "code",
   "execution_count": 0,
   "metadata": {
    "colab": {},
    "colab_type": "code",
    "id": "MRjkaF5vb5C-"
   },
   "outputs": [],
   "source": [
    "LEN_USE_FEATURES = 1646 #1606 \n",
    "\n",
    "\n",
    "class RobertaClassificationHead(nn.Module):\n",
    "    \"\"\"Head for sentence-level classification tasks.\"\"\"\n",
    "\n",
    "    def __init__(self, config):\n",
    "        super().__init__()\n",
    "        self.dense = nn.Linear(config.hidden_size, config.hidden_size)\n",
    "        self.dropout = nn.Dropout(config.hidden_dropout_prob)\n",
    "        #self.out_proj = nn.Linear(config.hidden_size + LEN_USE_FEATURES, config.num_labels)\n",
    "        self.out_proj = nn.Linear(config.hidden_size, config.num_labels)\n",
    "\n",
    "    #def forward(self, features, pooled_out , hidden_st, usefeatures, **kwargs):\n",
    "    def forward(self, features, **kwargs):\n",
    "        x = features[:, 0, :]  # take <s> token (equiv. to [CLS])\n",
    "        #x = features[:, 0, :].reshape((-1, 1, 768))\n",
    "\n",
    "\n",
    "        # h12 = hidden_st[-1][:, 0].reshape((-1, 1, 768))\n",
    "        # h11 = hidden_st[-2][:, 0].reshape((-1, 1, 768))\n",
    "        # h10 = hidden_st[-3][:, 0].reshape((-1, 1, 768))\n",
    "        # h9  = hidden_st[-4][:, 0].reshape((-1, 1, 768))\n",
    "        # all_h = torch.cat([ h9, h10, h11, h12], 1)\n",
    "        # all_h_mean = torch.mean(all_h, 1).reshape((-1,1,768))\n",
    "        # x = torch.mean(torch.cat([x,all_h_mean],1),1)\n",
    "\n",
    "\n",
    "        x = self.dropout(x)\n",
    "        x = self.dense(x)\n",
    "        x = torch.tanh(x)\n",
    "        x = self.dropout(x)\n",
    "        x = self.out_proj(x)\n",
    "        #x = self.out_proj(torch.cat([x,usefeatures],1))\n",
    "\n",
    "\n",
    "        return x\n",
    "\n",
    "class RobertaForSequenceClassification_v2(BertPreTrainedModel):\n",
    "    config_class = RobertaConfig\n",
    "    pretrained_model_archive_map = ROBERTA_PRETRAINED_MODEL_ARCHIVE_MAP\n",
    "    base_model_prefix = \"roberta\"\n",
    "\n",
    "    def __init__(self, config):\n",
    "        super().__init__(config)\n",
    "        self.num_labels = config.num_labels\n",
    "\n",
    "        self.roberta = RobertaModel(config)\n",
    "        self.classifier = RobertaClassificationHead(config)\n",
    "\n",
    "    # def forward(\n",
    "    #     self,\n",
    "    #     input_ids=None,\n",
    "    #     attention_mask=None,\n",
    "    #     token_type_ids=None,\n",
    "    #     position_ids=None,\n",
    "    #     head_mask=None,\n",
    "    #     inputs_embeds=None,\n",
    "    #     labels=None,\n",
    "    # ):\n",
    "\n",
    "    def forward(\n",
    "        self,\n",
    "        input_ids=None,\n",
    "        attention_mask=None,\n",
    "        token_type_ids=None,\n",
    "        position_ids=None,\n",
    "        head_mask=None,\n",
    "        inputs_embeds=None,\n",
    "        labels=None,\n",
    "        usefeatures = None\n",
    "    ):\n",
    "        r\"\"\"\n",
    "        labels (:obj:`torch.LongTensor` of shape :obj:`(batch_size,)`, `optional`, defaults to :obj:`None`):\n",
    "            Labels for computing the sequence classification/regression loss.\n",
    "            Indices should be in :obj:`[0, ..., config.num_labels - 1]`.\n",
    "            If :obj:`config.num_labels == 1` a regression loss is computed (Mean-Square loss),\n",
    "            If :obj:`config.num_labels > 1` a classification loss is computed (Cross-Entropy).\n",
    "\n",
    "    Returns:\n",
    "        :obj:`tuple(torch.FloatTensor)` comprising various elements depending on the configuration (:class:`~transformers.RobertaConfig`) and inputs:\n",
    "        loss (:obj:`torch.FloatTensor` of shape :obj:`(1,)`, `optional`, returned when :obj:`label` is provided):\n",
    "            Classification (or regression if config.num_labels==1) loss.\n",
    "        logits (:obj:`torch.FloatTensor` of shape :obj:`(batch_size, config.num_labels)`):\n",
    "            Classification (or regression if config.num_labels==1) scores (before SoftMax).\n",
    "        hidden_states (:obj:`tuple(torch.FloatTensor)`, `optional`, returned when ``config.output_hidden_states=True``):\n",
    "            Tuple of :obj:`torch.FloatTensor` (one for the output of the embeddings + one for the output of each layer)\n",
    "            of shape :obj:`(batch_size, sequence_length, hidden_size)`.\n",
    "\n",
    "            Hidden-states of the model at the output of each layer plus the initial embedding outputs.\n",
    "        attentions (:obj:`tuple(torch.FloatTensor)`, `optional`, returned when ``config.output_attentions=True``):\n",
    "            Tuple of :obj:`torch.FloatTensor` (one for each layer) of shape\n",
    "            :obj:`(batch_size, num_heads, sequence_length, sequence_length)`.\n",
    "\n",
    "            Attentions weights after the attention softmax, used to compute the weighted average in the self-attention\n",
    "            heads.\n",
    "\n",
    "    Examples::\n",
    "\n",
    "        from transformers import RobertaTokenizer, RobertaForSequenceClassification\n",
    "        import torch\n",
    "\n",
    "        tokenizer = RobertaTokenizer.from_pretrained('roberta-base')\n",
    "        model = RobertaForSequenceClassification.from_pretrained('roberta-base')\n",
    "        input_ids = torch.tensor(tokenizer.encode(\"Hello, my dog is cute\", add_special_tokens=True)).unsqueeze(0)  # Batch size 1\n",
    "        labels = torch.tensor([1]).unsqueeze(0)  # Batch size 1\n",
    "        outputs = model(input_ids, labels=labels)\n",
    "        loss, logits = outputs[:2]\n",
    "\n",
    "        \"\"\"\n",
    "        outputs = self.roberta(\n",
    "            input_ids,\n",
    "            attention_mask=attention_mask,\n",
    "            token_type_ids=token_type_ids,\n",
    "            position_ids=position_ids,\n",
    "            head_mask=head_mask,\n",
    "            inputs_embeds=inputs_embeds,\n",
    "        )\n",
    "        sequence_output = outputs[0]\n",
    "\n",
    "        pooled_output = outputs[1] \n",
    "        hidden_states = outputs[2]\n",
    "        \n",
    "        #logits = self.classifier(sequence_output, pooled_output, hidden_states, usefeatures)\n",
    "        logits = self.classifier(sequence_output) \n",
    "\n",
    "        outputs = (logits,) + outputs[2:]\n",
    "        if labels is not None:\n",
    "            if self.num_labels == 1:\n",
    "                #  We are doing regression\n",
    "                loss_fct = MSELoss()\n",
    "                loss = loss_fct(logits.view(-1), labels.view(-1))\n",
    "            else:\n",
    "                loss_fct = CrossEntropyLoss()\n",
    "                loss = loss_fct(logits.view(-1, self.num_labels), labels.view(-1))\n",
    "            outputs = (loss,) + outputs\n",
    "\n",
    "        return outputs  # (loss), logits, (hidden_states), (attentions)\n",
    "\n"
   ]
  },
  {
   "cell_type": "code",
   "execution_count": 0,
   "metadata": {
    "colab": {},
    "colab_type": "code",
    "id": "dPvGam-eYoEW"
   },
   "outputs": [],
   "source": [
    "\n",
    "train = pd.read_csv( path_join(data_dir,\"train.csv\"))\n",
    "test = pd.read_csv( path_join(data_dir, \"test.csv\"))\n",
    "\n",
    "target_cols_questions = ['question_asker_intent_understanding', 'question_body_critical', \n",
    "               'question_conversational', 'question_expect_short_answer', \n",
    "               'question_fact_seeking', 'question_has_commonly_accepted_answer', \n",
    "               'question_interestingness_others', 'question_interestingness_self', \n",
    "               'question_multi_intent', 'question_not_really_a_question', \n",
    "               'question_opinion_seeking', 'question_type_choice',\n",
    "               'question_type_compare', 'question_type_consequence',\n",
    "               'question_type_definition', 'question_type_entity', \n",
    "               'question_type_instructions', 'question_type_procedure', \n",
    "               'question_type_reason_explanation', 'question_type_spelling', \n",
    "               'question_well_written'] \n",
    "\n",
    "target_cols_answers =  ['answer_helpful',\n",
    "               'answer_level_of_information', 'answer_plausible', \n",
    "               'answer_relevance', 'answer_satisfaction', \n",
    "               'answer_type_instructions', 'answer_type_procedure', \n",
    "               'answer_type_reason_explanation', 'answer_well_written']"
   ]
  },
  {
   "cell_type": "code",
   "execution_count": 0,
   "metadata": {
    "colab": {},
    "colab_type": "code",
    "id": "hEu7fbQVYoEY"
   },
   "outputs": [],
   "source": [
    "weights_questions = np.ones((len(train),))\n",
    "mask = np.sum(train[target_cols_questions]>0.5,1)\n",
    "weights_questions = weights_questions + mask \n",
    "loss_weight_questions = 1.0 / weights_questions.mean()\n",
    "\n",
    "train['weights_questions'] = weights_questions\n",
    "target_cols_questions = target_cols_questions + ['weights_questions']\n",
    "\n",
    "\n",
    "\n",
    "\n",
    "weights_answers = np.ones((len(train),))\n",
    "mask = np.sum(train[target_cols_answers]>0.5,1)\n",
    "weights_answers = weights_answers + mask \n",
    "loss_weight_answers = 1.0 / weights_answers.mean()\n",
    "\n",
    "train['weights_answers'] = weights_answers\n",
    "target_cols_answers = target_cols_answers + ['weights_answers']\n",
    "\n",
    "\n"
   ]
  },
  {
   "cell_type": "code",
   "execution_count": 0,
   "metadata": {
    "colab": {},
    "colab_type": "code",
    "id": "1IoynRnpYoEa"
   },
   "outputs": [],
   "source": [
    "# helpers\n",
    "# From the Ref Kernel's\n",
    "from math import floor, ceil\n",
    "\n",
    "def _get_masks(tokens, max_seq_length):\n",
    "    \"\"\"Mask for padding\"\"\"\n",
    "    if len(tokens)>max_seq_length:\n",
    "        raise IndexError(\"Token length more than max seq length!\")\n",
    "    return [1]*len(tokens) + [0] * (max_seq_length - len(tokens))\n",
    "\n",
    "def _get_segments(tokens, max_seq_length):\n",
    "    \"\"\"Segments: 0 for the first sequence, 1 for the second\"\"\"\n",
    "    \n",
    "    if len(tokens) > max_seq_length:\n",
    "        raise IndexError(\"Token length more than max seq length!\")\n",
    "        \n",
    "    segments = []\n",
    "    first_sep = True\n",
    "    current_segment_id = 0\n",
    "    \n",
    "    for token in tokens:\n",
    "        segments.append(current_segment_id)\n",
    "        if token == \"</s>\":\n",
    "            if first_sep:\n",
    "                first_sep = False \n",
    "            else:\n",
    "                current_segment_id = 1\n",
    "    return segments + [0] * (max_seq_length - len(tokens))\n",
    "\n",
    "def _get_ids(tokens, tokenizer, max_seq_length):\n",
    "    \"\"\"Token ids from Tokenizer vocab\"\"\"\n",
    "    \n",
    "    token_ids = tokenizer.convert_tokens_to_ids(tokens)\n",
    "    input_ids = token_ids + [0] * (max_seq_length-len(token_ids))\n",
    "    return input_ids\n",
    "\n",
    "def compute_output_arrays(df, columns):\n",
    "    return np.asarray(df[columns])"
   ]
  },
  {
   "cell_type": "markdown",
   "metadata": {
    "colab_type": "text",
    "id": "O5ufFEuRYoEc"
   },
   "source": [
    "### Tokenize Answers"
   ]
  },
  {
   "cell_type": "code",
   "execution_count": 0,
   "metadata": {
    "colab": {},
    "colab_type": "code",
    "id": "KSGgzpSWYoEd"
   },
   "outputs": [],
   "source": [
    "def _trim_input_answers(title, question, answer, tokenizer, max_sequence_length=512, t_max_len=30, q_max_len=239, a_max_len=239):\n",
    "    \n",
    "    #293+239+30 = 508 + 4 = 512\n",
    "    \n",
    "    t = tokenizer.tokenize(title)\n",
    "    q = tokenizer.tokenize(question)\n",
    "    a = tokenizer.tokenize(answer)\n",
    "    \n",
    "    t_len = len(t)\n",
    "    q_len = len(q)\n",
    "    a_len = len(a)\n",
    "\n",
    "    if (t_len+q_len+a_len+4) > max_sequence_length:\n",
    "        \n",
    "        if t_max_len > t_len:\n",
    "            t_new_len = t_len\n",
    "            a_max_len = a_max_len + floor((t_max_len - t_len)/2)\n",
    "            q_max_len = q_max_len + ceil((t_max_len - t_len)/2)\n",
    "        else:\n",
    "            t_new_len = t_max_len\n",
    "      \n",
    "        if a_max_len > a_len:\n",
    "            a_new_len = a_len \n",
    "            q_new_len = q_max_len + (a_max_len - a_len)\n",
    "        elif q_max_len > q_len:\n",
    "            a_new_len = a_max_len + (q_max_len - q_len)\n",
    "            q_new_len = q_len\n",
    "        else:\n",
    "            a_new_len = a_max_len\n",
    "            q_new_len = q_max_len\n",
    "            \n",
    "            \n",
    "        # if t_new_len+a_new_len+q_new_len+4 != max_sequence_length:\n",
    "        #     raise ValueError(\"New sequence length should be %d, but is %d\"%(max_sequence_length, (t_new_len + a_new_len + q_new_len + 4)))\n",
    "        \n",
    "        # t = t[:t_new_len]\n",
    "        # q = q[:q_new_len]\n",
    "        # a = a[:a_new_len]\n",
    "\n",
    "\n",
    "        if t_new_len+a_new_len+q_new_len+4 != max_sequence_length:\n",
    "            raise ValueError(\"New sequence length should be %d, but is %d\"%(max_sequence_length, (t_new_len + a_new_len + q_new_len + 4)))\n",
    "        \n",
    "        q_len_head = round(q_new_len/2)\n",
    "        q_len_tail = -1* (q_new_len -q_len_head)\n",
    "        a_len_head = round(a_new_len/2)\n",
    "        a_len_tail = -1* (a_new_len -a_len_head)        ## Head+Tail method .\n",
    "        t = t[:t_new_len]\n",
    "        if HEAD_TAIL :\n",
    "            q = q[:q_len_head]+q[q_len_tail:]\n",
    "            a = a[:a_len_head]+a[a_len_tail:]\n",
    "        else:\n",
    "            q = q[:q_new_len]\n",
    "            a = a[:a_new_len] ## No Head+Tail ,usual processing\n",
    "    \n",
    "    return t, q, a\n",
    "\n",
    "\n",
    "\n",
    "def _convert_to_bert_inputs_answers(title, question, answer, tokenizer, max_sequence_length):\n",
    "    \"\"\"Converts tokenized input to ids, masks and segments for BERT\"\"\"\n",
    "    \n",
    "    stoken =  ['<s> '] + title + ['</s> </s> '] + question + ['</s> </s> '] + answer + ['</s>'] \n",
    "\n",
    "\n",
    "    input_ids = _get_ids(stoken, tokenizer, max_sequence_length)\n",
    "    input_masks = _get_masks(stoken, max_sequence_length)\n",
    "    input_segments = _get_segments(stoken, max_sequence_length)\n",
    "\n",
    "    return [input_ids, input_masks, input_segments]\n",
    "\n",
    "\n",
    "\n",
    "def compute_input_arays_answers(df, columns, tokenizer, max_sequence_length):\n",
    "    \n",
    "    input_ids, input_masks, input_segments = [], [], []\n",
    "    for _, instance in tqdm(df[columns].iterrows(),position=0, leave=True ):\n",
    "        t, q, a  = instance.question_title,instance.question_body, instance.answer\n",
    "        t, q, a  = _trim_input_answers(t, q, a, tokenizer, max_sequence_length)\n",
    "        ids, masks, segments = _convert_to_bert_inputs_answers(t,q, a,tokenizer, max_sequence_length)\n",
    "        input_ids.append(ids)\n",
    "        input_masks.append(masks)\n",
    "        input_segments.append(segments)\n",
    "    return [\n",
    "        torch.from_numpy(np.asarray(input_ids, dtype=np.int32)).long(), \n",
    "        torch.from_numpy(np.asarray(input_masks, dtype=np.int32)).long(),\n",
    "        torch.from_numpy(np.asarray(input_segments, dtype=np.int32)).long(),\n",
    "    ]\n",
    "\n"
   ]
  },
  {
   "cell_type": "markdown",
   "metadata": {
    "colab_type": "text",
    "id": "CKzZIBBoYoEg"
   },
   "source": [
    "### Tokenize questions"
   ]
  },
  {
   "cell_type": "code",
   "execution_count": 0,
   "metadata": {
    "colab": {},
    "colab_type": "code",
    "id": "947KzdnEYoEg"
   },
   "outputs": [],
   "source": [
    "def _trim_input(title, question, tokenizer, max_sequence_length=512, t_max_len=30, q_max_len=479):\n",
    "    \n",
    "    #3 + 479 + 30\n",
    "    \n",
    "    t = tokenizer.tokenize(title)\n",
    "    q = tokenizer.tokenize(question)\n",
    "    \n",
    "    t_len = len(t)\n",
    "    q_len = len(q)\n",
    "    \n",
    "    if (t_len+q_len+3) > max_sequence_length:\n",
    "        \n",
    "        if t_max_len > t_len:\n",
    "            t_new_len = t_len\n",
    "            q_max_len = q_max_len + (t_max_len - t_len)\n",
    "            q_new_len = q_max_len\n",
    "        else:\n",
    "            t_new_len = t_max_len\n",
    "            q_new_len = q_max_len\n",
    "      \n",
    "        if q_max_len > q_len:\n",
    "            q_new_len = q_len\n",
    "            \n",
    "     \n",
    "        if t_new_len+q_new_len+3 != max_sequence_length:\n",
    "            raise ValueError(\"New sequence length should be %d, but is %d\"%(max_sequence_length, (t_new_len + q_new_len + 3)))\n",
    "        \n",
    "        t = t[:t_new_len]\n",
    "        q = q[:q_new_len]\n",
    "        \n",
    "    return t, q\n",
    "\n",
    "def _convert_to_bert_inputs(title, question, tokenizer, max_sequence_length):\n",
    "    \"\"\"Converts tokenized input to ids, masks and segments for BERT\"\"\"\n",
    "    \n",
    "    stoken = ['<s>'] + title + ['</s> </s> '] + question + ['</s>'] \n",
    "    input_ids = _get_ids(stoken, tokenizer, max_sequence_length)\n",
    "    input_masks = _get_masks(stoken, max_sequence_length)\n",
    "    input_segments = _get_segments(stoken, max_sequence_length)\n",
    "\n",
    "    return [input_ids, input_masks, input_segments]\n",
    "\n",
    "def compute_input_arays(df, columns, tokenizer, max_sequence_length):\n",
    "    \n",
    "    input_ids, input_masks, input_segments = [], [], []\n",
    "    for _, instance in tqdm(df[columns].iterrows(),position=0, leave=True ):\n",
    "        t, q  = instance.question_title, instance.question_body\n",
    "        t, q  = _trim_input(t, q, tokenizer, max_sequence_length)\n",
    "        ids, masks, segments = _convert_to_bert_inputs(t, q,tokenizer, max_sequence_length)\n",
    "        input_ids.append(ids)\n",
    "        input_masks.append(masks)\n",
    "        input_segments.append(segments)\n",
    "    return [\n",
    "        torch.from_numpy(np.asarray(input_ids, dtype=np.int32)).long(), \n",
    "        torch.from_numpy(np.asarray(input_masks, dtype=np.int32)).long(),\n",
    "        torch.from_numpy(np.asarray(input_segments, dtype=np.int32)).long(),\n",
    "    ]\n",
    "\n",
    "\n"
   ]
  },
  {
   "cell_type": "code",
   "execution_count": 0,
   "metadata": {
    "colab": {},
    "colab_type": "code",
    "id": "tCWyLNz2YoEi"
   },
   "outputs": [],
   "source": [
    "class QuestDataset(torch.utils.data.Dataset):\n",
    "    def __init__(self, inputs, usefeatures, lengths, labels = None):\n",
    "        \n",
    "        self.inputs = inputs\n",
    "        self.usefeatures = usefeatures\n",
    "        if labels is not None:\n",
    "            self.labels = labels\n",
    "        else:\n",
    "            self.labels = None\n",
    "        self.lengths = lengths\n",
    "       \n",
    "\n",
    "    def __getitem__(self, idx):\n",
    "        \n",
    "        input_ids       = self.inputs[0][idx]\n",
    "        input_masks     = self.inputs[1][idx]\n",
    "        input_segments  = self.inputs[2][idx]\n",
    "        lengths         = self.lengths[idx]\n",
    "        usef            = self.usefeatures[idx,:]\n",
    "        if self.labels is not None: # targets\n",
    "            labels = self.labels[idx]\n",
    "            return input_ids, input_masks, input_segments,  usef, labels, lengths\n",
    "        return input_ids, input_masks, input_segments, usef, lengths\n",
    "\n",
    "    def __len__(self):\n",
    "        return len(self.inputs[0])\n"
   ]
  },
  {
   "cell_type": "code",
   "execution_count": 0,
   "metadata": {
    "colab": {},
    "colab_type": "code",
    "id": "dWlvpkAaYoEk"
   },
   "outputs": [],
   "source": [
    "def get_loss_fn_c_answer(criterion, lgits, lbls):\n",
    "    #return (criterion(lgits,lbls[:,0:30]) * lbls[:,30].view(-1,1)).mean()\n",
    "    return (criterion(lgits,lbls[:,0:9]) * lbls[:,9].view(-1,1)).mean()\n",
    "\n",
    "\n",
    "\n",
    "\n",
    "def get_loss_fn_c(criterion, lgits, lbls):\n",
    "    #print(lgits.shape, lbls.shape,lbls[:,0:30].shape)\n",
    "    #print(criterion(lgits,lbls[:,0:30]).shape, lbls[:,30].shape )\n",
    "    return (criterion(lgits,lbls[:,0:21]) * lbls[:,21].view(-1,1)).mean()\n",
    "\n"
   ]
  },
  {
   "cell_type": "code",
   "execution_count": 0,
   "metadata": {
    "colab": {},
    "colab_type": "code",
    "id": "IyJLTHzVYoEm"
   },
   "outputs": [],
   "source": [
    "def train_model_answers(train_loader, optimizer, criterion, scheduler):\n",
    "    \n",
    "    model_a.train()\n",
    "    avg_loss = 0.\n",
    "    tk0 = tqdm(enumerate(train_loader),position=0, leave=True )\n",
    "    \n",
    "    for idx, batch in tk0:\n",
    "        \n",
    "        input_ids, input_masks, input_segments, usefeatures, labels, _ = batch\n",
    "        input_ids, input_masks, input_segments, usefeatures, labels = input_ids.to(device), input_masks.to(device), input_segments.to(device), usefeatures.to(device) ,labels.to(device)            \n",
    "         \n",
    "        output_train = model_a(input_ids = input_ids.long(),\n",
    "                             labels = None,\n",
    "                             attention_mask = input_masks,\n",
    "                             token_type_ids = input_segments,\n",
    "                             usefeatures = usefeatures\n",
    "                            )\n",
    "        logits = output_train[0] #output preds\n",
    "\n",
    "        loss = get_loss_fn_c_answer(criterion,logits,labels)\n",
    "        #loss = get_loss_fn_b(criterion,logits,labels)\n",
    "        #loss = loss / accumulation_steps    #https://gist.github.com/thomwolf/ac7a7da6b1888c2eeac8ac8b9b05d3d3\n",
    "        loss.backward()\n",
    "        \n",
    "        optimizer.step()\n",
    "        scheduler.step()\n",
    "        optimizer.zero_grad()\n",
    "        \n",
    "        avg_loss += loss.item() / len(train_loader)\n",
    "        del input_ids, input_masks, input_segments, labels, usefeatures\n",
    "\n",
    "    torch.cuda.empty_cache()\n",
    "    gc.collect()\n",
    "    return avg_loss"
   ]
  },
  {
   "cell_type": "code",
   "execution_count": 0,
   "metadata": {
    "colab": {},
    "colab_type": "code",
    "id": "Y46AYiknYoEp"
   },
   "outputs": [],
   "source": [
    "def train_model_questions(train_loader, optimizer, criterion, scheduler):\n",
    "    \n",
    "    model_q.train()\n",
    "    avg_loss = 0.\n",
    "    tk0 = tqdm(enumerate(train_loader),position=0, leave=True )\n",
    "    \n",
    "    for idx, batch in tk0:\n",
    "        \n",
    "        input_ids, input_masks, input_segments, usefeatures, labels, _ = batch\n",
    "        input_ids, input_masks, input_segments, usefeatures, labels = input_ids.to(device), input_masks.to(device), input_segments.to(device),usefeatures.to(device), labels.to(device)            \n",
    "        output_train = model_q(input_ids = input_ids.long(),\n",
    "                             labels = None,\n",
    "                             attention_mask = input_masks,\n",
    "                             token_type_ids = input_segments,\n",
    "                             usefeatures = usefeatures\n",
    "                            )\n",
    "        logits = output_train[0] #output preds\n",
    "\n",
    "        loss = get_loss_fn_c(criterion,logits,labels)\n",
    "        #loss = get_loss_fn_b(criterion,logits,labels)\n",
    "        #loss = loss / accumulation_steps    #https://gist.github.com/thomwolf/ac7a7da6b1888c2eeac8ac8b9b05d3d3\n",
    "        loss.backward()\n",
    "        \n",
    "        optimizer.step()\n",
    "        scheduler.step()\n",
    "        optimizer.zero_grad()\n",
    "        \n",
    "        avg_loss += loss.item() / len(train_loader)\n",
    "        del input_ids, input_masks, input_segments, labels, usefeatures\n",
    "\n",
    "    torch.cuda.empty_cache()\n",
    "    gc.collect()\n",
    "    return avg_loss"
   ]
  },
  {
   "cell_type": "code",
   "execution_count": 0,
   "metadata": {
    "colab": {},
    "colab_type": "code",
    "id": "sZ9Q18AkYoEr"
   },
   "outputs": [],
   "source": [
    "def val_model_answers(val_loader, val_shape, batch_size=8):  \n",
    "    \n",
    "    avg_val_loss = 0.\n",
    "    model_a.eval() # eval mode\n",
    "    \n",
    "    valid_preds = np.zeros((val_shape, 9))\n",
    "    original = np.zeros((val_shape, 9))\n",
    "    \n",
    "    tk0 = tqdm(enumerate(val_loader),position=0, leave=True )\n",
    "    with torch.no_grad():\n",
    "        \n",
    "        for idx, batch in tk0:\n",
    "            input_ids, input_masks, input_segments,usefeatures, labels, _ = batch\n",
    "            input_ids, input_masks, input_segments, usefeatures, labels = input_ids.to(device), input_masks.to(device), input_segments.to(device), usefeatures.to(device), labels.to(device)            \n",
    "            \n",
    "            output_val = model_a(input_ids = input_ids.long(),\n",
    "                             labels = None,\n",
    "                             attention_mask = input_masks,\n",
    "                             token_type_ids = input_segments,\n",
    "                             usefeatures = usefeatures\n",
    "                            )\n",
    "            logits = output_val[0] #output preds\n",
    "            \n",
    "            vloss = get_loss_fn_c_answer(criterion,logits,labels)\n",
    "            avg_val_loss += vloss.item() / len(val_loader)\n",
    "\n",
    "\n",
    "            valid_preds[idx*batch_size : (idx+1)*batch_size] = logits.detach().cpu().squeeze().numpy()\n",
    "            #original[idx*batch_size : (idx+1)*batch_size]    = labels.detach().cpu().squeeze().numpy()\n",
    "            original[idx*batch_size : (idx+1)*batch_size]    = labels[:,0:9].detach().cpu().squeeze().numpy()\n",
    "        \n",
    "        score = 0\n",
    "        preds = torch.sigmoid(torch.tensor(valid_preds)).numpy()\n",
    "\n",
    "        #Fix 'question_type_spelling' #19, Non Culture = 1\n",
    "        \n",
    "        # np.save(\"preds.npy\", preds)\n",
    "        # np.save(\"actuals.npy\", original)\n",
    "        \n",
    "        rho_val = np.mean([spearmanr(original[:, i], preds[:,i]).correlation for i in range(preds.shape[1])])\n",
    "        print('\\r val_spearman-rho: %s' % (str(round(rho_val, 5))), end = 100*' '+'\\n')\n",
    "        \n",
    "        for i in range(9):\n",
    "            print(i, spearmanr(original[:,i], preds[:,i]))\n",
    "            score += np.nan_to_num(spearmanr(original[:, i], preds[:, i]).correlation)\n",
    "    return avg_val_loss, score/9. , preds"
   ]
  },
  {
   "cell_type": "code",
   "execution_count": 0,
   "metadata": {
    "colab": {},
    "colab_type": "code",
    "id": "RxXMG8uDYoEt"
   },
   "outputs": [],
   "source": [
    "def val_model_questions(val_loader, val_shape, batch_size=8):  \n",
    "    \n",
    "    avg_val_loss = 0.\n",
    "    model_q.eval() # eval mode\n",
    "    \n",
    "    valid_preds = np.zeros((val_shape, 21))\n",
    "    original = np.zeros((val_shape, 21))\n",
    "    \n",
    "    tk0 = tqdm(enumerate(val_loader),position=0, leave=True )\n",
    "    with torch.no_grad():\n",
    "        \n",
    "        for idx, batch in tk0:\n",
    "            input_ids, input_masks, input_segments, usefeatures, labels, _ = batch\n",
    "            input_ids, input_masks, input_segments, usefeatures, labels = input_ids.to(device), input_masks.to(device), input_segments.to(device),usefeatures.to(device), labels.to(device)            \n",
    "            \n",
    "            output_val = model_q(input_ids = input_ids.long(),\n",
    "                             labels = None,\n",
    "                             attention_mask = input_masks,\n",
    "                             token_type_ids = input_segments,\n",
    "                             usefeatures = usefeatures\n",
    "                            )\n",
    "            logits = output_val[0] #output preds\n",
    "            \n",
    "            vloss = get_loss_fn_c(criterion,logits,labels)\n",
    "            avg_val_loss += vloss.item() / len(val_loader)\n",
    "\n",
    "\n",
    "            valid_preds[idx*batch_size : (idx+1)*batch_size] = logits.detach().cpu().squeeze().numpy()\n",
    "            #original[idx*batch_size : (idx+1)*batch_size]    = labels.detach().cpu().squeeze().numpy()\n",
    "            original[idx*batch_size : (idx+1)*batch_size]    = labels[:,0:21].detach().cpu().squeeze().numpy()\n",
    "        \n",
    "        score = 0\n",
    "        preds = torch.sigmoid(torch.tensor(valid_preds)).numpy()\n",
    "\n",
    "        #Fix 'question_type_spelling' #19, Non Culture = 1\n",
    "        \n",
    "        # np.save(\"preds.npy\", preds)\n",
    "        # np.save(\"actuals.npy\", original)\n",
    "        \n",
    "        rho_val = np.mean([spearmanr(original[:, i], preds[:,i]).correlation for i in range(preds.shape[1])])\n",
    "        print('\\r val_spearman-rho: %s' % (str(round(rho_val, 5))), end = 100*' '+'\\n')\n",
    "        \n",
    "        for i in range(21):\n",
    "            print(i, spearmanr(original[:,i], preds[:,i]))\n",
    "            score += np.nan_to_num(spearmanr(original[:, i], preds[:, i]).correlation)\n",
    "    return avg_val_loss, score/21, preds #return 21 questions columns\n",
    "\n"
   ]
  },
  {
   "cell_type": "code",
   "execution_count": 45,
   "metadata": {
    "colab": {
     "base_uri": "https://localhost:8080/",
     "height": 289
    },
    "colab_type": "code",
    "executionInfo": {
     "elapsed": 185673,
     "status": "ok",
     "timestamp": 1581172723035,
     "user": {
      "displayName": "Rashmi Banthia",
      "photoUrl": "https://lh3.googleusercontent.com/a-/AAuE7mC5ihkUCG0_SA8371-sQxBlJGpW-h1VSy6j7MY-QQ=s64",
      "userId": "08241869107709835428"
     },
     "user_tz": 300
    },
    "id": "ervweII7YoEx",
    "outputId": "8beb409e-30cb-4e20-c7d8-0e9ad66e75f9"
   },
   "outputs": [
    {
     "name": "stdout",
     "output_type": "stream",
     "text": [
      "Sat Feb  8 14:38:41 2020       \n",
      "+-----------------------------------------------------------------------------+\n",
      "| NVIDIA-SMI 440.48.02    Driver Version: 418.67       CUDA Version: 10.1     |\n",
      "|-------------------------------+----------------------+----------------------+\n",
      "| GPU  Name        Persistence-M| Bus-Id        Disp.A | Volatile Uncorr. ECC |\n",
      "| Fan  Temp  Perf  Pwr:Usage/Cap|         Memory-Usage | GPU-Util  Compute M. |\n",
      "|===============================+======================+======================|\n",
      "|   0  Tesla P100-PCIE...  Off  | 00000000:00:04.0 Off |                    0 |\n",
      "| N/A   43C    P0    38W / 250W |    263MiB / 16280MiB |      0%      Default |\n",
      "+-------------------------------+----------------------+----------------------+\n",
      "                                                                               \n",
      "+-----------------------------------------------------------------------------+\n",
      "| Processes:                                                       GPU Memory |\n",
      "|  GPU       PID   Type   Process name                             Usage      |\n",
      "|=============================================================================|\n",
      "+-----------------------------------------------------------------------------+\n"
     ]
    }
   ],
   "source": [
    "!nvidia-smi\n"
   ]
  },
  {
   "cell_type": "code",
   "execution_count": 46,
   "metadata": {
    "colab": {
     "base_uri": "https://localhost:8080/",
     "height": 235,
     "referenced_widgets": [
      "ea10cea3e47940468e3baf74b544a038",
      "a3e99ec49bb84745a59dd95655747c07",
      "eafd027c78c54c0e8e12777985986003",
      "72d57f1c07ed4828aed02c80bca13e33",
      "4558fbd1f07d405789cfc7b045eaee2f",
      "f98cdae6b72f4c48ae31e2377f1fdc65",
      "3e2926825f1e42eda439f40ffad5e4c3",
      "c3c910132a7b4b449c66108812e942f3",
      "a79d6f2c0e204450a05c94449f58dd4e",
      "a79f113e60a9470ba888845b411ee420",
      "aa1ac487e26a4107a7b48624027e2306",
      "54a4bd06741448ff9638dd1b725d57bd",
      "4b0e9873d4004cd5a42f04bac83bec8b",
      "da4ff9306095404b8eda45e114a4bcb2",
      "d967f02d98774cbaad9591b6e5b3a469",
      "96e023b036c24c84ad5551e4f13f2836",
      "04aef23de6614bab94390156858e8d44",
      "c2d4b5a9f2e845ff9776672ab4477539",
      "78cbadb5a5b0494d9979515c4daf47d8",
      "c66be8c32f724d4f935be31d0adfd1eb",
      "01d08197ab1f4b57a9401ca349c05575",
      "d314f3b144ac42dd844b595c093558ff",
      "10f0ea51472d44c6a630e7bb5c9aed9a",
      "db92aefa1f4743d7967fd715890bac04"
     ]
    },
    "colab_type": "code",
    "executionInfo": {
     "elapsed": 188685,
     "status": "ok",
     "timestamp": 1581172728160,
     "user": {
      "displayName": "Rashmi Banthia",
      "photoUrl": "https://lh3.googleusercontent.com/a-/AAuE7mC5ihkUCG0_SA8371-sQxBlJGpW-h1VSy6j7MY-QQ=s64",
      "userId": "08241869107709835428"
     },
     "user_tz": 300
    },
    "id": "famjPls7eMol",
    "outputId": "9b4be835-969a-4375-ed00-55568c9b60ff"
   },
   "outputs": [
    {
     "data": {
      "application/vnd.jupyter.widget-view+json": {
       "model_id": "ea10cea3e47940468e3baf74b544a038",
       "version_major": 2,
       "version_minor": 0
      },
      "text/plain": [
       "HBox(children=(IntProgress(value=0, description='Downloading', max=898823, style=ProgressStyle(description_wid…"
      ]
     },
     "metadata": {
      "tags": []
     },
     "output_type": "display_data"
    },
    {
     "name": "stdout",
     "output_type": "stream",
     "text": [
      "\n"
     ]
    },
    {
     "data": {
      "application/vnd.jupyter.widget-view+json": {
       "model_id": "a79d6f2c0e204450a05c94449f58dd4e",
       "version_major": 2,
       "version_minor": 0
      },
      "text/plain": [
       "HBox(children=(IntProgress(value=0, description='Downloading', max=456318, style=ProgressStyle(description_wid…"
      ]
     },
     "metadata": {
      "tags": []
     },
     "output_type": "display_data"
    },
    {
     "name": "stdout",
     "output_type": "stream",
     "text": [
      "\n"
     ]
    },
    {
     "data": {
      "application/vnd.jupyter.widget-view+json": {
       "model_id": "04aef23de6614bab94390156858e8d44",
       "version_major": 2,
       "version_minor": 0
      },
      "text/plain": [
       "HBox(children=(IntProgress(value=0, description='Downloading', max=524, style=ProgressStyle(description_width=…"
      ]
     },
     "metadata": {
      "tags": []
     },
     "output_type": "display_data"
    },
    {
     "name": "stdout",
     "output_type": "stream",
     "text": [
      "\n",
      "\u001b[91m For Every Fold, Train 5 Epochs \u001b[0m\n"
     ]
    },
    {
     "name": "stderr",
     "output_type": "stream",
     "text": [
      "/usr/local/lib/python3.6/dist-packages/sklearn/model_selection/_split.py:296: FutureWarning: Setting a random_state has no effect since shuffle is False. This will raise an error in 0.24. You should leave random_state to its default (None), or set shuffle=True.\n",
      "  FutureWarning\n"
     ]
    }
   ],
   "source": [
    "\n",
    "set_seeds(SEED)\n",
    "question_tokenizer = RobertaTokenizer.from_pretrained('roberta-base')\n",
    "input_categories_q = list(train.columns[[1,2]]); \n",
    "\n",
    "robert_config_question =  RobertaConfig.from_pretrained('roberta-base')\n",
    "robert_config_question.num_labels = 21\n",
    "robert_config_question.output_hidden_states = True \n",
    "\n",
    "answer_tokenizer = RobertaTokenizer.from_pretrained('roberta-base')\n",
    "input_categories_a = list(train.columns[[1,2,5]]); \n",
    "\n",
    "robert_config_answer =  RobertaConfig.from_pretrained('roberta-base')\n",
    "robert_config_answer.num_labels = 9\n",
    "robert_config_answer.output_hidden_states = True \n",
    "\n",
    "device = 'cuda' if torch.cuda.is_available() else 'cpu'\n",
    "\n",
    "\n",
    "class bcolors:\n",
    "    HEADER = '\\033[95m'\n",
    "    OKBLUE = '\\033[94m'\n",
    "    OKGREEN = '\\033[92m'\n",
    "    WARNING = '\\033[93m'\n",
    "    FAIL = '\\033[91m'\n",
    "    ENDC = '\\033[0m'\n",
    "    BOLD = '\\033[1m'\n",
    "    UNDERLINE = '\\033[4m'\n",
    "\n",
    "\n",
    "# In[8]:\n",
    "\n",
    "NUM_FOLDS = 5  # change this\n",
    "BATCH_SIZE = 8\n",
    "epochs = 5 #4     # change this\n",
    "ACCUM_STEPS = 1\n",
    "test_predictions = [] \n",
    "all_rhos = []\n",
    "\n",
    "kf = MultilabelStratifiedKFold(n_splits = NUM_FOLDS, random_state = SEED)\n",
    "\n",
    "y_train_q = train[target_cols_questions].values # dummy\n",
    "y_train_a = train[target_cols_answers].values # dummy\n",
    "\n",
    "\n",
    "print(bcolors.FAIL, f\"For Every Fold, Train {epochs} Epochs\", bcolors.ENDC)\n",
    "\n",
    "set_seeds(SEED)\n",
    "\n"
   ]
  },
  {
   "cell_type": "code",
   "execution_count": 0,
   "metadata": {
    "colab": {},
    "colab_type": "code",
    "id": "aAX5z-3wYoE3"
   },
   "outputs": [],
   "source": [
    "xtrain_usefeatures = X_train"
   ]
  },
  {
   "cell_type": "code",
   "execution_count": 48,
   "metadata": {
    "colab": {
     "base_uri": "https://localhost:8080/",
     "height": 1000,
     "referenced_widgets": [
      "318ba92b304d48cfb517aea974a3a6f3",
      "e7771ff59b2c47fd92172af210cce96a",
      "132f6c75c0ee4519a5b32bc6c1c52604",
      "c41960ca1bf04943aa5b3416afdb6ca7",
      "76673d218d24445595ddd9830f0fb852",
      "eb971101f0ff4d228dc6ac706c43b01c",
      "a271e2d2f20041c09517d6c122044c7b",
      "20a3315445d8465582d91b239e4bb008"
     ]
    },
    "colab_type": "code",
    "executionInfo": {
     "elapsed": 10808312,
     "status": "ok",
     "timestamp": 1581188747023,
     "user": {
      "displayName": "Rashmi Banthia",
      "photoUrl": "https://lh3.googleusercontent.com/a-/AAuE7mC5ihkUCG0_SA8371-sQxBlJGpW-h1VSy6j7MY-QQ=s64",
      "userId": "08241869107709835428"
     },
     "user_tz": 300
    },
    "id": "Va-opUSVosrk",
    "outputId": "18be99c7-1c9f-40c5-e15b-b869384b7489"
   },
   "outputs": [
    {
     "name": "stderr",
     "output_type": "stream",
     "text": [
      "29it [00:00, 289.23it/s]"
     ]
    },
    {
     "name": "stdout",
     "output_type": "stream",
     "text": [
      "\u001b[95m Current Fold: 0 \u001b[0m\n",
      "Train and Valid Shapes are (4859, 43) (1220, 43)\n",
      "\u001b[95m Preparing train datasets.... \u001b[0m\n"
     ]
    },
    {
     "name": "stderr",
     "output_type": "stream",
     "text": [
      "4859it [00:07, 683.01it/s]\n",
      "4859it [00:11, 426.13it/s]\n",
      "79it [00:00, 785.64it/s]"
     ]
    },
    {
     "name": "stdout",
     "output_type": "stream",
     "text": [
      "\u001b[95m Preparing Valid datasets.... \u001b[0m\n"
     ]
    },
    {
     "name": "stderr",
     "output_type": "stream",
     "text": [
      "1220it [00:01, 845.60it/s]\n",
      "1220it [00:02, 478.96it/s]\n"
     ]
    },
    {
     "name": "stdout",
     "output_type": "stream",
     "text": [
      "\u001b[95m Preparing Dataloaders Datasets.... \u001b[0m\n"
     ]
    },
    {
     "data": {
      "application/vnd.jupyter.widget-view+json": {
       "model_id": "318ba92b304d48cfb517aea974a3a6f3",
       "version_major": 2,
       "version_minor": 0
      },
      "text/plain": [
       "HBox(children=(IntProgress(value=0, description='Downloading', max=501200538, style=ProgressStyle(description_…"
      ]
     },
     "metadata": {
      "tags": []
     },
     "output_type": "display_data"
    },
    {
     "name": "stdout",
     "output_type": "stream",
     "text": [
      "\n"
     ]
    },
    {
     "name": "stderr",
     "output_type": "stream",
     "text": [
      "0it [00:00, ?it/s]"
     ]
    },
    {
     "name": "stdout",
     "output_type": "stream",
     "text": [
      "Training....\n"
     ]
    },
    {
     "name": "stderr",
     "output_type": "stream",
     "text": [
      "608it [04:52,  2.49it/s]\n",
      "153it [00:23,  6.60it/s]\n",
      "0it [00:00, ?it/s]"
     ]
    },
    {
     "name": "stdout",
     "output_type": "stream",
     "text": [
      "\r",
      " val_spearman-rho: 0.38618                                                                                                    \n",
      "0 SpearmanrResult(correlation=0.32600146937253105, pvalue=1.3349457232175248e-31)\n",
      "1 SpearmanrResult(correlation=0.5418401281016773, pvalue=5.007802526139365e-94)\n",
      "2 SpearmanrResult(correlation=0.39005947217835946, pvalue=1.2982140648833753e-45)\n",
      "3 SpearmanrResult(correlation=0.1888826591005634, pvalue=2.919485028894635e-11)\n",
      "4 SpearmanrResult(correlation=0.35490178243717824, pvalue=1.5866439424941076e-37)\n",
      "5 SpearmanrResult(correlation=0.4002434636553897, pvalue=3.798303120341026e-48)\n",
      "6 SpearmanrResult(correlation=0.368765974144279, pvalue=1.3504568244667282e-40)\n",
      "7 SpearmanrResult(correlation=0.4510385600218154, pvalue=3.5228484997453047e-62)\n",
      "8 SpearmanrResult(correlation=0.5237831054025975, pvalue=6.641444052886354e-87)\n",
      "9 SpearmanrResult(correlation=0.07582963049916674, pvalue=0.008055949946148956)\n",
      "10 SpearmanrResult(correlation=0.4319305686355766, pvalue=1.285326491736078e-56)\n",
      "11 SpearmanrResult(correlation=0.7120429629617432, pvalue=2.800076397619757e-189)\n",
      "12 SpearmanrResult(correlation=0.31915706570963936, pvalue=2.7421762731918862e-30)\n",
      "13 SpearmanrResult(correlation=0.1465681896133127, pvalue=2.7189988931388427e-07)\n",
      "14 SpearmanrResult(correlation=0.37062175326735564, pvalue=5.104603937752209e-41)\n",
      "15 SpearmanrResult(correlation=0.3915015539937268, pvalue=5.753591175975074e-46)\n",
      "16 SpearmanrResult(correlation=0.7536395571425595, pvalue=3.2209256953877106e-224)\n",
      "17 SpearmanrResult(correlation=0.2669862762176947, pvalue=2.3409056529936194e-21)\n",
      "18 SpearmanrResult(correlation=0.654380916970914, pvalue=4.986053904146714e-150)\n",
      "19 SpearmanrResult(correlation=0.02548567611260678, pvalue=0.37378365351519516)\n",
      "20 SpearmanrResult(correlation=0.41617874540065625, pvalue=2.7128794081000343e-52)\n"
     ]
    },
    {
     "name": "stderr",
     "output_type": "stream",
     "text": [
      "608it [04:52,  2.50it/s]\n",
      "153it [00:23,  6.62it/s]\n",
      "0it [00:00, ?it/s]"
     ]
    },
    {
     "name": "stdout",
     "output_type": "stream",
     "text": [
      "\r",
      " val_spearman-rho: 0.26345                                                                                                    \n",
      "0 SpearmanrResult(correlation=0.10218248264292458, pvalue=0.0003505189791092977)\n",
      "1 SpearmanrResult(correlation=0.2502815467061324, pvalue=7.017668652667583e-19)\n",
      "2 SpearmanrResult(correlation=0.04721220330619647, pvalue=0.09929520020889163)\n",
      "3 SpearmanrResult(correlation=0.0796592543115267, pvalue=0.005370115346470667)\n",
      "4 SpearmanrResult(correlation=0.16623426994636065, pvalue=5.187373967239404e-09)\n",
      "5 SpearmanrResult(correlation=0.7164298932797278, pvalue=1.1508137484916779e-192)\n",
      "6 SpearmanrResult(correlation=0.2738276909985408, pvalue=2.0083483740066345e-22)\n",
      "7 SpearmanrResult(correlation=0.6261203842520972, pvalue=8.860707812374177e-134)\n",
      "8 SpearmanrResult(correlation=0.10906657736915538, pvalue=0.00013507405016620474)\n",
      "\u001b[93m Epoch 1/5 \t Train loss Q=3.6283 \t Val loss Q=3.3496 \t  Score Q=0.38618 \t Train loss A=3.0426 \t Val loss A=2.8703 \t Score A=0.26345  \t score=0.349362 \t time=632.47s \u001b[0m\n"
     ]
    },
    {
     "name": "stderr",
     "output_type": "stream",
     "text": [
      "608it [04:52,  2.50it/s]\n",
      "153it [00:23,  6.60it/s]\n",
      "0it [00:00, ?it/s]"
     ]
    },
    {
     "name": "stdout",
     "output_type": "stream",
     "text": [
      "\r",
      " val_spearman-rho: 0.41825                                                                                                    \n",
      "0 SpearmanrResult(correlation=0.38203679130853135, pvalue=1.115675493467777e-43)\n",
      "1 SpearmanrResult(correlation=0.6209731302512935, pvalue=5.356613133183759e-131)\n",
      "2 SpearmanrResult(correlation=0.3996242271172965, pvalue=5.447530848831389e-48)\n",
      "3 SpearmanrResult(correlation=0.2911036349652532, pvalue=2.9608946418994437e-25)\n",
      "4 SpearmanrResult(correlation=0.3714908753021834, pvalue=3.2294589165718397e-41)\n",
      "5 SpearmanrResult(correlation=0.42554592267146907, pvalue=7.754103263439132e-55)\n",
      "6 SpearmanrResult(correlation=0.3662659915106118, pvalue=4.957995999765197e-40)\n",
      "7 SpearmanrResult(correlation=0.46442831819764074, pvalue=2.707881596507114e-66)\n",
      "8 SpearmanrResult(correlation=0.5807025563290878, pvalue=6.4587752316037176e-111)\n",
      "9 SpearmanrResult(correlation=0.05848119421593151, pvalue=0.041120345641866236)\n",
      "10 SpearmanrResult(correlation=0.44183813071532096, pvalue=1.8595225620612163e-59)\n",
      "11 SpearmanrResult(correlation=0.7238499717553185, pvalue=1.5296488748518102e-198)\n",
      "12 SpearmanrResult(correlation=0.37136386094239626, pvalue=3.4532285333937163e-41)\n",
      "13 SpearmanrResult(correlation=0.16291627639227763, pvalue=1.0474417335927768e-08)\n",
      "14 SpearmanrResult(correlation=0.3816582300429449, pvalue=1.3723977582840123e-43)\n",
      "15 SpearmanrResult(correlation=0.4637656844238558, pvalue=4.3709225351619425e-66)\n",
      "16 SpearmanrResult(correlation=0.7589711763257873, pvalue=3.3198020078467055e-229)\n",
      "17 SpearmanrResult(correlation=0.3139013278898976, pvalue=2.6495878834401963e-29)\n",
      "18 SpearmanrResult(correlation=0.6728212144698296, pvalue=1.3049934801000306e-161)\n",
      "19 SpearmanrResult(correlation=0.04193918258711138, pvalue=0.14318979353844408)\n",
      "20 SpearmanrResult(correlation=0.4896190052669239, pvalue=1.5086682188610318e-74)\n"
     ]
    },
    {
     "name": "stderr",
     "output_type": "stream",
     "text": [
      "608it [04:52,  2.50it/s]\n",
      "153it [00:23,  6.62it/s]\n",
      "0it [00:00, ?it/s]"
     ]
    },
    {
     "name": "stdout",
     "output_type": "stream",
     "text": [
      "\r",
      " val_spearman-rho: 0.31432                                                                                                    \n",
      "0 SpearmanrResult(correlation=0.1941177227876379, pvalue=8.006105926232585e-12)\n",
      "1 SpearmanrResult(correlation=0.281746961115441, pvalue=1.0708097053160644e-23)\n",
      "2 SpearmanrResult(correlation=0.12768875001294724, pvalue=7.686729001995235e-06)\n",
      "3 SpearmanrResult(correlation=0.14763870242377458, pvalue=2.219780568612537e-07)\n",
      "4 SpearmanrResult(correlation=0.2489681712488314, pvalue=1.079865057864729e-18)\n",
      "5 SpearmanrResult(correlation=0.735036209390488, pvalue=8.951882790070929e-208)\n",
      "6 SpearmanrResult(correlation=0.3009875460975281, pvalue=5.7627518818879e-27)\n",
      "7 SpearmanrResult(correlation=0.650856121665945, pvalue=6.602006648510427e-148)\n",
      "8 SpearmanrResult(correlation=0.14187936089286207, pvalue=6.499763362491189e-07)\n",
      "\u001b[93m Epoch 2/5 \t Train loss Q=3.2837 \t Val loss Q=3.2666 \t  Score Q=0.41825 \t Train loss A=2.8746 \t Val loss A=2.8265 \t Score A=0.31432  \t score=0.387074 \t time=632.54s \u001b[0m\n"
     ]
    },
    {
     "name": "stderr",
     "output_type": "stream",
     "text": [
      "608it [04:52,  2.49it/s]\n",
      "153it [00:23,  6.60it/s]\n",
      "0it [00:00, ?it/s]"
     ]
    },
    {
     "name": "stdout",
     "output_type": "stream",
     "text": [
      "\r",
      " val_spearman-rho: 0.43334                                                                                                    \n",
      "0 SpearmanrResult(correlation=0.3841900662357589, pvalue=3.4172910209034566e-44)\n",
      "1 SpearmanrResult(correlation=0.6453485013159159, pvalue=1.1997549547393357e-144)\n",
      "2 SpearmanrResult(correlation=0.4199655665792398, pvalue=2.5983912888334685e-53)\n",
      "3 SpearmanrResult(correlation=0.28904934531310683, pvalue=6.585916202492569e-25)\n",
      "4 SpearmanrResult(correlation=0.40909465165190945, pvalue=2.0156970981936773e-50)\n",
      "5 SpearmanrResult(correlation=0.437035742263392, pvalue=4.545551409257479e-58)\n",
      "6 SpearmanrResult(correlation=0.3931955973545489, pvalue=2.2005468766162896e-46)\n",
      "7 SpearmanrResult(correlation=0.4948495587244089, pvalue=2.3799168375934504e-76)\n",
      "8 SpearmanrResult(correlation=0.5944318386664763, pvalue=1.915100785242898e-117)\n",
      "9 SpearmanrResult(correlation=0.08862470315274139, pvalue=0.0019453372726032855)\n",
      "10 SpearmanrResult(correlation=0.49527431207162137, pvalue=1.6937457841130523e-76)\n",
      "11 SpearmanrResult(correlation=0.7276626480268567, pvalue=1.2290495819094668e-201)\n",
      "12 SpearmanrResult(correlation=0.37406223460101595, pvalue=8.265997543226634e-42)\n",
      "13 SpearmanrResult(correlation=0.1665095654296006, pvalue=4.890452965673973e-09)\n",
      "14 SpearmanrResult(correlation=0.3841164863563775, pvalue=3.5588083582729904e-44)\n",
      "15 SpearmanrResult(correlation=0.4740636633696252, pvalue=2.273351108074846e-69)\n",
      "16 SpearmanrResult(correlation=0.7616788234504371, pvalue=8.67807380731992e-232)\n",
      "17 SpearmanrResult(correlation=0.3471717842785519, pvalue=7.031646034665353e-36)\n",
      "18 SpearmanrResult(correlation=0.6800410854551623, pvalue=2.2298557753330024e-166)\n",
      "19 SpearmanrResult(correlation=0.03509314317988744, pvalue=0.22062360688412727)\n",
      "20 SpearmanrResult(correlation=0.4987838355870906, pvalue=1.0008402636229706e-77)\n"
     ]
    },
    {
     "name": "stderr",
     "output_type": "stream",
     "text": [
      "608it [04:52,  2.50it/s]\n",
      "153it [00:23,  6.59it/s]\n",
      "0it [00:00, ?it/s]"
     ]
    },
    {
     "name": "stdout",
     "output_type": "stream",
     "text": [
      "\r",
      " val_spearman-rho: 0.32344                                                                                                    \n",
      "0 SpearmanrResult(correlation=0.2051715233143415, pvalue=4.617685601068291e-13)\n",
      "1 SpearmanrResult(correlation=0.31390347070843594, pvalue=2.6471631958103834e-29)\n",
      "2 SpearmanrResult(correlation=0.11233850761849148, pvalue=8.41558139601664e-05)\n",
      "3 SpearmanrResult(correlation=0.15894231341324955, pvalue=2.385329061216957e-08)\n",
      "4 SpearmanrResult(correlation=0.26844910717091885, pvalue=1.3928677049648268e-21)\n",
      "5 SpearmanrResult(correlation=0.7391835565717079, pvalue=2.5605714900381672e-211)\n",
      "6 SpearmanrResult(correlation=0.29797011580303606, pvalue=1.9499944360125906e-26)\n",
      "7 SpearmanrResult(correlation=0.6617987656587421, pvalue=1.3734110001427951e-154)\n",
      "8 SpearmanrResult(correlation=0.15324240214364573, pvalue=7.496745113656565e-08)\n",
      "\u001b[93m Epoch 3/5 \t Train loss Q=3.1543 \t Val loss Q=3.2316 \t  Score Q=0.43334 \t Train loss A=2.7849 \t Val loss A=2.8187 \t Score A=0.32344  \t score=0.400375 \t time=633.01s \u001b[0m\n"
     ]
    },
    {
     "name": "stderr",
     "output_type": "stream",
     "text": [
      "608it [04:52,  2.49it/s]\n",
      "153it [00:23,  6.60it/s]\n",
      "0it [00:00, ?it/s]"
     ]
    },
    {
     "name": "stdout",
     "output_type": "stream",
     "text": [
      "\r",
      " val_spearman-rho: 0.436                                                                                                    \n",
      "0 SpearmanrResult(correlation=0.3866829153163344, pvalue=8.589484325177877e-45)\n",
      "1 SpearmanrResult(correlation=0.6561382923058839, pvalue=4.257304126087151e-151)\n",
      "2 SpearmanrResult(correlation=0.4182559646116028, pvalue=7.5203121354440425e-53)\n",
      "3 SpearmanrResult(correlation=0.29591791997852357, pvalue=4.430998244316944e-26)\n",
      "4 SpearmanrResult(correlation=0.4074827458019534, pvalue=5.2953364922800315e-50)\n",
      "5 SpearmanrResult(correlation=0.44342406652702104, pvalue=6.39808611552427e-60)\n",
      "6 SpearmanrResult(correlation=0.40339544550823714, pvalue=5.987693364387061e-49)\n",
      "7 SpearmanrResult(correlation=0.4972208445069972, pvalue=3.541981162634903e-77)\n",
      "8 SpearmanrResult(correlation=0.6020181809885885, pvalue=3.451227848620803e-121)\n",
      "9 SpearmanrResult(correlation=0.08550062567971763, pvalue=0.00280055613819551)\n",
      "10 SpearmanrResult(correlation=0.4970927531325655, pvalue=3.927375798641485e-77)\n",
      "11 SpearmanrResult(correlation=0.7226714974918733, pvalue=1.3511978169168139e-197)\n",
      "12 SpearmanrResult(correlation=0.36736553997997495, pvalue=2.80219735794687e-40)\n",
      "13 SpearmanrResult(correlation=0.1760691352742379, pvalue=5.942091403953432e-10)\n",
      "14 SpearmanrResult(correlation=0.38289148519118044, pvalue=6.982888766517092e-44)\n",
      "15 SpearmanrResult(correlation=0.46641852650120175, pvalue=6.387295741186407e-67)\n",
      "16 SpearmanrResult(correlation=0.7609094411918002, pvalue=4.740239463923621e-231)\n",
      "17 SpearmanrResult(correlation=0.35622464788922886, pvalue=8.20480296071436e-38)\n",
      "18 SpearmanrResult(correlation=0.6755795923693471, pvalue=2.043259819122314e-163)\n",
      "19 SpearmanrResult(correlation=0.04757709739306051, pvalue=0.09670666602538168)\n",
      "20 SpearmanrResult(correlation=0.5071505968808017, pvalue=1.0309488424981065e-80)\n"
     ]
    },
    {
     "name": "stderr",
     "output_type": "stream",
     "text": [
      "608it [04:52,  2.48it/s]\n",
      "153it [00:23,  6.62it/s]\n",
      "0it [00:00, ?it/s]"
     ]
    },
    {
     "name": "stdout",
     "output_type": "stream",
     "text": [
      "\r",
      " val_spearman-rho: 0.33927                                                                                                    \n",
      "0 SpearmanrResult(correlation=0.2280967153011133, pvalue=7.295955706619747e-16)\n",
      "1 SpearmanrResult(correlation=0.3332314077237838, pvalue=5.032747170821536e-33)\n",
      "2 SpearmanrResult(correlation=0.1669749006816535, pvalue=4.425709325997213e-09)\n",
      "3 SpearmanrResult(correlation=0.1707686771041059, pvalue=1.940353084776124e-09)\n",
      "4 SpearmanrResult(correlation=0.3042979990855436, pvalue=1.487839498238287e-27)\n",
      "5 SpearmanrResult(correlation=0.735246906411222, pvalue=5.936170068806969e-208)\n",
      "6 SpearmanrResult(correlation=0.2915861818459604, pvalue=2.4516155002787556e-25)\n",
      "7 SpearmanrResult(correlation=0.6599593654710062, pvalue=1.9083998269965394e-153)\n",
      "8 SpearmanrResult(correlation=0.16329021712967973, pvalue=9.683755286700859e-09)\n",
      "\u001b[93m Epoch 4/5 \t Train loss Q=3.0636 \t Val loss Q=3.2292 \t  Score Q=0.43600 \t Train loss A=2.6837 \t Val loss A=2.8298 \t Score A=0.33927  \t score=0.406981 \t time=632.03s \u001b[0m\n"
     ]
    },
    {
     "name": "stderr",
     "output_type": "stream",
     "text": [
      "608it [04:52,  2.50it/s]\n",
      "153it [00:23,  6.61it/s]\n",
      "0it [00:00, ?it/s]"
     ]
    },
    {
     "name": "stdout",
     "output_type": "stream",
     "text": [
      "\r",
      " val_spearman-rho: 0.43663                                                                                                    \n",
      "0 SpearmanrResult(correlation=0.39073041612210063, pvalue=8.89485331476326e-46)\n",
      "1 SpearmanrResult(correlation=0.6557723595920996, pvalue=7.11609882007515e-151)\n",
      "2 SpearmanrResult(correlation=0.4210338173454334, pvalue=1.3333937940561916e-53)\n",
      "3 SpearmanrResult(correlation=0.298261027468708, pvalue=1.7348710518694392e-26)\n",
      "4 SpearmanrResult(correlation=0.40772684677312054, pvalue=4.576344754028117e-50)\n",
      "5 SpearmanrResult(correlation=0.4463522693761833, pvalue=8.791480810014932e-61)\n",
      "6 SpearmanrResult(correlation=0.39784261250398595, pvalue=1.5308559955658844e-47)\n",
      "7 SpearmanrResult(correlation=0.4958334637992312, pvalue=1.0816286183630769e-76)\n",
      "8 SpearmanrResult(correlation=0.5980612530567376, pvalue=3.187145282402148e-119)\n",
      "9 SpearmanrResult(correlation=0.08850568126848862, pvalue=0.001972941568060902)\n",
      "10 SpearmanrResult(correlation=0.4950905804358198, pvalue=1.962315649262097e-76)\n",
      "11 SpearmanrResult(correlation=0.7231185003124446, pvalue=5.921417427029309e-198)\n",
      "12 SpearmanrResult(correlation=0.36930403724660743, pvalue=1.0192032383111724e-40)\n",
      "13 SpearmanrResult(correlation=0.18067272768425546, pvalue=2.0635135799564697e-10)\n",
      "14 SpearmanrResult(correlation=0.3822340547468403, pvalue=1.0014359595987682e-43)\n",
      "15 SpearmanrResult(correlation=0.46907923938226775, pvalue=9.123473557544199e-68)\n",
      "16 SpearmanrResult(correlation=0.7612015963173956, pvalue=2.4895899697553196e-231)\n",
      "17 SpearmanrResult(correlation=0.35765302759125955, pvalue=4.0112709336610854e-38)\n",
      "18 SpearmanrResult(correlation=0.6748066444832674, pvalue=6.57935566280718e-163)\n",
      "19 SpearmanrResult(correlation=0.04642650253470355, pvalue=0.10505630192464584)\n",
      "20 SpearmanrResult(correlation=0.5095591808135498, pvalue=1.3734284301924646e-81)\n"
     ]
    },
    {
     "name": "stderr",
     "output_type": "stream",
     "text": [
      "608it [04:52,  2.50it/s]\n",
      "153it [00:23,  6.62it/s]\n",
      "100%|██████████| 5/5 [52:43<00:00, 632.61s/it]\n"
     ]
    },
    {
     "name": "stdout",
     "output_type": "stream",
     "text": [
      "\r",
      " val_spearman-rho: 0.33804                                                                                                    \n",
      "0 SpearmanrResult(correlation=0.22718596044363162, pvalue=9.559414739567222e-16)\n",
      "1 SpearmanrResult(correlation=0.3308249979898329, pvalue=1.5132835635600534e-32)\n",
      "2 SpearmanrResult(correlation=0.1603574714870365, pvalue=1.7835217257773027e-08)\n",
      "3 SpearmanrResult(correlation=0.17368466723241058, pvalue=1.016510299448395e-09)\n",
      "4 SpearmanrResult(correlation=0.3096060978518268, pvalue=1.6354696269722615e-28)\n",
      "5 SpearmanrResult(correlation=0.7333957341723644, pvalue=2.1635028300040106e-206)\n",
      "6 SpearmanrResult(correlation=0.2888336750649005, pvalue=7.159791231154517e-25)\n",
      "7 SpearmanrResult(correlation=0.6579531041350299, pvalue=3.2962923045613797e-152)\n",
      "8 SpearmanrResult(correlation=0.16052905199308795, pvalue=1.7214444724434213e-08)\n",
      "\u001b[93m Epoch 5/5 \t Train loss Q=3.0143 \t Val loss Q=3.2316 \t  Score Q=0.43663 \t Train loss A=2.6232 \t Val loss A=2.8429 \t Score A=0.33804  \t score=0.407055 \t time=632.81s \u001b[0m\n"
     ]
    },
    {
     "name": "stderr",
     "output_type": "stream",
     "text": [
      "82it [00:00, 815.39it/s]"
     ]
    },
    {
     "name": "stdout",
     "output_type": "stream",
     "text": [
      "\u001b[95m Current Fold: 1 \u001b[0m\n",
      "Train and Valid Shapes are (4866, 43) (1213, 43)\n",
      "\u001b[95m Preparing train datasets.... \u001b[0m\n"
     ]
    },
    {
     "name": "stderr",
     "output_type": "stream",
     "text": [
      "4866it [00:05, 943.86it/s]\n",
      "4866it [00:09, 500.86it/s]\n",
      "78it [00:00, 773.00it/s]"
     ]
    },
    {
     "name": "stdout",
     "output_type": "stream",
     "text": [
      "\u001b[95m Preparing Valid datasets.... \u001b[0m\n"
     ]
    },
    {
     "name": "stderr",
     "output_type": "stream",
     "text": [
      "1213it [00:01, 964.59it/s]\n",
      "1213it [00:02, 566.13it/s]\n"
     ]
    },
    {
     "name": "stdout",
     "output_type": "stream",
     "text": [
      "\u001b[95m Preparing Dataloaders Datasets.... \u001b[0m\n"
     ]
    },
    {
     "name": "stderr",
     "output_type": "stream",
     "text": [
      "0it [00:00, ?it/s]"
     ]
    },
    {
     "name": "stdout",
     "output_type": "stream",
     "text": [
      "Training....\n"
     ]
    },
    {
     "name": "stderr",
     "output_type": "stream",
     "text": [
      "609it [04:53,  2.61it/s]\n",
      "152it [00:23,  7.15it/s]\n",
      "0it [00:00, ?it/s]"
     ]
    },
    {
     "name": "stdout",
     "output_type": "stream",
     "text": [
      "\r",
      " val_spearman-rho: 0.37596                                                                                                    \n",
      "0 SpearmanrResult(correlation=0.30771858256924195, pvalue=5.120723292561642e-28)\n",
      "1 SpearmanrResult(correlation=0.4919568262712301, pvalue=6.301961244856399e-75)\n",
      "2 SpearmanrResult(correlation=0.3882511511441774, pvalue=6.362382021032361e-45)\n",
      "3 SpearmanrResult(correlation=0.26222465643030834, pvalue=1.596601205248794e-20)\n",
      "4 SpearmanrResult(correlation=0.3257843159642286, pvalue=2.184815447715833e-31)\n",
      "5 SpearmanrResult(correlation=0.39657942039762556, pvalue=5.7912929982813835e-47)\n",
      "6 SpearmanrResult(correlation=0.3227710115356125, pvalue=8.273590735305389e-31)\n",
      "7 SpearmanrResult(correlation=0.4319995280857329, pvalue=2.539772638037117e-56)\n",
      "8 SpearmanrResult(correlation=0.49281645110606576, pvalue=3.19793838569952e-75)\n",
      "9 SpearmanrResult(correlation=0.0199389237065278, pvalue=0.48781465029940385)\n",
      "10 SpearmanrResult(correlation=0.39642500357251614, pvalue=6.326313061777656e-47)\n",
      "11 SpearmanrResult(correlation=0.7323930080032289, pvalue=2.2148472514761743e-204)\n",
      "12 SpearmanrResult(correlation=0.2989262686089221, pvalue=1.8470166695492234e-26)\n",
      "13 SpearmanrResult(correlation=0.10733933051906933, pvalue=0.0001801054554381493)\n",
      "14 SpearmanrResult(correlation=0.32844665744490786, pvalue=6.653009772218758e-32)\n",
      "15 SpearmanrResult(correlation=0.375104264305985, pvalue=8.084777233898845e-42)\n",
      "16 SpearmanrResult(correlation=0.7720446537117507, pvalue=1.264282972805842e-240)\n",
      "17 SpearmanrResult(correlation=0.3598417000031509, pvalue=2.1677047684127954e-38)\n",
      "18 SpearmanrResult(correlation=0.6409747221788481, pvalue=2.662713470174308e-141)\n",
      "19 SpearmanrResult(correlation=0.03347646978155893, pvalue=0.24399957315319556)\n",
      "20 SpearmanrResult(correlation=0.4100467655655789, pvalue=2.1708721064990235e-50)\n"
     ]
    },
    {
     "name": "stderr",
     "output_type": "stream",
     "text": [
      "609it [04:53,  2.61it/s]\n",
      "152it [00:22,  7.20it/s]\n",
      "0it [00:00, ?it/s]"
     ]
    },
    {
     "name": "stdout",
     "output_type": "stream",
     "text": [
      "\r",
      " val_spearman-rho: 0.27965                                                                                                    \n",
      "0 SpearmanrResult(correlation=0.165616444408481, pvalue=6.541894670058872e-09)\n",
      "1 SpearmanrResult(correlation=0.2827026867840498, pvalue=1.0024983724881719e-23)\n",
      "2 SpearmanrResult(correlation=0.05406167393229864, pvalue=0.059794826811627066)\n",
      "3 SpearmanrResult(correlation=0.10471501394267656, pvalue=0.00025887341220790617)\n",
      "4 SpearmanrResult(correlation=0.18256051386475486, pvalue=1.497855358236524e-10)\n",
      "5 SpearmanrResult(correlation=0.7429954511147369, pvalue=2.0561005421802737e-213)\n",
      "6 SpearmanrResult(correlation=0.2039985356002544, pvalue=7.33041500734592e-13)\n",
      "7 SpearmanrResult(correlation=0.6690980326439002, pvalue=2.6611003588709794e-158)\n",
      "8 SpearmanrResult(correlation=0.11105996699601832, pvalue=0.00010617836052107133)\n",
      "\u001b[93m Epoch 1/5 \t Train loss Q=3.6420 \t Val loss Q=3.3974 \t  Score Q=0.37596 \t Train loss A=3.0263 \t Val loss A=3.0014 \t Score A=0.27965  \t score=0.347062 \t time=633.95s \u001b[0m\n"
     ]
    },
    {
     "name": "stderr",
     "output_type": "stream",
     "text": [
      "609it [04:53,  2.60it/s]\n",
      "152it [00:23,  7.20it/s]\n",
      "0it [00:00, ?it/s]"
     ]
    },
    {
     "name": "stdout",
     "output_type": "stream",
     "text": [
      "\r",
      " val_spearman-rho: 0.41548                                                                                                    \n",
      "0 SpearmanrResult(correlation=0.34336018032468746, pvalue=6.824325067689011e-35)\n",
      "1 SpearmanrResult(correlation=0.5822121039498588, pvalue=5.4707700710564274e-111)\n",
      "2 SpearmanrResult(correlation=0.4283959873983814, pvalue=2.563775600058114e-55)\n",
      "3 SpearmanrResult(correlation=0.3277610819276167, pvalue=9.046633144970466e-32)\n",
      "4 SpearmanrResult(correlation=0.40383464879064523, pvalue=8.642202000744523e-49)\n",
      "5 SpearmanrResult(correlation=0.4109220248063474, pvalue=1.2837190736830558e-50)\n",
      "6 SpearmanrResult(correlation=0.3272206757266261, pvalue=1.152001669966164e-31)\n",
      "7 SpearmanrResult(correlation=0.4722999424823955, pvalue=2.0511296846491576e-68)\n",
      "8 SpearmanrResult(correlation=0.560927088481842, pvalue=1.8184797673271565e-101)\n",
      "9 SpearmanrResult(correlation=0.03027936796863214, pvalue=0.2920071431693644)\n",
      "10 SpearmanrResult(correlation=0.4971973643774507, pvalue=9.780182117942832e-77)\n",
      "11 SpearmanrResult(correlation=0.7466720054716058, pvalue=1.1912738805313243e-216)\n",
      "12 SpearmanrResult(correlation=0.34317088024676423, pvalue=7.465102715417559e-35)\n",
      "13 SpearmanrResult(correlation=0.14058691489267633, pvalue=8.8435614969206e-07)\n",
      "14 SpearmanrResult(correlation=0.3474634400629008, pvalue=9.606685331738954e-36)\n",
      "15 SpearmanrResult(correlation=0.41716525351358774, pvalue=2.891732549939363e-52)\n",
      "16 SpearmanrResult(correlation=0.7738246254273418, pvalue=2.011189662239138e-242)\n",
      "17 SpearmanrResult(correlation=0.38166516495329855, pvalue=2.3789201638809965e-43)\n",
      "18 SpearmanrResult(correlation=0.6788027219463062, pvalue=1.3054874321401879e-164)\n",
      "19 SpearmanrResult(correlation=0.047176613943861426, pvalue=0.10052896318046878)\n",
      "20 SpearmanrResult(correlation=0.46424370999323933, pvalue=7.258044897983633e-66)\n"
     ]
    },
    {
     "name": "stderr",
     "output_type": "stream",
     "text": [
      "609it [04:53,  2.60it/s]\n",
      "152it [00:22,  7.20it/s]\n",
      "0it [00:00, ?it/s]"
     ]
    },
    {
     "name": "stdout",
     "output_type": "stream",
     "text": [
      "\r",
      " val_spearman-rho: 0.28173                                                                                                    \n",
      "0 SpearmanrResult(correlation=0.17490543798926067, pvalue=8.640883837542867e-10)\n",
      "1 SpearmanrResult(correlation=0.2087237379968188, pvalue=2.0887659443181724e-13)\n",
      "2 SpearmanrResult(correlation=0.06614648526606248, pvalue=0.021227807115923265)\n",
      "3 SpearmanrResult(correlation=0.1318583943750421, pvalue=4.069879498345148e-06)\n",
      "4 SpearmanrResult(correlation=0.16128363110607144, pvalue=1.6191347740111784e-08)\n",
      "5 SpearmanrResult(correlation=0.7583616207036248, pvalue=2.5125318058404667e-227)\n",
      "6 SpearmanrResult(correlation=0.2442022080279054, pvalue=6.28258751547763e-18)\n",
      "7 SpearmanrResult(correlation=0.6778468553634893, pvalue=5.597877021404889e-164)\n",
      "8 SpearmanrResult(correlation=0.11220608265227733, pvalue=8.992793345522362e-05)\n",
      "\u001b[93m Epoch 2/5 \t Train loss Q=3.2922 \t Val loss Q=3.2816 \t  Score Q=0.41548 \t Train loss A=2.8383 \t Val loss A=3.0141 \t Score A=0.28173  \t score=0.375357 \t time=633.57s \u001b[0m\n"
     ]
    },
    {
     "name": "stderr",
     "output_type": "stream",
     "text": [
      "609it [04:53,  2.60it/s]\n",
      "152it [00:23,  7.19it/s]\n",
      "0it [00:00, ?it/s]"
     ]
    },
    {
     "name": "stdout",
     "output_type": "stream",
     "text": [
      "\r",
      " val_spearman-rho: 0.42724                                                                                                    \n",
      "0 SpearmanrResult(correlation=0.36106052876314443, pvalue=1.1721703529142774e-38)\n",
      "1 SpearmanrResult(correlation=0.5910563841390153, pvalue=3.72225882451737e-115)\n",
      "2 SpearmanrResult(correlation=0.43944183410197807, pvalue=1.960005472299956e-58)\n",
      "3 SpearmanrResult(correlation=0.3424054226109344, pvalue=1.0724219194236048e-34)\n",
      "4 SpearmanrResult(correlation=0.40933863964328104, pvalue=3.3169082648745334e-50)\n",
      "5 SpearmanrResult(correlation=0.4268077437344866, pvalue=7.040091667865393e-55)\n",
      "6 SpearmanrResult(correlation=0.3594896127504838, pvalue=2.587712470149672e-38)\n",
      "7 SpearmanrResult(correlation=0.49370525882976957, pvalue=1.5826263419757408e-75)\n",
      "8 SpearmanrResult(correlation=0.5651301496067269, pvalue=2.7178638328677596e-103)\n",
      "9 SpearmanrResult(correlation=0.02571223690175767, pvalue=0.3709291445042131)\n",
      "10 SpearmanrResult(correlation=0.5089396174944725, pvalue=6.615860604672746e-81)\n",
      "11 SpearmanrResult(correlation=0.7641678736934227, pvalue=7.3764286122687155e-233)\n",
      "12 SpearmanrResult(correlation=0.3410210479733212, pvalue=2.0596321875979973e-34)\n",
      "13 SpearmanrResult(correlation=0.15017558519312865, pvalue=1.4820799150023206e-07)\n",
      "14 SpearmanrResult(correlation=0.34618755521446415, pvalue=1.772971317044859e-35)\n",
      "15 SpearmanrResult(correlation=0.43777505686705154, pvalue=5.8880076838736696e-58)\n",
      "16 SpearmanrResult(correlation=0.7799241271227704, pvalue=1.0320628367950166e-248)\n",
      "17 SpearmanrResult(correlation=0.38138291263014135, pvalue=2.773200612970475e-43)\n",
      "18 SpearmanrResult(correlation=0.6899661556101209, pvalue=3.543269319571154e-172)\n",
      "19 SpearmanrResult(correlation=0.05756033520855864, pvalue=0.04503632765183205)\n",
      "20 SpearmanrResult(correlation=0.5008786757881762, pvalue=5.018164394193891e-78)\n"
     ]
    },
    {
     "name": "stderr",
     "output_type": "stream",
     "text": [
      "609it [04:52,  2.62it/s]\n",
      "152it [00:22,  7.20it/s]\n",
      "0it [00:00, ?it/s]"
     ]
    },
    {
     "name": "stdout",
     "output_type": "stream",
     "text": [
      "\r",
      " val_spearman-rho: 0.32705                                                                                                    \n",
      "0 SpearmanrResult(correlation=0.22449926661955205, pvalue=2.5320974313698466e-15)\n",
      "1 SpearmanrResult(correlation=0.33335250138226563, pvalue=7.209804743682853e-33)\n",
      "2 SpearmanrResult(correlation=0.08536255226511522, pvalue=0.0029261937242120355)\n",
      "3 SpearmanrResult(correlation=0.14698174613953485, pvalue=2.7215682849527817e-07)\n",
      "4 SpearmanrResult(correlation=0.2750572034595873, pvalue=1.6932237638796624e-22)\n",
      "5 SpearmanrResult(correlation=0.7605542430688218, pvalue=2.1356604484674437e-229)\n",
      "6 SpearmanrResult(correlation=0.26265522101007654, pvalue=1.3761806504543576e-20)\n",
      "7 SpearmanrResult(correlation=0.7130409748741999, pvalue=5.796075400376088e-189)\n",
      "8 SpearmanrResult(correlation=0.1419684911855371, pvalue=6.885423841852034e-07)\n",
      "\u001b[93m Epoch 3/5 \t Train loss Q=3.1563 \t Val loss Q=3.2401 \t  Score Q=0.42724 \t Train loss A=2.7210 \t Val loss A=2.9057 \t Score A=0.32705  \t score=0.397187 \t time=632.97s \u001b[0m\n"
     ]
    },
    {
     "name": "stderr",
     "output_type": "stream",
     "text": [
      "609it [04:53,  2.60it/s]\n",
      "152it [00:23,  7.16it/s]\n",
      "0it [00:00, ?it/s]"
     ]
    },
    {
     "name": "stdout",
     "output_type": "stream",
     "text": [
      "\r",
      " val_spearman-rho: 0.43139                                                                                                    \n",
      "0 SpearmanrResult(correlation=0.3586652806028796, pvalue=3.9139833503734056e-38)\n",
      "1 SpearmanrResult(correlation=0.6151875782061186, pvalue=3.29617445424945e-127)\n",
      "2 SpearmanrResult(correlation=0.43924993889259667, pvalue=2.2253162824256676e-58)\n",
      "3 SpearmanrResult(correlation=0.3415961768012815, pvalue=1.5711494823970067e-34)\n",
      "4 SpearmanrResult(correlation=0.4135118069428616, pvalue=2.6876510247936424e-51)\n",
      "5 SpearmanrResult(correlation=0.43280448664280047, pvalue=1.5095138686346558e-56)\n",
      "6 SpearmanrResult(correlation=0.3580337405110268, pvalue=5.369522142057123e-38)\n",
      "7 SpearmanrResult(correlation=0.49185693279396947, pvalue=6.817987332509664e-75)\n",
      "8 SpearmanrResult(correlation=0.5764124677603941, pvalue=2.5235845457575135e-108)\n",
      "9 SpearmanrResult(correlation=0.029506725218786153, pvalue=0.3045011336239459)\n",
      "10 SpearmanrResult(correlation=0.5148186816506157, pvalue=4.6873392695474145e-83)\n",
      "11 SpearmanrResult(correlation=0.7664025725612464, pvalue=4.963457981756859e-235)\n",
      "12 SpearmanrResult(correlation=0.3515528995305409, pvalue=1.3220177162481905e-36)\n",
      "13 SpearmanrResult(correlation=0.1553741284999276, pvalue=5.3617798108258877e-08)\n",
      "14 SpearmanrResult(correlation=0.3467525910099383, pvalue=1.3520629995265958e-35)\n",
      "15 SpearmanrResult(correlation=0.4376998704063841, pvalue=6.186636794955238e-58)\n",
      "16 SpearmanrResult(correlation=0.7786344885282958, pvalue=2.292425342568444e-247)\n",
      "17 SpearmanrResult(correlation=0.39120728445924685, pvalue=1.2187744271402156e-45)\n",
      "18 SpearmanrResult(correlation=0.6861005999597476, pvalue=1.6146443171749793e-169)\n",
      "19 SpearmanrResult(correlation=0.06694819210547515, pvalue=0.019706256214578888)\n",
      "20 SpearmanrResult(correlation=0.506808460269143, pvalue=3.886070492259908e-80)\n"
     ]
    },
    {
     "name": "stderr",
     "output_type": "stream",
     "text": [
      "609it [04:53,  2.60it/s]\n",
      "152it [00:23,  7.12it/s]\n",
      "0it [00:00, ?it/s]"
     ]
    },
    {
     "name": "stdout",
     "output_type": "stream",
     "text": [
      "\r",
      " val_spearman-rho: 0.33839                                                                                                    \n",
      "0 SpearmanrResult(correlation=0.2522795167815263, pvalue=4.576522132326067e-19)\n",
      "1 SpearmanrResult(correlation=0.3437405390422016, pvalue=5.697232899445385e-35)\n",
      "2 SpearmanrResult(correlation=0.11621122122805351, pvalue=4.9706714655624495e-05)\n",
      "3 SpearmanrResult(correlation=0.15603481428935145, pvalue=4.7003152609612044e-08)\n",
      "4 SpearmanrResult(correlation=0.2964902968576749, pvalue=4.880487266264353e-26)\n",
      "5 SpearmanrResult(correlation=0.7614523564815076, pvalue=2.985030063525025e-230)\n",
      "6 SpearmanrResult(correlation=0.2612176463030125, pvalue=2.257533970530594e-20)\n",
      "7 SpearmanrResult(correlation=0.6987871696681496, pvalue=2.1017979723839568e-178)\n",
      "8 SpearmanrResult(correlation=0.15929508378358104, pvalue=2.434595831490628e-08)\n",
      "\u001b[93m Epoch 4/5 \t Train loss Q=3.0619 \t Val loss Q=3.2381 \t  Score Q=0.43139 \t Train loss A=2.6112 \t Val loss A=2.9191 \t Score A=0.33839  \t score=0.403488 \t time=633.96s \u001b[0m\n"
     ]
    },
    {
     "name": "stderr",
     "output_type": "stream",
     "text": [
      "609it [04:53,  2.60it/s]\n",
      "152it [00:23,  7.14it/s]\n",
      "0it [00:00, ?it/s]"
     ]
    },
    {
     "name": "stdout",
     "output_type": "stream",
     "text": [
      "\r",
      " val_spearman-rho: 0.43261                                                                                                    \n",
      "0 SpearmanrResult(correlation=0.3645703680338395, pvalue=1.965985256160526e-39)\n",
      "1 SpearmanrResult(correlation=0.6168365634584195, pvalue=4.5280597980249386e-128)\n",
      "2 SpearmanrResult(correlation=0.4418849559051841, pvalue=3.8655257568663505e-59)\n",
      "3 SpearmanrResult(correlation=0.3377383251193658, pvalue=9.553009514409146e-34)\n",
      "4 SpearmanrResult(correlation=0.4143514055794518, pvalue=1.6140886134569713e-51)\n",
      "5 SpearmanrResult(correlation=0.43362215012671895, pvalue=8.885610694242377e-57)\n",
      "6 SpearmanrResult(correlation=0.36195760169962754, pvalue=7.442617853473663e-39)\n",
      "7 SpearmanrResult(correlation=0.49747770315612283, pvalue=7.810513382021607e-77)\n",
      "8 SpearmanrResult(correlation=0.5770851200437607, pvalue=1.2467484112259785e-108)\n",
      "9 SpearmanrResult(correlation=0.036816841720098026, pvalue=0.20006202028933415)\n",
      "10 SpearmanrResult(correlation=0.5143091598371875, pvalue=7.226053035241585e-83)\n",
      "11 SpearmanrResult(correlation=0.7650417336946702, pvalue=1.0504268309608341e-233)\n",
      "12 SpearmanrResult(correlation=0.35029735031294457, pvalue=2.4380504158678716e-36)\n",
      "13 SpearmanrResult(correlation=0.15491796546409767, pvalue=5.8701524810706085e-08)\n",
      "14 SpearmanrResult(correlation=0.34675838702201156, pvalue=1.3483054360433595e-35)\n",
      "15 SpearmanrResult(correlation=0.4369078266026879, pvalue=1.0410484055235802e-57)\n",
      "16 SpearmanrResult(correlation=0.7791345416844012, pvalue=6.9062308894500684e-248)\n",
      "17 SpearmanrResult(correlation=0.3891125408284516, pvalue=3.937736664260763e-45)\n",
      "18 SpearmanrResult(correlation=0.6855228781161324, pvalue=3.998145358809484e-169)\n",
      "19 SpearmanrResult(correlation=0.06770772177684115, pvalue=0.018353400387960992)\n",
      "20 SpearmanrResult(correlation=0.5127774158583223, pvalue=2.6429010746370533e-82)\n"
     ]
    },
    {
     "name": "stderr",
     "output_type": "stream",
     "text": [
      "609it [04:53,  2.60it/s]\n",
      "152it [00:23,  7.17it/s]\n",
      "100%|██████████| 5/5 [52:48<00:00, 633.84s/it]\n"
     ]
    },
    {
     "name": "stdout",
     "output_type": "stream",
     "text": [
      "\r",
      " val_spearman-rho: 0.33799                                                                                                    \n",
      "0 SpearmanrResult(correlation=0.24993837488620738, pvalue=9.87365880501541e-19)\n",
      "1 SpearmanrResult(correlation=0.34727745714308017, pvalue=1.0506143176485792e-35)\n",
      "2 SpearmanrResult(correlation=0.11418609921528777, pvalue=6.724370082868261e-05)\n",
      "3 SpearmanrResult(correlation=0.14988217746808719, pvalue=1.5680215212548944e-07)\n",
      "4 SpearmanrResult(correlation=0.30031823279004843, pvalue=1.0556223972419183e-26)\n",
      "5 SpearmanrResult(correlation=0.7595742722625387, pvalue=1.8101246197508084e-228)\n",
      "6 SpearmanrResult(correlation=0.27118060034266656, pvalue=6.862435501585636e-22)\n",
      "7 SpearmanrResult(correlation=0.698361981157776, pvalue=4.2458607309717015e-178)\n",
      "8 SpearmanrResult(correlation=0.15123431541829319, pvalue=1.2082175474184046e-07)\n",
      "\u001b[93m Epoch 5/5 \t Train loss Q=3.0080 \t Val loss Q=3.2409 \t  Score Q=0.43261 \t Train loss A=2.5426 \t Val loss A=2.9338 \t Score A=0.33799  \t score=0.404226 \t time=633.96s \u001b[0m\n"
     ]
    },
    {
     "name": "stderr",
     "output_type": "stream",
     "text": [
      "71it [00:00, 705.96it/s]"
     ]
    },
    {
     "name": "stdout",
     "output_type": "stream",
     "text": [
      "\u001b[95m Current Fold: 2 \u001b[0m\n",
      "Train and Valid Shapes are (4867, 43) (1212, 43)\n",
      "\u001b[95m Preparing train datasets.... \u001b[0m\n"
     ]
    },
    {
     "name": "stderr",
     "output_type": "stream",
     "text": [
      "4867it [00:05, 935.98it/s]\n",
      "4867it [00:09, 497.45it/s]\n",
      "93it [00:00, 905.76it/s]"
     ]
    },
    {
     "name": "stdout",
     "output_type": "stream",
     "text": [
      "\u001b[95m Preparing Valid datasets.... \u001b[0m\n"
     ]
    },
    {
     "name": "stderr",
     "output_type": "stream",
     "text": [
      "1212it [00:01, 965.06it/s]\n",
      "1212it [00:02, 581.64it/s]\n"
     ]
    },
    {
     "name": "stdout",
     "output_type": "stream",
     "text": [
      "\u001b[95m Preparing Dataloaders Datasets.... \u001b[0m\n"
     ]
    },
    {
     "name": "stderr",
     "output_type": "stream",
     "text": [
      "0it [00:00, ?it/s]"
     ]
    },
    {
     "name": "stdout",
     "output_type": "stream",
     "text": [
      "Training....\n"
     ]
    },
    {
     "name": "stderr",
     "output_type": "stream",
     "text": [
      "609it [04:53,  2.49it/s]\n",
      "152it [00:23,  6.59it/s]\n",
      "0it [00:00, ?it/s]"
     ]
    },
    {
     "name": "stdout",
     "output_type": "stream",
     "text": [
      "\r",
      " val_spearman-rho: 0.38113                                                                                                    \n",
      "0 SpearmanrResult(correlation=0.33625734298174265, pvalue=2.0154351266075528e-33)\n",
      "1 SpearmanrResult(correlation=0.48410038644482417, pvalue=3.2478064833258435e-72)\n",
      "2 SpearmanrResult(correlation=0.424404309312129, pvalue=3.550614365982344e-54)\n",
      "3 SpearmanrResult(correlation=0.2749812744050899, pvalue=1.8111824954413502e-22)\n",
      "4 SpearmanrResult(correlation=0.3421685239602667, pvalue=1.2769805774092777e-34)\n",
      "5 SpearmanrResult(correlation=0.44037503018915036, pvalue=1.1765820479816981e-58)\n",
      "6 SpearmanrResult(correlation=0.28276441931995505, pvalue=1.021610505755759e-23)\n",
      "7 SpearmanrResult(correlation=0.40668715391073984, pvalue=1.760263050443952e-49)\n",
      "8 SpearmanrResult(correlation=0.4558754572789913, pvalue=3.075338023104259e-63)\n",
      "9 SpearmanrResult(correlation=0.02190458984519678, pvalue=0.4461278411068429)\n",
      "10 SpearmanrResult(correlation=0.46785059407661506, pvalue=6.052278601411754e-67)\n",
      "11 SpearmanrResult(correlation=0.708860130477494, pvalue=1.1981308679983274e-185)\n",
      "12 SpearmanrResult(correlation=0.28234019099513297, pvalue=1.197785820878065e-23)\n",
      "13 SpearmanrResult(correlation=0.1721932997509606, pvalue=1.603098123914702e-09)\n",
      "14 SpearmanrResult(correlation=0.31640796390253534, pvalue=1.3819160967484e-29)\n",
      "15 SpearmanrResult(correlation=0.4061621502554164, pvalue=2.4013010941563345e-49)\n",
      "16 SpearmanrResult(correlation=0.7636811103559481, pvalue=3.372740603937598e-232)\n",
      "17 SpearmanrResult(correlation=0.33301859613439533, pvalue=8.909886285505014e-33)\n",
      "18 SpearmanrResult(correlation=0.6471211727413904, pvalue=9.581259930361075e-145)\n",
      "19 SpearmanrResult(correlation=0.046577845026398584, pvalue=0.1050695876969703)\n",
      "20 SpearmanrResult(correlation=0.39006593327268946, pvalue=2.5113730667784397e-45)\n"
     ]
    },
    {
     "name": "stderr",
     "output_type": "stream",
     "text": [
      "609it [04:53,  2.50it/s]\n",
      "152it [00:23,  6.59it/s]\n",
      "0it [00:00, ?it/s]"
     ]
    },
    {
     "name": "stdout",
     "output_type": "stream",
     "text": [
      "\r",
      " val_spearman-rho: 0.27777                                                                                                    \n",
      "0 SpearmanrResult(correlation=0.10746971652316253, pvalue=0.00017794612435141678)\n",
      "1 SpearmanrResult(correlation=0.30316933695062875, pvalue=3.489837729186126e-27)\n",
      "2 SpearmanrResult(correlation=0.0748219757940851, pvalue=0.009165941513419932)\n",
      "3 SpearmanrResult(correlation=0.0642537606777766, pvalue=0.025291532484211565)\n",
      "4 SpearmanrResult(correlation=0.15014085709199196, pvalue=1.5097010210790957e-07)\n",
      "5 SpearmanrResult(correlation=0.7394299646849766, pvalue=3.7305479114731404e-210)\n",
      "6 SpearmanrResult(correlation=0.2744428897115641, pvalue=2.202221922040428e-22)\n",
      "7 SpearmanrResult(correlation=0.6354066677258012, pvalue=4.9515634078532903e-138)\n",
      "8 SpearmanrResult(correlation=0.1507797127666598, pvalue=1.33499682197273e-07)\n",
      "\u001b[93m Epoch 1/5 \t Train loss Q=3.6104 \t Val loss Q=3.3640 \t  Score Q=0.38113 \t Train loss A=3.0569 \t Val loss A=2.8826 \t Score A=0.27777  \t score=0.350124 \t time=633.76s \u001b[0m\n"
     ]
    },
    {
     "name": "stderr",
     "output_type": "stream",
     "text": [
      "609it [04:53,  2.49it/s]\n",
      "152it [00:23,  6.58it/s]\n",
      "0it [00:00, ?it/s]"
     ]
    },
    {
     "name": "stdout",
     "output_type": "stream",
     "text": [
      "\r",
      " val_spearman-rho: 0.41394                                                                                                    \n",
      "0 SpearmanrResult(correlation=0.35410736404288756, pvalue=4.036316339791761e-37)\n",
      "1 SpearmanrResult(correlation=0.5858851902938536, pvalue=1.301452012296775e-112)\n",
      "2 SpearmanrResult(correlation=0.4321017436463983, pvalue=2.6374962984595727e-56)\n",
      "3 SpearmanrResult(correlation=0.3001476671953743, pvalue=1.1858470960317051e-26)\n",
      "4 SpearmanrResult(correlation=0.35693163918397564, pvalue=9.967689211909277e-38)\n",
      "5 SpearmanrResult(correlation=0.4386065522741062, pvalue=3.789325865999682e-58)\n",
      "6 SpearmanrResult(correlation=0.30867858678843957, pvalue=3.6139415320786626e-28)\n",
      "7 SpearmanrResult(correlation=0.4024372517155493, pvalue=2.1400918801645264e-48)\n",
      "8 SpearmanrResult(correlation=0.5566066731881547, pvalue=1.5480290458347907e-99)\n",
      "9 SpearmanrResult(correlation=0.0729967317472199, pvalue=0.011020044295931406)\n",
      "10 SpearmanrResult(correlation=0.5007762246244101, pvalue=6.302700606091831e-78)\n",
      "11 SpearmanrResult(correlation=0.72383879320927, pvalue=3.050566093302179e-197)\n",
      "12 SpearmanrResult(correlation=0.34063795689701587, pvalue=2.623771966041162e-34)\n",
      "13 SpearmanrResult(correlation=0.1865656108666896, pvalue=5.91350366880527e-11)\n",
      "14 SpearmanrResult(correlation=0.3485243575933252, pvalue=6.146701373077391e-36)\n",
      "15 SpearmanrResult(correlation=0.4787744579350901, pvalue=1.8635727239202743e-70)\n",
      "16 SpearmanrResult(correlation=0.7773945759715558, pvalue=7.04588331425154e-246)\n",
      "17 SpearmanrResult(correlation=0.3568152799098115, pvalue=1.05618644595409e-37)\n",
      "18 SpearmanrResult(correlation=0.6722833250129245, pvalue=3.2475314163050305e-160)\n",
      "19 SpearmanrResult(correlation=0.05226479827068072, pvalue=0.06892646437930966)\n",
      "20 SpearmanrResult(correlation=0.4463574793266867, pvalue=2.1375760776450465e-60)\n"
     ]
    },
    {
     "name": "stderr",
     "output_type": "stream",
     "text": [
      "609it [04:53,  2.49it/s]\n",
      "152it [00:23,  6.59it/s]\n",
      "0it [00:00, ?it/s]"
     ]
    },
    {
     "name": "stdout",
     "output_type": "stream",
     "text": [
      "\r",
      " val_spearman-rho: 0.30136                                                                                                    \n",
      "0 SpearmanrResult(correlation=0.1678006425933864, pvalue=4.165853703229185e-09)\n",
      "1 SpearmanrResult(correlation=0.3142097830352887, pvalue=3.530976032047779e-29)\n",
      "2 SpearmanrResult(correlation=0.09533276651168512, pvalue=0.0008904175171363962)\n",
      "3 SpearmanrResult(correlation=0.12018331426665917, pvalue=2.7295257721948524e-05)\n",
      "4 SpearmanrResult(correlation=0.18131860214143758, pvalue=2.0353371015914958e-10)\n",
      "5 SpearmanrResult(correlation=0.7617530336133831, pvalue=2.3806258546836715e-230)\n",
      "6 SpearmanrResult(correlation=0.27379646331646046, pvalue=2.7832117753008597e-22)\n",
      "7 SpearmanrResult(correlation=0.6589812863701138, pvalue=7.51686692917742e-152)\n",
      "8 SpearmanrResult(correlation=0.13889914501840897, pvalue=1.2089584681833692e-06)\n",
      "\u001b[93m Epoch 2/5 \t Train loss Q=3.2943 \t Val loss Q=3.2708 \t  Score Q=0.41394 \t Train loss A=2.8755 \t Val loss A=2.8375 \t Score A=0.30136  \t score=0.380167 \t time=633.67s \u001b[0m\n"
     ]
    },
    {
     "name": "stderr",
     "output_type": "stream",
     "text": [
      "609it [04:53,  2.50it/s]\n",
      "152it [00:23,  6.58it/s]\n",
      "0it [00:00, ?it/s]"
     ]
    },
    {
     "name": "stdout",
     "output_type": "stream",
     "text": [
      "\r",
      " val_spearman-rho: 0.42638                                                                                                    \n",
      "0 SpearmanrResult(correlation=0.36132419287829026, pvalue=1.1006093520654193e-38)\n",
      "1 SpearmanrResult(correlation=0.61301907529076, pvalue=5.577924125815472e-126)\n",
      "2 SpearmanrResult(correlation=0.4346684696415693, pvalue=4.99925823580065e-57)\n",
      "3 SpearmanrResult(correlation=0.3044372130828602, pvalue=2.079835235246038e-27)\n",
      "4 SpearmanrResult(correlation=0.386375249171091, pvalue=1.9523029114116839e-44)\n",
      "5 SpearmanrResult(correlation=0.44276487774988593, pvalue=2.395650467098546e-59)\n",
      "6 SpearmanrResult(correlation=0.3327610612201411, pvalue=1.0020030776406292e-32)\n",
      "7 SpearmanrResult(correlation=0.43415187630516977, pvalue=6.99482958401228e-57)\n",
      "8 SpearmanrResult(correlation=0.5911076544010615, pvalue=4.363114036560164e-115)\n",
      "9 SpearmanrResult(correlation=0.07828043630919256, pvalue=0.006398832733733577)\n",
      "10 SpearmanrResult(correlation=0.5061414008508321, pvalue=7.825523630514906e-80)\n",
      "11 SpearmanrResult(correlation=0.7308619045615661, pvalue=6.026357293220243e-203)\n",
      "12 SpearmanrResult(correlation=0.35286464203587353, pvalue=7.435295860199948e-37)\n",
      "13 SpearmanrResult(correlation=0.18565864241890875, pvalue=7.341009260052578e-11)\n",
      "14 SpearmanrResult(correlation=0.36318995199451415, pvalue=4.271676457474142e-39)\n",
      "15 SpearmanrResult(correlation=0.4916305154988493, pvalue=9.361497142973548e-75)\n",
      "16 SpearmanrResult(correlation=0.777337733155301, pvalue=8.065825700102628e-246)\n",
      "17 SpearmanrResult(correlation=0.36744678033679445, pvalue=4.8143404387424596e-40)\n",
      "18 SpearmanrResult(correlation=0.6806142314998722, pvalue=1.1122919790662977e-165)\n",
      "19 SpearmanrResult(correlation=0.05262011291536164, pvalue=0.06705814899582097)\n",
      "20 SpearmanrResult(correlation=0.4666840728729478, pvalue=1.410719164085424e-66)\n"
     ]
    },
    {
     "name": "stderr",
     "output_type": "stream",
     "text": [
      "609it [04:53,  2.50it/s]\n",
      "152it [00:23,  6.59it/s]\n",
      "0it [00:00, ?it/s]"
     ]
    },
    {
     "name": "stdout",
     "output_type": "stream",
     "text": [
      "\r",
      " val_spearman-rho: 0.32546                                                                                                    \n",
      "0 SpearmanrResult(correlation=0.17901873070118662, pvalue=3.459240204525327e-10)\n",
      "1 SpearmanrResult(correlation=0.3376279161448591, pvalue=1.0687367809452124e-33)\n",
      "2 SpearmanrResult(correlation=0.13547749094612083, pvalue=2.2072787729222894e-06)\n",
      "3 SpearmanrResult(correlation=0.15883530716580738, pvalue=2.7088884332853963e-08)\n",
      "4 SpearmanrResult(correlation=0.2302149343901657, pvalue=4.832585074448217e-16)\n",
      "5 SpearmanrResult(correlation=0.7627145554695035, pvalue=2.863897267176293e-231)\n",
      "6 SpearmanrResult(correlation=0.2918559290983189, pvalue=3.1595445716548408e-25)\n",
      "7 SpearmanrResult(correlation=0.6765568645074952, pvalue=5.377085731903482e-163)\n",
      "8 SpearmanrResult(correlation=0.15686259790459892, pvalue=4.033874637408753e-08)\n",
      "\u001b[93m Epoch 3/5 \t Train loss Q=3.1604 \t Val loss Q=3.2473 \t  Score Q=0.42638 \t Train loss A=2.7694 \t Val loss A=2.8037 \t Score A=0.32546  \t score=0.396103 \t time=633.58s \u001b[0m\n"
     ]
    },
    {
     "name": "stderr",
     "output_type": "stream",
     "text": [
      "609it [04:53,  2.47it/s]\n",
      "152it [00:23,  6.59it/s]\n",
      "0it [00:00, ?it/s]"
     ]
    },
    {
     "name": "stdout",
     "output_type": "stream",
     "text": [
      "\r",
      " val_spearman-rho: 0.42701                                                                                                    \n",
      "0 SpearmanrResult(correlation=0.3592643764880793, pvalue=3.1063878663055986e-38)\n",
      "1 SpearmanrResult(correlation=0.6185011217628993, pvalue=7.679519747392597e-129)\n",
      "2 SpearmanrResult(correlation=0.4288311689170599, pvalue=2.1506591911625028e-55)\n",
      "3 SpearmanrResult(correlation=0.30562763855226827, pvalue=1.2763491586389602e-27)\n",
      "4 SpearmanrResult(correlation=0.3734580592106434, pvalue=2.085403736367604e-41)\n",
      "5 SpearmanrResult(correlation=0.4403159355230473, pvalue=1.2236124247372374e-58)\n",
      "6 SpearmanrResult(correlation=0.33599020239157956, pvalue=2.2798412822776064e-33)\n",
      "7 SpearmanrResult(correlation=0.4445902884689333, pvalue=7.042745906250436e-60)\n",
      "8 SpearmanrResult(correlation=0.601854037772315, pvalue=2.5282366003643937e-120)\n",
      "9 SpearmanrResult(correlation=0.07457309016812051, pvalue=0.00940118292548253)\n",
      "10 SpearmanrResult(correlation=0.5026467927908903, pvalue=1.3767316640609061e-78)\n",
      "11 SpearmanrResult(correlation=0.7255739602825874, pvalue=1.2347719673644425e-198)\n",
      "12 SpearmanrResult(correlation=0.35195194233798577, pvalue=1.1625147356206798e-36)\n",
      "13 SpearmanrResult(correlation=0.19481470680972515, pvalue=7.87049829057402e-12)\n",
      "14 SpearmanrResult(correlation=0.36016034725091256, pvalue=1.9799434056719574e-38)\n",
      "15 SpearmanrResult(correlation=0.49549815865587565, pvalue=4.3827582180628917e-76)\n",
      "16 SpearmanrResult(correlation=0.7814244332130705, pvalue=4.3711756099787695e-250)\n",
      "17 SpearmanrResult(correlation=0.3628011550119579, pvalue=5.20567840860376e-39)\n",
      "18 SpearmanrResult(correlation=0.6750046432276229, pvalue=5.573045336590719e-162)\n",
      "19 SpearmanrResult(correlation=0.05366448511823405, pvalue=0.061806370284358106)\n",
      "20 SpearmanrResult(correlation=0.4806643129908191, pvalue=4.464992149324011e-71)\n"
     ]
    },
    {
     "name": "stderr",
     "output_type": "stream",
     "text": [
      "609it [04:53,  2.49it/s]\n",
      "152it [00:23,  6.59it/s]\n",
      "0it [00:00, ?it/s]"
     ]
    },
    {
     "name": "stdout",
     "output_type": "stream",
     "text": [
      "\r",
      " val_spearman-rho: 0.33469                                                                                                    \n",
      "0 SpearmanrResult(correlation=0.19940967554365582, pvalue=2.4607754359902655e-12)\n",
      "1 SpearmanrResult(correlation=0.3425440837096003, pvalue=1.0694928480770828e-34)\n",
      "2 SpearmanrResult(correlation=0.16348101065209392, pvalue=1.040008983236964e-08)\n",
      "3 SpearmanrResult(correlation=0.1683116348253625, pvalue=3.732611372461147e-09)\n",
      "4 SpearmanrResult(correlation=0.24570536830044098, pvalue=4.010769751601006e-18)\n",
      "5 SpearmanrResult(correlation=0.7625693439716899, pvalue=3.945832763684854e-231)\n",
      "6 SpearmanrResult(correlation=0.29717814464127507, pvalue=3.890184705844128e-26)\n",
      "7 SpearmanrResult(correlation=0.6763731332448563, pvalue=7.09708448282564e-163)\n",
      "8 SpearmanrResult(correlation=0.1566589985281814, pvalue=4.2019231258215755e-08)\n",
      "\u001b[93m Epoch 4/5 \t Train loss Q=3.0621 \t Val loss Q=3.2415 \t  Score Q=0.42701 \t Train loss A=2.6675 \t Val loss A=2.8204 \t Score A=0.33469  \t score=0.399315 \t time=633.77s \u001b[0m\n"
     ]
    },
    {
     "name": "stderr",
     "output_type": "stream",
     "text": [
      "609it [04:53,  2.50it/s]\n",
      "152it [00:23,  6.58it/s]\n",
      "0it [00:00, ?it/s]"
     ]
    },
    {
     "name": "stdout",
     "output_type": "stream",
     "text": [
      "\r",
      " val_spearman-rho: 0.42734                                                                                                    \n",
      "0 SpearmanrResult(correlation=0.3594687492696167, pvalue=2.803453473815951e-38)\n",
      "1 SpearmanrResult(correlation=0.621502693805175, pvalue=1.970742721362906e-130)\n",
      "2 SpearmanrResult(correlation=0.4274942118200682, pvalue=5.0379442702009254e-55)\n",
      "3 SpearmanrResult(correlation=0.30453734920120845, pvalue=1.9963137432454173e-27)\n",
      "4 SpearmanrResult(correlation=0.3766349418845549, pvalue=3.863207152881768e-42)\n",
      "5 SpearmanrResult(correlation=0.43944500688393984, pvalue=2.1782957506327593e-58)\n",
      "6 SpearmanrResult(correlation=0.3329734283527366, pvalue=9.095357600010213e-33)\n",
      "7 SpearmanrResult(correlation=0.4440027317655059, pvalue=1.0452776171112904e-59)\n",
      "8 SpearmanrResult(correlation=0.6019845565878648, pvalue=2.1776319099437333e-120)\n",
      "9 SpearmanrResult(correlation=0.07293502229241729, pvalue=0.011088168305315537)\n",
      "10 SpearmanrResult(correlation=0.5052126426902525, pvalue=1.6822760290546996e-79)\n",
      "11 SpearmanrResult(correlation=0.7236504103546633, pvalue=4.3146963546658226e-197)\n",
      "12 SpearmanrResult(correlation=0.35389083252931114, pvalue=4.490541289886404e-37)\n",
      "13 SpearmanrResult(correlation=0.19742720115810686, pvalue=4.0778020767054774e-12)\n",
      "14 SpearmanrResult(correlation=0.360851824515573, pvalue=1.3972216219214535e-38)\n",
      "15 SpearmanrResult(correlation=0.49568120149709094, pvalue=3.7878972156073705e-76)\n",
      "16 SpearmanrResult(correlation=0.7801863499549179, pvalue=8.764044372558795e-249)\n",
      "17 SpearmanrResult(correlation=0.36676515377694685, pvalue=6.843990267193688e-40)\n",
      "18 SpearmanrResult(correlation=0.6746102293362921, pvalue=1.007270858649436e-161)\n",
      "19 SpearmanrResult(correlation=0.0522718929722025, pvalue=0.06888874537524198)\n",
      "20 SpearmanrResult(correlation=0.4826064532089268, pvalue=1.0187391177483067e-71)\n"
     ]
    },
    {
     "name": "stderr",
     "output_type": "stream",
     "text": [
      "609it [04:53,  2.48it/s]\n",
      "152it [00:23,  6.59it/s]\n",
      "100%|██████████| 5/5 [52:48<00:00, 633.78s/it]\n"
     ]
    },
    {
     "name": "stdout",
     "output_type": "stream",
     "text": [
      "\r",
      " val_spearman-rho: 0.3339                                                                                                    \n",
      "0 SpearmanrResult(correlation=0.19937326829176077, pvalue=2.4838247562854637e-12)\n",
      "1 SpearmanrResult(correlation=0.34176347634558313, pvalue=1.5456762631524463e-34)\n",
      "2 SpearmanrResult(correlation=0.1569161220248896, pvalue=3.9907884358777234e-08)\n",
      "3 SpearmanrResult(correlation=0.17006445964675174, pvalue=2.5545265266696417e-09)\n",
      "4 SpearmanrResult(correlation=0.24967096397170693, pvalue=1.1131495719762785e-18)\n",
      "5 SpearmanrResult(correlation=0.759152849341563, pvalue=6.952550338287771e-228)\n",
      "6 SpearmanrResult(correlation=0.2955526797838896, pvalue=7.410256184679831e-26)\n",
      "7 SpearmanrResult(correlation=0.6716948149165295, pvalue=7.777980861849925e-160)\n",
      "8 SpearmanrResult(correlation=0.16087091911037382, pvalue=1.7868647069413724e-08)\n",
      "\u001b[93m Epoch 5/5 \t Train loss Q=3.0046 \t Val loss Q=3.2418 \t  Score Q=0.42734 \t Train loss A=2.6059 \t Val loss A=2.8363 \t Score A=0.33390  \t score=0.399306 \t time=633.70s \u001b[0m\n"
     ]
    },
    {
     "name": "stderr",
     "output_type": "stream",
     "text": [
      "74it [00:00, 725.57it/s]"
     ]
    },
    {
     "name": "stdout",
     "output_type": "stream",
     "text": [
      "\u001b[95m Current Fold: 3 \u001b[0m\n",
      "Train and Valid Shapes are (4858, 43) (1221, 43)\n",
      "\u001b[95m Preparing train datasets.... \u001b[0m\n"
     ]
    },
    {
     "name": "stderr",
     "output_type": "stream",
     "text": [
      "4858it [00:05, 965.38it/s]\n",
      "4858it [00:09, 492.12it/s]\n",
      "94it [00:00, 939.67it/s]"
     ]
    },
    {
     "name": "stdout",
     "output_type": "stream",
     "text": [
      "\u001b[95m Preparing Valid datasets.... \u001b[0m\n"
     ]
    },
    {
     "name": "stderr",
     "output_type": "stream",
     "text": [
      "1221it [00:01, 1019.47it/s]\n",
      "1221it [00:02, 554.80it/s]\n"
     ]
    },
    {
     "name": "stdout",
     "output_type": "stream",
     "text": [
      "\u001b[95m Preparing Dataloaders Datasets.... \u001b[0m\n"
     ]
    },
    {
     "name": "stderr",
     "output_type": "stream",
     "text": [
      "0it [00:00, ?it/s]"
     ]
    },
    {
     "name": "stdout",
     "output_type": "stream",
     "text": [
      "Training....\n"
     ]
    },
    {
     "name": "stderr",
     "output_type": "stream",
     "text": [
      "608it [04:52,  2.60it/s]\n",
      "153it [00:23,  7.16it/s]\n",
      "0it [00:00, ?it/s]"
     ]
    },
    {
     "name": "stdout",
     "output_type": "stream",
     "text": [
      "\r",
      " val_spearman-rho: 0.36514                                                                                                    \n",
      "0 SpearmanrResult(correlation=0.3145606500804892, pvalue=1.8961918389067695e-29)\n",
      "1 SpearmanrResult(correlation=0.44763977997309895, pvalue=3.2631844992162726e-61)\n",
      "2 SpearmanrResult(correlation=0.3679889425236158, pvalue=1.8827796757185193e-40)\n",
      "3 SpearmanrResult(correlation=0.26415397864266854, pvalue=6.110852870020171e-21)\n",
      "4 SpearmanrResult(correlation=0.25388531309262324, pvalue=2.0527636313823662e-19)\n",
      "5 SpearmanrResult(correlation=0.3970668306372844, pvalue=2.198066589538289e-47)\n",
      "6 SpearmanrResult(correlation=0.32395310985034675, pvalue=3.144909364515044e-31)\n",
      "7 SpearmanrResult(correlation=0.44771420207225165, pvalue=3.1010645434097112e-61)\n",
      "8 SpearmanrResult(correlation=0.48150932175088806, pvalue=7.14511709850422e-72)\n",
      "9 SpearmanrResult(correlation=0.024426942560741044, pvalue=0.39377075945740403)\n",
      "10 SpearmanrResult(correlation=0.3551133499892225, pvalue=1.3344983888893737e-37)\n",
      "11 SpearmanrResult(correlation=0.7139330076761339, pvalue=6.937306335980573e-191)\n",
      "12 SpearmanrResult(correlation=0.3023348091607947, pvalue=3.1712379179048782e-27)\n",
      "13 SpearmanrResult(correlation=0.08567353569427161, pvalue=0.002734406619207465)\n",
      "14 SpearmanrResult(correlation=0.31896396893544315, pvalue=2.825942049197096e-30)\n",
      "15 SpearmanrResult(correlation=0.40992536573072036, pvalue=1.1148639072389824e-50)\n",
      "16 SpearmanrResult(correlation=0.7656845973710021, pvalue=7.272956933065713e-236)\n",
      "17 SpearmanrResult(correlation=0.33166656580998194, pvalue=9.721170781149773e-33)\n",
      "18 SpearmanrResult(correlation=0.5984875823655537, pvalue=1.5721219944841386e-119)\n",
      "19 SpearmanrResult(correlation=0.0636071545588794, pvalue=0.02624365109834551)\n",
      "20 SpearmanrResult(correlation=0.3995764699004597, pvalue=5.132330666458963e-48)\n"
     ]
    },
    {
     "name": "stderr",
     "output_type": "stream",
     "text": [
      "608it [04:52,  2.61it/s]\n",
      "153it [00:23,  7.17it/s]\n",
      "0it [00:00, ?it/s]"
     ]
    },
    {
     "name": "stdout",
     "output_type": "stream",
     "text": [
      "\r",
      " val_spearman-rho: 0.29857                                                                                                    \n",
      "0 SpearmanrResult(correlation=0.1633610176289585, pvalue=9.40889810726326e-09)\n",
      "1 SpearmanrResult(correlation=0.31555383794506653, pvalue=1.2377216479104063e-29)\n",
      "2 SpearmanrResult(correlation=0.05858344006843773, pvalue=0.04068446945380237)\n",
      "3 SpearmanrResult(correlation=0.12293837397211214, pvalue=1.6491428711911906e-05)\n",
      "4 SpearmanrResult(correlation=0.22152506906808211, pvalue=4.868484979141499e-15)\n",
      "5 SpearmanrResult(correlation=0.7595212934513011, pvalue=6.4895895462605255e-230)\n",
      "6 SpearmanrResult(correlation=0.25281698555436233, pvalue=2.9325411967436326e-19)\n",
      "7 SpearmanrResult(correlation=0.6301046339635895, pvalue=4.449570215660633e-136)\n",
      "8 SpearmanrResult(correlation=0.1627649422836869, pvalue=1.0663584748325642e-08)\n",
      "\u001b[93m Epoch 1/5 \t Train loss Q=3.6505 \t Val loss Q=3.4387 \t  Score Q=0.36514 \t Train loss A=3.0213 \t Val loss A=2.9181 \t Score A=0.29857  \t score=0.345168 \t time=633.04s \u001b[0m\n"
     ]
    },
    {
     "name": "stderr",
     "output_type": "stream",
     "text": [
      "608it [04:52,  2.60it/s]\n",
      "153it [00:23,  7.16it/s]\n",
      "0it [00:00, ?it/s]"
     ]
    },
    {
     "name": "stdout",
     "output_type": "stream",
     "text": [
      "\r",
      " val_spearman-rho: 0.40802                                                                                                    \n",
      "0 SpearmanrResult(correlation=0.37063458563756924, pvalue=4.707243886649827e-41)\n",
      "1 SpearmanrResult(correlation=0.5594093675257894, pvalue=1.8156705108901587e-101)\n",
      "2 SpearmanrResult(correlation=0.37012693478328323, pvalue=6.14783525573655e-41)\n",
      "3 SpearmanrResult(correlation=0.2995982233256134, pvalue=9.650923748721921e-27)\n",
      "4 SpearmanrResult(correlation=0.3944966007395435, pvalue=9.624934028261594e-47)\n",
      "5 SpearmanrResult(correlation=0.4080550100495671, pvalue=3.431704421008266e-50)\n",
      "6 SpearmanrResult(correlation=0.35279936838810627, pvalue=4.205677574590586e-37)\n",
      "7 SpearmanrResult(correlation=0.485284600506629, pvalue=3.889462720977003e-73)\n",
      "8 SpearmanrResult(correlation=0.5741606159433884, pvalue=5.318843641914425e-108)\n",
      "9 SpearmanrResult(correlation=0.02224476041206, pvalue=0.4373981031250288)\n",
      "10 SpearmanrResult(correlation=0.4645808811896084, pvalue=2.1464215302386696e-66)\n",
      "11 SpearmanrResult(correlation=0.7494828183178254, pvalue=1.3450180005367667e-220)\n",
      "12 SpearmanrResult(correlation=0.339689052075101, pvalue=2.348198340938323e-34)\n",
      "13 SpearmanrResult(correlation=0.10742103574321717, pvalue=0.00016948287037806228)\n",
      "14 SpearmanrResult(correlation=0.3318367023054644, pvalue=8.99336879508879e-33)\n",
      "15 SpearmanrResult(correlation=0.41882562912895094, pvalue=4.793845972162297e-53)\n",
      "16 SpearmanrResult(correlation=0.7815755429904767, pvalue=4.3147771250907047e-252)\n",
      "17 SpearmanrResult(correlation=0.33435295895992717, pvalue=2.8287180649723093e-33)\n",
      "18 SpearmanrResult(correlation=0.6567614005945149, pvalue=1.3358572142589604e-151)\n",
      "19 SpearmanrResult(correlation=0.058435841180108715, pvalue=0.041194616577371175)\n",
      "20 SpearmanrResult(correlation=0.4886895819163987, pvalue=2.7296543771853882e-74)\n"
     ]
    },
    {
     "name": "stderr",
     "output_type": "stream",
     "text": [
      "608it [04:52,  2.60it/s]\n",
      "153it [00:23,  7.18it/s]\n",
      "0it [00:00, ?it/s]"
     ]
    },
    {
     "name": "stdout",
     "output_type": "stream",
     "text": [
      "\r",
      " val_spearman-rho: 0.31779                                                                                                    \n",
      "0 SpearmanrResult(correlation=0.1959677718123397, pvalue=4.924553268773758e-12)\n",
      "1 SpearmanrResult(correlation=0.2621631641085795, pvalue=1.2226602270878929e-20)\n",
      "2 SpearmanrResult(correlation=0.08072210150211506, pvalue=0.00476694231767814)\n",
      "3 SpearmanrResult(correlation=0.1374975043453021, pvalue=1.417344541969431e-06)\n",
      "4 SpearmanrResult(correlation=0.26543040166998816, pvalue=3.905089480815378e-21)\n",
      "5 SpearmanrResult(correlation=0.7589184042573148, pvalue=2.4245745781884603e-229)\n",
      "6 SpearmanrResult(correlation=0.3014161840293773, pvalue=4.613782518713399e-27)\n",
      "7 SpearmanrResult(correlation=0.662623710764502, pvalue=3.139612650657616e-155)\n",
      "8 SpearmanrResult(correlation=0.19536441637616342, pvalue=5.736427073009001e-12)\n",
      "\u001b[93m Epoch 2/5 \t Train loss Q=3.3110 \t Val loss Q=3.2674 \t  Score Q=0.40802 \t Train loss A=2.8426 \t Val loss A=2.8611 \t Score A=0.31779  \t score=0.380952 \t time=633.30s \u001b[0m\n"
     ]
    },
    {
     "name": "stderr",
     "output_type": "stream",
     "text": [
      "608it [04:52,  2.61it/s]\n",
      "153it [00:23,  7.16it/s]\n",
      "0it [00:00, ?it/s]"
     ]
    },
    {
     "name": "stdout",
     "output_type": "stream",
     "text": [
      "\r",
      " val_spearman-rho: 0.41523                                                                                                    \n",
      "0 SpearmanrResult(correlation=0.3782867146797945, pvalue=7.935725870807502e-43)\n",
      "1 SpearmanrResult(correlation=0.5897709065742249, pvalue=2.7576064562037254e-115)\n",
      "2 SpearmanrResult(correlation=0.3689138625909021, pvalue=1.1613612987666374e-40)\n",
      "3 SpearmanrResult(correlation=0.2788471898438796, pvalue=3.040679069368931e-23)\n",
      "4 SpearmanrResult(correlation=0.402331598210478, pvalue=1.0244869594451882e-48)\n",
      "5 SpearmanrResult(correlation=0.3987434625741681, pvalue=8.329188372662127e-48)\n",
      "6 SpearmanrResult(correlation=0.34780718737244065, pvalue=4.8446789346547865e-36)\n",
      "7 SpearmanrResult(correlation=0.48578102698548453, pvalue=2.6453617716683938e-73)\n",
      "8 SpearmanrResult(correlation=0.5760929005766994, pvalue=7.00235232597861e-109)\n",
      "9 SpearmanrResult(correlation=0.06463938069222816, pvalue=0.02390014556298186)\n",
      "10 SpearmanrResult(correlation=0.46952393931057324, pvalue=5.8065617934350314e-68)\n",
      "11 SpearmanrResult(correlation=0.7541348864156925, pvalue=7.36694379158523e-225)\n",
      "12 SpearmanrResult(correlation=0.3419425953895132, pvalue=8.088338653113994e-35)\n",
      "13 SpearmanrResult(correlation=0.11666038325978473, pvalue=4.38446726785843e-05)\n",
      "14 SpearmanrResult(correlation=0.3297209995813718, pvalue=2.3586939269538642e-32)\n",
      "15 SpearmanrResult(correlation=0.44153764270908963, pvalue=2.0400905514042448e-59)\n",
      "16 SpearmanrResult(correlation=0.785221219068377, pvalue=5.232106409368757e-256)\n",
      "17 SpearmanrResult(correlation=0.3444007231796772, pvalue=2.503752439793078e-35)\n",
      "18 SpearmanrResult(correlation=0.6681083025147959, pvalue=1.0630106222249011e-158)\n",
      "19 SpearmanrResult(correlation=0.05470100373988545, pvalue=0.05602002214346186)\n",
      "20 SpearmanrResult(correlation=0.5227348331536265, pvalue=1.4229434548383835e-86)\n"
     ]
    },
    {
     "name": "stderr",
     "output_type": "stream",
     "text": [
      "608it [04:52,  2.60it/s]\n",
      "153it [00:23,  7.18it/s]\n",
      "0it [00:00, ?it/s]"
     ]
    },
    {
     "name": "stdout",
     "output_type": "stream",
     "text": [
      "\r",
      " val_spearman-rho: 0.33425                                                                                                    \n",
      "0 SpearmanrResult(correlation=0.2189778092496957, pvalue=1.0102269283563377e-14)\n",
      "1 SpearmanrResult(correlation=0.320588457212483, pvalue=1.388847133951426e-30)\n",
      "2 SpearmanrResult(correlation=0.1256120535352013, pvalue=1.071640313692231e-05)\n",
      "3 SpearmanrResult(correlation=0.15627069591242723, pvalue=4.0490763636794985e-08)\n",
      "4 SpearmanrResult(correlation=0.2943073021418771, pvalue=8.02405028802546e-26)\n",
      "5 SpearmanrResult(correlation=0.7645450305215575, pvalue=9.455696577367058e-235)\n",
      "6 SpearmanrResult(correlation=0.2735985828148176, pvalue=2.0988580901001704e-22)\n",
      "7 SpearmanrResult(correlation=0.662245593586842, pvalue=5.412754678182483e-155)\n",
      "8 SpearmanrResult(correlation=0.1921139181779647, pvalue=1.2942974700973542e-11)\n",
      "\u001b[93m Epoch 3/5 \t Train loss Q=3.1716 \t Val loss Q=3.2388 \t  Score Q=0.41523 \t Train loss A=2.7274 \t Val loss A=2.8547 \t Score A=0.33425  \t score=0.390939 \t time=633.14s \u001b[0m\n"
     ]
    },
    {
     "name": "stderr",
     "output_type": "stream",
     "text": [
      "608it [04:52,  2.60it/s]\n",
      "153it [00:23,  7.17it/s]\n",
      "0it [00:00, ?it/s]"
     ]
    },
    {
     "name": "stdout",
     "output_type": "stream",
     "text": [
      "\r",
      " val_spearman-rho: 0.42076                                                                                                    \n",
      "0 SpearmanrResult(correlation=0.36536615362876396, pvalue=7.346782328332315e-40)\n",
      "1 SpearmanrResult(correlation=0.6075407986029295, pvalue=4.448018677283227e-124)\n",
      "2 SpearmanrResult(correlation=0.3728394870897424, pvalue=1.4679735548023036e-41)\n",
      "3 SpearmanrResult(correlation=0.2881096465397286, pvalue=9.067505638157258e-25)\n",
      "4 SpearmanrResult(correlation=0.41189391438696704, pvalue=3.387914065683791e-51)\n",
      "5 SpearmanrResult(correlation=0.40873184036427507, pvalue=2.2864973618472165e-50)\n",
      "6 SpearmanrResult(correlation=0.3468358269356853, pvalue=7.754839742484018e-36)\n",
      "7 SpearmanrResult(correlation=0.4875694405558161, pvalue=6.563081288070164e-74)\n",
      "8 SpearmanrResult(correlation=0.5873600946340325, pvalue=3.905040169393369e-114)\n",
      "9 SpearmanrResult(correlation=0.057692390195573144, pvalue=0.043847224791422064)\n",
      "10 SpearmanrResult(correlation=0.4856317154018572, pvalue=2.9707409821662263e-73)\n",
      "11 SpearmanrResult(correlation=0.7583549491134107, pvalue=8.281105171061622e-229)\n",
      "12 SpearmanrResult(correlation=0.3514211736408701, pvalue=8.294339501167139e-37)\n",
      "13 SpearmanrResult(correlation=0.13317959309335858, pvalue=3.0161219899696717e-06)\n",
      "14 SpearmanrResult(correlation=0.3328174997220705, pvalue=5.736913998020984e-33)\n",
      "15 SpearmanrResult(correlation=0.43901808766921363, pvalue=1.0979938157129106e-58)\n",
      "16 SpearmanrResult(correlation=0.7871282443472708, pvalue=4.359559474761019e-258)\n",
      "17 SpearmanrResult(correlation=0.35372909490175397, pvalue=2.6548317787482694e-37)\n",
      "18 SpearmanrResult(correlation=0.6674895563769291, pvalue=2.6409539405847254e-158)\n",
      "19 SpearmanrResult(correlation=0.05608002064089096, pvalue=0.05009776118116314)\n",
      "20 SpearmanrResult(correlation=0.5370824406883896, pvalue=3.502132144663249e-92)\n"
     ]
    },
    {
     "name": "stderr",
     "output_type": "stream",
     "text": [
      "608it [04:52,  2.61it/s]\n",
      "153it [00:23,  7.18it/s]\n",
      "0it [00:00, ?it/s]"
     ]
    },
    {
     "name": "stdout",
     "output_type": "stream",
     "text": [
      "\r",
      " val_spearman-rho: 0.32762                                                                                                    \n",
      "0 SpearmanrResult(correlation=0.19698919146712324, pvalue=3.7991419863644654e-12)\n",
      "1 SpearmanrResult(correlation=0.3324478706462075, pvalue=6.797397372395034e-33)\n",
      "2 SpearmanrResult(correlation=0.1289348454883613, pvalue=6.195416837398325e-06)\n",
      "3 SpearmanrResult(correlation=0.1364411949306386, pvalue=1.708599964785554e-06)\n",
      "4 SpearmanrResult(correlation=0.2846985381165493, pvalue=3.357256202446288e-24)\n",
      "5 SpearmanrResult(correlation=0.7660259277340918, pvalue=3.363619119182044e-236)\n",
      "6 SpearmanrResult(correlation=0.2904591503729583, pvalue=3.6420070229682814e-25)\n",
      "7 SpearmanrResult(correlation=0.6502850513230414, pvalue=1.099648346684859e-147)\n",
      "8 SpearmanrResult(correlation=0.1623273351757124, pvalue=1.1686600589296636e-08)\n",
      "\u001b[93m Epoch 4/5 \t Train loss Q=3.0724 \t Val loss Q=3.2325 \t  Score Q=0.42076 \t Train loss A=2.6230 \t Val loss A=2.9074 \t Score A=0.32762  \t score=0.392816 \t time=633.07s \u001b[0m\n"
     ]
    },
    {
     "name": "stderr",
     "output_type": "stream",
     "text": [
      "608it [04:52,  2.60it/s]\n",
      "153it [00:23,  7.19it/s]\n",
      "0it [00:00, ?it/s]"
     ]
    },
    {
     "name": "stdout",
     "output_type": "stream",
     "text": [
      "\r",
      " val_spearman-rho: 0.42118                                                                                                    \n",
      "0 SpearmanrResult(correlation=0.364701863139913, pvalue=1.035114569321817e-39)\n",
      "1 SpearmanrResult(correlation=0.6100347708499504, pvalue=2.3402471550038294e-125)\n",
      "2 SpearmanrResult(correlation=0.3727594664411761, pvalue=1.5316255376732826e-41)\n",
      "3 SpearmanrResult(correlation=0.2846448907527483, pvalue=3.426594634485818e-24)\n",
      "4 SpearmanrResult(correlation=0.4096492964596841, pvalue=1.316709861539559e-50)\n",
      "5 SpearmanrResult(correlation=0.40766050512923496, pvalue=4.346158264366734e-50)\n",
      "6 SpearmanrResult(correlation=0.35093079211162337, pvalue=1.0552962342912382e-36)\n",
      "7 SpearmanrResult(correlation=0.4910133056014464, pvalue=4.377216033228215e-75)\n",
      "8 SpearmanrResult(correlation=0.5899773423481387, pvalue=2.195400537602778e-115)\n",
      "9 SpearmanrResult(correlation=0.05702613317445318, pvalue=0.046345417472274594)\n",
      "10 SpearmanrResult(correlation=0.48546854947469303, pvalue=3.3720237543292116e-73)\n",
      "11 SpearmanrResult(correlation=0.7581365631537471, pvalue=1.331837406936104e-228)\n",
      "12 SpearmanrResult(correlation=0.3496677219955737, pvalue=1.9584846494591107e-36)\n",
      "13 SpearmanrResult(correlation=0.13293747432407282, pvalue=3.1444259437354225e-06)\n",
      "14 SpearmanrResult(correlation=0.3342748148507679, pvalue=2.9326520973773014e-33)\n",
      "15 SpearmanrResult(correlation=0.4401050186901763, pvalue=5.321385055070381e-59)\n",
      "16 SpearmanrResult(correlation=0.7866870349233972, pvalue=1.3255495645754971e-257)\n",
      "17 SpearmanrResult(correlation=0.3546054994652087, pvalue=1.7182396046485793e-37)\n",
      "18 SpearmanrResult(correlation=0.6665323411332374, pvalue=1.074744009883829e-157)\n",
      "19 SpearmanrResult(correlation=0.05780379176714786, pvalue=0.0434408005781763)\n",
      "20 SpearmanrResult(correlation=0.5401004014570863, pvalue=2.1368231593866333e-93)\n"
     ]
    },
    {
     "name": "stderr",
     "output_type": "stream",
     "text": [
      "608it [04:52,  2.60it/s]\n",
      "153it [00:23,  7.17it/s]\n",
      "100%|██████████| 5/5 [52:45<00:00, 633.17s/it]\n"
     ]
    },
    {
     "name": "stdout",
     "output_type": "stream",
     "text": [
      "\r",
      " val_spearman-rho: 0.32872                                                                                                    \n",
      "0 SpearmanrResult(correlation=0.19994342621684794, pvalue=1.7796688330108397e-12)\n",
      "1 SpearmanrResult(correlation=0.3274979463062073, pvalue=6.443523118034044e-32)\n",
      "2 SpearmanrResult(correlation=0.13843889682480223, pvalue=1.1984804726263842e-06)\n",
      "3 SpearmanrResult(correlation=0.14176684211036766, pvalue=6.565353000945163e-07)\n",
      "4 SpearmanrResult(correlation=0.2856207931673468, pvalue=2.3607780506041997e-24)\n",
      "5 SpearmanrResult(correlation=0.7644753487157255, pvalue=1.1056192421932039e-234)\n",
      "6 SpearmanrResult(correlation=0.27808493528531986, pvalue=4.036028780657501e-23)\n",
      "7 SpearmanrResult(correlation=0.6484828581081138, pvalue=1.2996373832489195e-146)\n",
      "8 SpearmanrResult(correlation=0.1741631923096119, pvalue=8.98913899285137e-10)\n",
      "\u001b[93m Epoch 5/5 \t Train loss Q=3.0148 \t Val loss Q=3.2396 \t  Score Q=0.42118 \t Train loss A=2.5600 \t Val loss A=2.9190 \t Score A=0.32872  \t score=0.393440 \t time=633.10s \u001b[0m\n"
     ]
    },
    {
     "name": "stderr",
     "output_type": "stream",
     "text": [
      "59it [00:00, 588.29it/s]"
     ]
    },
    {
     "name": "stdout",
     "output_type": "stream",
     "text": [
      "\u001b[95m Current Fold: 4 \u001b[0m\n",
      "Train and Valid Shapes are (4866, 43) (1213, 43)\n",
      "\u001b[95m Preparing train datasets.... \u001b[0m\n"
     ]
    },
    {
     "name": "stderr",
     "output_type": "stream",
     "text": [
      "4866it [00:05, 929.39it/s]\n",
      "4866it [00:10, 484.78it/s]\n",
      "87it [00:00, 861.41it/s]"
     ]
    },
    {
     "name": "stdout",
     "output_type": "stream",
     "text": [
      "\u001b[95m Preparing Valid datasets.... \u001b[0m\n"
     ]
    },
    {
     "name": "stderr",
     "output_type": "stream",
     "text": [
      "1213it [00:01, 998.04it/s]\n",
      "1213it [00:02, 603.43it/s]\n"
     ]
    },
    {
     "name": "stdout",
     "output_type": "stream",
     "text": [
      "\u001b[95m Preparing Dataloaders Datasets.... \u001b[0m\n"
     ]
    },
    {
     "name": "stderr",
     "output_type": "stream",
     "text": [
      "0it [00:00, ?it/s]"
     ]
    },
    {
     "name": "stdout",
     "output_type": "stream",
     "text": [
      "Training....\n"
     ]
    },
    {
     "name": "stderr",
     "output_type": "stream",
     "text": [
      "609it [04:53,  2.59it/s]\n",
      "152it [00:23,  7.16it/s]\n",
      "0it [00:00, ?it/s]"
     ]
    },
    {
     "name": "stdout",
     "output_type": "stream",
     "text": [
      "\r",
      " val_spearman-rho: 0.37233                                                                                                    \n",
      "0 SpearmanrResult(correlation=0.32054417762362136, pvalue=2.192005373320226e-30)\n",
      "1 SpearmanrResult(correlation=0.5141895430195781, pvalue=7.998055646848734e-83)\n",
      "2 SpearmanrResult(correlation=0.40104881460296277, pvalue=4.397400696724222e-48)\n",
      "3 SpearmanrResult(correlation=0.22210825850877478, pvalue=5.052784011248148e-15)\n",
      "4 SpearmanrResult(correlation=0.2811917107847282, pvalue=1.765098335228006e-23)\n",
      "5 SpearmanrResult(correlation=0.41075544510979184, pvalue=1.4188831669358588e-50)\n",
      "6 SpearmanrResult(correlation=0.3256805636385696, pvalue=2.2878882096665375e-31)\n",
      "7 SpearmanrResult(correlation=0.44683380907732295, pvalue=1.3844701405059877e-60)\n",
      "8 SpearmanrResult(correlation=0.5013418185454966, pvalue=3.444741615807974e-78)\n",
      "9 SpearmanrResult(correlation=0.00799678892046165, pvalue=0.7808352974577718)\n",
      "10 SpearmanrResult(correlation=0.3985016074259463, pvalue=1.9203149337057706e-47)\n",
      "11 SpearmanrResult(correlation=0.7135526240307188, pvalue=2.3554137977506383e-189)\n",
      "12 SpearmanrResult(correlation=0.25662141675216993, pvalue=1.0765347642586082e-19)\n",
      "13 SpearmanrResult(correlation=0.13254846646963614, pvalue=3.619569065527222e-06)\n",
      "14 SpearmanrResult(correlation=0.3338169336858117, pvalue=5.8296699939073864e-33)\n",
      "15 SpearmanrResult(correlation=0.3869465548996565, pvalue=1.3122748248406687e-44)\n",
      "16 SpearmanrResult(correlation=0.7745466564300422, pvalue=3.708912131130152e-243)\n",
      "17 SpearmanrResult(correlation=0.28565052437725014, pvalue=3.2914317269507764e-24)\n",
      "18 SpearmanrResult(correlation=0.6362907501513421, pvalue=1.2172294303012651e-138)\n",
      "19 SpearmanrResult(correlation=0.05425685409598844, pvalue=0.058877200359177324)\n",
      "20 SpearmanrResult(correlation=0.4144684311304158, pvalue=1.5031820853950888e-51)\n"
     ]
    },
    {
     "name": "stderr",
     "output_type": "stream",
     "text": [
      "609it [04:53,  2.59it/s]\n",
      "152it [00:23,  7.17it/s]\n",
      "0it [00:00, ?it/s]"
     ]
    },
    {
     "name": "stdout",
     "output_type": "stream",
     "text": [
      "\r",
      " val_spearman-rho: 0.27983                                                                                                    \n",
      "0 SpearmanrResult(correlation=0.18988097119859138, pvalue=2.6085613437109237e-11)\n",
      "1 SpearmanrResult(correlation=0.25444990777645704, pvalue=2.2276997585752015e-19)\n",
      "2 SpearmanrResult(correlation=0.10145870962592762, pvalue=0.0004014756404885634)\n",
      "3 SpearmanrResult(correlation=0.10873553761160284, pvalue=0.00014799581189063382)\n",
      "4 SpearmanrResult(correlation=0.1723616106116315, pvalue=1.5210154917512335e-09)\n",
      "5 SpearmanrResult(correlation=0.7348574880394662, pvalue=1.9264647416313102e-206)\n",
      "6 SpearmanrResult(correlation=0.2527496019710113, pvalue=3.918007207765588e-19)\n",
      "7 SpearmanrResult(correlation=0.6173814847013223, pvalue=2.343669717726786e-128)\n",
      "8 SpearmanrResult(correlation=0.08658507676285142, pvalue=0.0025431583812260497)\n",
      "\u001b[93m Epoch 1/5 \t Train loss Q=3.6405 \t Val loss Q=3.3661 \t  Score Q=0.37233 \t Train loss A=3.0304 \t Val loss A=2.9209 \t Score A=0.27983  \t score=0.344578 \t time=633.48s \u001b[0m\n"
     ]
    },
    {
     "name": "stderr",
     "output_type": "stream",
     "text": [
      "609it [04:53,  2.60it/s]\n",
      "152it [00:23,  7.17it/s]\n",
      "0it [00:00, ?it/s]"
     ]
    },
    {
     "name": "stdout",
     "output_type": "stream",
     "text": [
      "\r",
      " val_spearman-rho: 0.40477                                                                                                    \n",
      "0 SpearmanrResult(correlation=0.3509818054475161, pvalue=1.7469881295195074e-36)\n",
      "1 SpearmanrResult(correlation=0.5203899047191718, pvalue=3.931920457950157e-85)\n",
      "2 SpearmanrResult(correlation=0.4221741750108432, pvalue=1.3005183630109079e-53)\n",
      "3 SpearmanrResult(correlation=0.2824219251956988, pvalue=1.1139109333217757e-23)\n",
      "4 SpearmanrResult(correlation=0.2951492239532551, pvalue=8.299481610052506e-26)\n",
      "5 SpearmanrResult(correlation=0.43592613623001264, pvalue=1.9804942921763155e-57)\n",
      "6 SpearmanrResult(correlation=0.3203605026125262, pvalue=2.3745707310916764e-30)\n",
      "7 SpearmanrResult(correlation=0.4612802263459726, pvalue=6.0448236073201465e-65)\n",
      "8 SpearmanrResult(correlation=0.5935747494755544, pvalue=2.2933083763686054e-116)\n",
      "9 SpearmanrResult(correlation=0.03152003505005601, pvalue=0.2726740754135246)\n",
      "10 SpearmanrResult(correlation=0.4194053812919021, pvalue=7.2701266578821e-53)\n",
      "11 SpearmanrResult(correlation=0.7426075624346251, pvalue=4.480527373280636e-213)\n",
      "12 SpearmanrResult(correlation=0.37375266482783676, pvalue=1.6549274078554213e-41)\n",
      "13 SpearmanrResult(correlation=0.1434732942747755, pvalue=5.228337284990831e-07)\n",
      "14 SpearmanrResult(correlation=0.3322912185133398, pvalue=1.1700317748807925e-32)\n",
      "15 SpearmanrResult(correlation=0.4661927967223983, pvalue=1.7799386453401663e-66)\n",
      "16 SpearmanrResult(correlation=0.7855650359457361, pvalue=1.0340222428035107e-254)\n",
      "17 SpearmanrResult(correlation=0.3311300077340893, pvalue=1.9830030372532708e-32)\n",
      "18 SpearmanrResult(correlation=0.6693750551571541, pvalue=1.7712641086036751e-158)\n",
      "19 SpearmanrResult(correlation=0.06058198468044057, pvalue=0.034882390801279445)\n",
      "20 SpearmanrResult(correlation=0.4620304461445575, pvalue=3.5415606558918074e-65)\n"
     ]
    },
    {
     "name": "stderr",
     "output_type": "stream",
     "text": [
      "609it [04:53,  2.58it/s]\n",
      "152it [00:23,  7.18it/s]\n",
      "0it [00:00, ?it/s]"
     ]
    },
    {
     "name": "stdout",
     "output_type": "stream",
     "text": [
      "\r",
      " val_spearman-rho: 0.3077                                                                                                    \n",
      "0 SpearmanrResult(correlation=0.2178296765213908, pvalue=1.7055505259980484e-14)\n",
      "1 SpearmanrResult(correlation=0.2893053345177894, pvalue=8.120850350726729e-25)\n",
      "2 SpearmanrResult(correlation=0.1180396625939513, pvalue=3.767730000202812e-05)\n",
      "3 SpearmanrResult(correlation=0.10124201560979033, pvalue=0.00041318800112035965)\n",
      "4 SpearmanrResult(correlation=0.22274271283660996, pvalue=4.209675674644621e-15)\n",
      "5 SpearmanrResult(correlation=0.7573141363206122, pvalue=2.4070336521586695e-226)\n",
      "6 SpearmanrResult(correlation=0.27198940888980744, pvalue=5.13436537570515e-22)\n",
      "7 SpearmanrResult(correlation=0.6556414177682198, pvalue=6.128143804711058e-150)\n",
      "8 SpearmanrResult(correlation=0.1351626859279424, pvalue=2.309007938052277e-06)\n",
      "\u001b[93m Epoch 2/5 \t Train loss Q=3.2928 \t Val loss Q=3.3074 \t  Score Q=0.40477 \t Train loss A=2.8555 \t Val loss A=2.8935 \t Score A=0.30770  \t score=0.375648 \t time=633.52s \u001b[0m\n"
     ]
    },
    {
     "name": "stderr",
     "output_type": "stream",
     "text": [
      "609it [04:53,  2.60it/s]\n",
      "152it [00:23,  7.16it/s]\n",
      "0it [00:00, ?it/s]"
     ]
    },
    {
     "name": "stdout",
     "output_type": "stream",
     "text": [
      "\r",
      " val_spearman-rho: 0.42021                                                                                                    \n",
      "0 SpearmanrResult(correlation=0.37637163798278744, pvalue=4.1171897126847835e-42)\n",
      "1 SpearmanrResult(correlation=0.600174421488863, pvalue=1.3718753666990604e-119)\n",
      "2 SpearmanrResult(correlation=0.4198001584280299, pvalue=5.6937738506356655e-53)\n",
      "3 SpearmanrResult(correlation=0.2901597508770168, pvalue=5.837391003591746e-25)\n",
      "4 SpearmanrResult(correlation=0.3082932954353899, pvalue=4.0334740920384267e-28)\n",
      "5 SpearmanrResult(correlation=0.4355380853694854, pvalue=2.5522641451360674e-57)\n",
      "6 SpearmanrResult(correlation=0.3484794425454247, pvalue=5.885306116777967e-36)\n",
      "7 SpearmanrResult(correlation=0.49552645337733564, pvalue=3.72044882104458e-76)\n",
      "8 SpearmanrResult(correlation=0.6053839807873855, pvalue=3.463039769474981e-122)\n",
      "9 SpearmanrResult(correlation=0.06201549226982355, pvalue=0.03079303232561578)\n",
      "10 SpearmanrResult(correlation=0.452334253390157, pvalue=3.2057934511919557e-62)\n",
      "11 SpearmanrResult(correlation=0.7418524940435888, pvalue=2.032777672225255e-212)\n",
      "12 SpearmanrResult(correlation=0.37438622529111865, pvalue=1.1833956061857155e-41)\n",
      "13 SpearmanrResult(correlation=0.16838968731152226, pvalue=3.6165847260819115e-09)\n",
      "14 SpearmanrResult(correlation=0.3443861560152193, pvalue=4.1912785867783443e-35)\n",
      "15 SpearmanrResult(correlation=0.4656104469076683, pvalue=2.711435593726288e-66)\n",
      "16 SpearmanrResult(correlation=0.7992156334755561, pvalue=5.167145524364105e-270)\n",
      "17 SpearmanrResult(correlation=0.3197911380939708, pvalue=3.0418036297988403e-30)\n",
      "18 SpearmanrResult(correlation=0.6712451703839638, pvalue=1.1216657291871075e-159)\n",
      "19 SpearmanrResult(correlation=0.05181964790284396, pvalue=0.07121031647652563)\n",
      "20 SpearmanrResult(correlation=0.49371592172108225, pvalue=1.5693072516882046e-75)\n"
     ]
    },
    {
     "name": "stderr",
     "output_type": "stream",
     "text": [
      "609it [04:53,  2.60it/s]\n",
      "152it [00:23,  7.16it/s]\n",
      "0it [00:00, ?it/s]"
     ]
    },
    {
     "name": "stdout",
     "output_type": "stream",
     "text": [
      "\r",
      " val_spearman-rho: 0.32345                                                                                                    \n",
      "0 SpearmanrResult(correlation=0.22519527444367468, pvalue=2.067704396769069e-15)\n",
      "1 SpearmanrResult(correlation=0.3075480022040673, pvalue=5.496064907292571e-28)\n",
      "2 SpearmanrResult(correlation=0.1651590026131201, pvalue=7.206916976161304e-09)\n",
      "3 SpearmanrResult(correlation=0.13859384209158387, pvalue=1.2636212939948418e-06)\n",
      "4 SpearmanrResult(correlation=0.24169567270733702, pvalue=1.389512481146638e-17)\n",
      "5 SpearmanrResult(correlation=0.7573634645634867, pvalue=2.164610122807514e-226)\n",
      "6 SpearmanrResult(correlation=0.2602521790915949, pvalue=3.1423567406968926e-20)\n",
      "7 SpearmanrResult(correlation=0.6661980296984253, pvalue=1.8374698443253473e-156)\n",
      "8 SpearmanrResult(correlation=0.1490108316436209, pvalue=1.8525722880228783e-07)\n",
      "\u001b[93m Epoch 3/5 \t Train loss Q=3.1588 \t Val loss Q=3.2646 \t  Score Q=0.42021 \t Train loss A=2.7472 \t Val loss A=2.8860 \t Score A=0.32345  \t score=0.391184 \t time=633.55s \u001b[0m\n"
     ]
    },
    {
     "name": "stderr",
     "output_type": "stream",
     "text": [
      "609it [04:53,  2.59it/s]\n",
      "152it [00:23,  7.16it/s]\n",
      "0it [00:00, ?it/s]"
     ]
    },
    {
     "name": "stdout",
     "output_type": "stream",
     "text": [
      "\r",
      " val_spearman-rho: 0.4272                                                                                                    \n",
      "0 SpearmanrResult(correlation=0.3849329883330724, pvalue=3.9857238135161504e-44)\n",
      "1 SpearmanrResult(correlation=0.6098000056001396, pvalue=1.9921578459863122e-124)\n",
      "2 SpearmanrResult(correlation=0.42219282829406907, pvalue=1.2854564608783253e-53)\n",
      "3 SpearmanrResult(correlation=0.2939389773636255, pvalue=1.3368790366381332e-25)\n",
      "4 SpearmanrResult(correlation=0.3109080734846567, pvalue=1.3526146396643934e-28)\n",
      "5 SpearmanrResult(correlation=0.43615307762321426, pvalue=1.707212796806924e-57)\n",
      "6 SpearmanrResult(correlation=0.3459748883098291, pvalue=1.963091630275319e-35)\n",
      "7 SpearmanrResult(correlation=0.5079110711604786, pvalue=1.5572831402124947e-80)\n",
      "8 SpearmanrResult(correlation=0.6165692146281907, pvalue=6.252181801481149e-128)\n",
      "9 SpearmanrResult(correlation=0.08112873058017923, pvalue=0.004694057442118333)\n",
      "10 SpearmanrResult(correlation=0.4515742013826411, pvalue=5.416229391935913e-62)\n",
      "11 SpearmanrResult(correlation=0.7563488151379109, pvalue=1.9118542497205112e-225)\n",
      "12 SpearmanrResult(correlation=0.38072165585347334, pvalue=3.9697009603756164e-43)\n",
      "13 SpearmanrResult(correlation=0.18097950826128287, pvalue=2.1646333194476983e-10)\n",
      "14 SpearmanrResult(correlation=0.34528992248541013, pvalue=2.723920017103665e-35)\n",
      "15 SpearmanrResult(correlation=0.46507794447126805, pvalue=3.981418339078519e-66)\n",
      "16 SpearmanrResult(correlation=0.7974154300043139, pvalue=6.283305635391423e-268)\n",
      "17 SpearmanrResult(correlation=0.335091829650671, pvalue=3.247234555199191e-33)\n",
      "18 SpearmanrResult(correlation=0.6773599728933621, pvalue=1.1725861829422383e-163)\n",
      "19 SpearmanrResult(correlation=0.05942141026127504, pvalue=0.03852425915359026)\n",
      "20 SpearmanrResult(correlation=0.5123410725685958, pvalue=3.8193305371692834e-82)\n"
     ]
    },
    {
     "name": "stderr",
     "output_type": "stream",
     "text": [
      "609it [04:53,  2.59it/s]\n",
      "152it [00:23,  7.17it/s]\n",
      "0it [00:00, ?it/s]"
     ]
    },
    {
     "name": "stdout",
     "output_type": "stream",
     "text": [
      "\r",
      " val_spearman-rho: 0.33413                                                                                                    \n",
      "0 SpearmanrResult(correlation=0.25235146758561827, pvalue=4.4690752790481505e-19)\n",
      "1 SpearmanrResult(correlation=0.31739174170374634, pvalue=8.586254969705788e-30)\n",
      "2 SpearmanrResult(correlation=0.19155231153488742, pvalue=1.732933123706285e-11)\n",
      "3 SpearmanrResult(correlation=0.14708396267819554, pvalue=2.6696723956422914e-07)\n",
      "4 SpearmanrResult(correlation=0.2648214243375805, pvalue=6.4901660850426376e-21)\n",
      "5 SpearmanrResult(correlation=0.7564403579039485, pvalue=1.5714123394152456e-225)\n",
      "6 SpearmanrResult(correlation=0.2629346689395432, pvalue=1.2494987642079947e-20)\n",
      "7 SpearmanrResult(correlation=0.6611664553957624, pvalue=2.5493900415023207e-153)\n",
      "8 SpearmanrResult(correlation=0.15339006118558396, pvalue=7.935700920119667e-08)\n",
      "\u001b[93m Epoch 4/5 \t Train loss Q=3.0686 \t Val loss Q=3.2498 \t  Score Q=0.42720 \t Train loss A=2.6461 \t Val loss A=2.8990 \t Score A=0.33413  \t score=0.399275 \t time=633.55s \u001b[0m\n"
     ]
    },
    {
     "name": "stderr",
     "output_type": "stream",
     "text": [
      "609it [04:53,  2.59it/s]\n",
      "152it [00:23,  7.10it/s]\n",
      "0it [00:00, ?it/s]"
     ]
    },
    {
     "name": "stdout",
     "output_type": "stream",
     "text": [
      "\r",
      " val_spearman-rho: 0.4279                                                                                                    \n",
      "0 SpearmanrResult(correlation=0.38607314449070596, pvalue=2.126776214715502e-44)\n",
      "1 SpearmanrResult(correlation=0.6110192112512546, pvalue=4.727228157356428e-125)\n",
      "2 SpearmanrResult(correlation=0.42218390339646195, pvalue=1.2926412458491871e-53)\n",
      "3 SpearmanrResult(correlation=0.29435802312413467, pvalue=1.1337499666798355e-25)\n",
      "4 SpearmanrResult(correlation=0.3119784404831541, pvalue=8.620845524575259e-29)\n",
      "5 SpearmanrResult(correlation=0.4372702879190989, pvalue=8.205668329920298e-58)\n",
      "6 SpearmanrResult(correlation=0.34762151658545637, pvalue=8.902572367521465e-36)\n",
      "7 SpearmanrResult(correlation=0.5088604538139778, pvalue=7.067181900974485e-81)\n",
      "8 SpearmanrResult(correlation=0.6158033114228009, pvalue=1.5728976678474593e-127)\n",
      "9 SpearmanrResult(correlation=0.08322048627012674, pvalue=0.003726157280910468)\n",
      "10 SpearmanrResult(correlation=0.4535964122126938, pvalue=1.3379314563222004e-62)\n",
      "11 SpearmanrResult(correlation=0.7543083699916499, pvalue=1.4789941875067688e-223)\n",
      "12 SpearmanrResult(correlation=0.3786453112527625, pvalue=1.2177713133246685e-42)\n",
      "13 SpearmanrResult(correlation=0.18455148353512665, pvalue=9.37693389255827e-11)\n",
      "14 SpearmanrResult(correlation=0.34562575895412906, pvalue=2.320022022721381e-35)\n",
      "15 SpearmanrResult(correlation=0.4642481200159745, pvalue=7.235073965972264e-66)\n",
      "16 SpearmanrResult(correlation=0.7980908678744382, pvalue=1.0432835987791011e-268)\n",
      "17 SpearmanrResult(correlation=0.3315046247912473, pvalue=1.6730671917897499e-32)\n",
      "18 SpearmanrResult(correlation=0.6794143032253162, pvalue=5.128398823744076e-165)\n",
      "19 SpearmanrResult(correlation=0.05947943898223332, pvalue=0.03833478723793215)\n",
      "20 SpearmanrResult(correlation=0.5180215418603307, pvalue=3.0337367579096254e-84)\n"
     ]
    },
    {
     "name": "stderr",
     "output_type": "stream",
     "text": [
      "609it [04:53,  2.60it/s]\n",
      "152it [00:23,  7.18it/s]\n",
      "100%|██████████| 5/5 [52:48<00:00, 633.63s/it]\n"
     ]
    },
    {
     "name": "stdout",
     "output_type": "stream",
     "text": [
      "\r",
      " val_spearman-rho: 0.33296                                                                                                    \n",
      "0 SpearmanrResult(correlation=0.2491524409985504, pvalue=1.2758819222466567e-18)\n",
      "1 SpearmanrResult(correlation=0.32219017834103725, pvalue=1.0675998719905727e-30)\n",
      "2 SpearmanrResult(correlation=0.19060699766675535, pvalue=2.1849497266740142e-11)\n",
      "3 SpearmanrResult(correlation=0.1473540680467927, pvalue=2.5370912272579485e-07)\n",
      "4 SpearmanrResult(correlation=0.2618698666091672, pvalue=1.8041513538239876e-20)\n",
      "5 SpearmanrResult(correlation=0.7533523824700271, pvalue=1.1178693970335613e-222)\n",
      "6 SpearmanrResult(correlation=0.26492486440370766, pvalue=6.2602698348793954e-21)\n",
      "7 SpearmanrResult(correlation=0.6608123060949125, pvalue=4.21995576174498e-153)\n",
      "8 SpearmanrResult(correlation=0.14637752738072218, pvalue=3.048792109733305e-07)\n",
      "\u001b[93m Epoch 5/5 \t Train loss Q=3.0126 \t Val loss Q=3.2517 \t  Score Q=0.42790 \t Train loss A=2.5796 \t Val loss A=2.9262 \t Score A=0.33296  \t score=0.399417 \t time=633.67s \u001b[0m\n",
      "Best Rhos: 0.4012360278031519\n"
     ]
    }
   ],
   "source": [
    "best_rhos = []\n",
    "for fold, (train_index, val_index) in enumerate(kf.split(train.values, y_train_q)):\n",
    "\n",
    "  #if fold > 1:  \n",
    "    print(bcolors.HEADER, \"Current Fold:\", fold, bcolors.ENDC)\n",
    "    train_df, val_df = train.iloc[train_index], train.iloc[val_index]\n",
    "    print(\"Train and Valid Shapes are\", train_df.shape, val_df.shape)   \n",
    "    print(bcolors.HEADER, \"Preparing train datasets....\", bcolors.ENDC)\n",
    "\n",
    "    #questions\n",
    "    inputs_train_q = compute_input_arays(train_df, input_categories_q, question_tokenizer, max_sequence_length=512)\n",
    "    outputs_train_q = compute_output_arrays(train_df, columns = target_cols_questions)\n",
    "    outputs_train_q = torch.tensor(outputs_train_q, dtype=torch.float32)\n",
    "    lengths_train_q = np.argmax(inputs_train_q[0] == 0, axis=1)\n",
    "    lengths_train_q[lengths_train_q == 0] = inputs_train_q[0].shape[1]\n",
    "\n",
    "    #answers\n",
    "    inputs_train_a = compute_input_arays_answers(train_df, input_categories_a, answer_tokenizer, max_sequence_length=512)\n",
    "    outputs_train_a = compute_output_arrays(train_df, columns = target_cols_answers)\n",
    "    outputs_train_a = torch.tensor(outputs_train_a, dtype=torch.float32)\n",
    "    lengths_train_a = np.argmax(inputs_train_a[0] == 0, axis=1)\n",
    "    lengths_train_a[lengths_train_a == 0] = inputs_train_a[0].shape[1]\n",
    "\n",
    "    print(bcolors.HEADER, \"Preparing Valid datasets....\", bcolors.ENDC)\n",
    "    #questions\n",
    "    inputs_valid_q = compute_input_arays(val_df, input_categories_q, question_tokenizer, max_sequence_length=512)\n",
    "    outputs_valid_q = compute_output_arrays(val_df, columns = target_cols_questions)\n",
    "    outputs_valid_q = torch.tensor(outputs_valid_q, dtype=torch.float32)\n",
    "    lengths_valid_q = np.argmax(inputs_valid_q[0] == 0, axis=1)\n",
    "    lengths_valid_q[lengths_valid_q == 0] = inputs_valid_q[0].shape[1]\n",
    "\n",
    "    #answers\n",
    "    inputs_valid_a = compute_input_arays_answers(val_df, input_categories_a, answer_tokenizer, max_sequence_length=512)\n",
    "    outputs_valid_a = compute_output_arrays(val_df, columns = target_cols_answers)\n",
    "    outputs_valid_a = torch.tensor(outputs_valid_a, dtype=torch.float32)\n",
    "    lengths_valid_a = np.argmax(inputs_valid_a[0] == 0, axis=1)\n",
    "    lengths_valid_a[lengths_valid_a == 0] = inputs_valid_a[0].shape[1]\n",
    "\n",
    "\n",
    "    print(bcolors.HEADER, \"Preparing Dataloaders Datasets....\", bcolors.ENDC)\n",
    "    #questions\n",
    "    train_set_q    = QuestDataset(inputs=inputs_train_q, usefeatures=torch.FloatTensor(xtrain_usefeatures[train_index,:]), lengths=lengths_train_q, labels=outputs_train_q)\n",
    "    train_loader_q = DataLoader(train_set_q, batch_size=BATCH_SIZE, shuffle=True)\n",
    "    #answers\n",
    "    train_set_a    = QuestDataset(inputs=inputs_train_a,usefeatures=torch.FloatTensor(xtrain_usefeatures[train_index,:]), lengths=lengths_train_a, labels=outputs_train_a)\n",
    "    train_loader_a = DataLoader(train_set_a, batch_size=BATCH_SIZE, shuffle=True)\n",
    "    #questions\n",
    "    valid_set_q    = QuestDataset(inputs=inputs_valid_q,usefeatures=torch.FloatTensor(xtrain_usefeatures[val_index,:]), lengths=lengths_valid_q, labels=outputs_valid_q)\n",
    "    valid_loader_q = DataLoader(valid_set_q, batch_size=BATCH_SIZE, shuffle=False, drop_last=False)\n",
    "    #answers\n",
    "    valid_set_a    = QuestDataset(inputs=inputs_valid_a, usefeatures=torch.FloatTensor(xtrain_usefeatures[val_index,:]),lengths=lengths_valid_a, labels=outputs_valid_a)\n",
    "    valid_loader_a = DataLoader(valid_set_a, batch_size=BATCH_SIZE, shuffle=False, drop_last=False)\n",
    "\n",
    "    i = 0\n",
    "    best_avg_loss_q,best_avg_loss_a    = 100.0 , 100.0\n",
    "    best_score_q, best_score_a      = -1. , -1.\n",
    "    best_param_loss_q, best_param_loss_a = None,None\n",
    "    best_param_score_q,best_param_score_a = None,None\n",
    "\n",
    "    #model for questions\n",
    "    #model_q = RobertaForSequenceClassification_v2.from_pretrained(path_join(data_dir,'roberta.base','model.pt'),config =robert_config_question)\n",
    "    model_q = RobertaForSequenceClassification_v2.from_pretrained('roberta-base',config =robert_config_question)\n",
    "    \n",
    "    model_q.zero_grad();\n",
    "    model_q.to(device);\n",
    "    torch.cuda.empty_cache()\n",
    "    model_q.train();\n",
    "    \n",
    "\n",
    "     #model for answers\n",
    "    #model_a = RobertaForSequenceClassification_v2.from_pretrained(path_join(data_dir,'roberta.base','model.pt'),config =robert_config_answer)\n",
    "    model_a = RobertaForSequenceClassification_v2.from_pretrained('roberta-base',config =robert_config_answer)\n",
    "    model_a.zero_grad();\n",
    "    model_a.to(device);\n",
    "    torch.cuda.empty_cache()\n",
    "    model_a.train();\n",
    "\n",
    "    #questions\n",
    "    optimizer_q = torch.optim.AdamW(model_q.parameters(), lr=4e-5, eps=4e-5)\n",
    "    criterion = nn.BCEWithLogitsLoss( reduction='none')\n",
    "    scheduler_q = get_cosine_schedule_with_warmup(optimizer_q, num_warmup_steps=0.01, num_training_steps= epochs*len(train_loader_q)//ACCUM_STEPS)\n",
    "\n",
    "    #answers\n",
    "    optimizer_a = torch.optim.AdamW(model_a.parameters(), lr=4e-5, eps=4e-5)\n",
    "    criterion = nn.BCEWithLogitsLoss( reduction='none')\n",
    "    scheduler_a = get_cosine_schedule_with_warmup(optimizer_a, num_warmup_steps=0.01, num_training_steps= epochs*len(train_loader_a)//ACCUM_STEPS)\n",
    "\n",
    "    print(\"Training....\")\n",
    "\n",
    "    for epoch in tqdm(range(epochs),position=0, leave=True ):        \n",
    "        torch.cuda.empty_cache()\n",
    "\n",
    "        start_time_q   = time.time()\n",
    "        avg_loss_q    = train_model_questions(train_loader_q, optimizer_q, criterion, scheduler_q)\n",
    "        avg_val_loss_q, score_q, preds_q = val_model_questions(valid_loader_q, val_shape=val_df.shape[0])\n",
    "        elapsed_time_q = time.time() - start_time_q\n",
    "\n",
    "\n",
    "        start_time_a   = time.time()\n",
    "        avg_loss_a    = train_model_answers(train_loader_a, optimizer_a, criterion, scheduler_a)\n",
    "        avg_val_loss_a,  score_a, preds_a = val_model_answers(valid_loader_a, val_shape=val_df.shape[0])\n",
    "        elapsed_time_a = time.time() - start_time_q\n",
    "\n",
    "        p = np.hstack((preds_q,  preds_a)) #np.hstack((preds_q,  preds_a[:,21:30]))\n",
    "        o = np.hstack((outputs_valid_q[:,0:21].numpy(), outputs_valid_a[:,0:9].numpy()))   #outputs_valid_a[:,0:30].numpy()\n",
    "        score = np.mean([spearmanr(o[:, i], p[:,i]).correlation for i in range(30)])\n",
    "\n",
    "        # print(bcolors.WARNING, 'Epoch {}/{} \\t Train loss Q={:.4f} \\t Val loss Q={:.4f} \\t Train loss A={:.4f} \\t Val loss A={:.4f}  \\t score={:.6f} \\t time={:.2f}s'.format(\n",
    "        #     epoch + 1, epochs, avg_loss_q, avg_val_loss_q,avg_loss_a, avg_val_loss_a, score, elapsed_time_a),\n",
    "        # bcolors.ENDC\n",
    "        # )\n",
    "        print(bcolors.WARNING, 'Epoch {}/{} \\t Train loss Q={:.4f} \\t Val loss Q={:.4f} \\t  Score Q={:.5f} \\t Train loss A={:.4f} \\t Val loss A={:.4f} \\t Score A={:.5f}  \\t score={:.6f} \\t time={:.2f}s'.format(\n",
    "            epoch + 1, epochs, avg_loss_q, avg_val_loss_q,  score_q, avg_loss_a, avg_val_loss_a, score_a,  score, elapsed_time_a),\n",
    "        bcolors.ENDC\n",
    "        )\n",
    "        logging.warning('Epoch {}/{} \\t Train loss Q={:.4f} \\t Val loss Q={:.4f} \\t  Score Q={:.5f} \\t Train loss A={:.4f} \\t Val loss A={:.4f} \\t Score A={:.5f}  \\t score={:.6f} \\t time={:.2f}s'.format(\n",
    "            epoch + 1, epochs, avg_loss_q, avg_val_loss_q,  score_q, avg_loss_a, avg_val_loss_a, score_a,  score, elapsed_time_a))\n",
    "        \n",
    "        all_rhos.append(score)\n",
    "\n",
    "        if best_score_q < score_q:\n",
    "            best_score_q = score_q\n",
    "            best_e_q = epoch\n",
    "            best_param_score_q = model_q.state_dict()\n",
    "        else:\n",
    "            i += 1\n",
    "            \n",
    "        if best_score_a < score_a:\n",
    "            best_score_a = score_a\n",
    "            best_e_a = epoch\n",
    "            best_param_score_a = model_a.state_dict()\n",
    "        else:\n",
    "            i += 1\n",
    "\n",
    "    best_rhos.append((best_score_q*21 + best_score_a*9)/30.0)\n",
    "    torch.save(best_param_score_q,path_join('gdrive','My Drive','kaggle','submissions','roberta_seed_1029','saved_models_1029','Q_model_save_fold_{}.pt'.format(fold)))\n",
    "    torch.save(best_param_score_a,path_join('gdrive','My Drive','kaggle','submissions','roberta_seed_1029','saved_models_1029','A_model_save_fold_{}.pt'.format(fold)))\n",
    "        # torch.save(model_q.state_dict(),path_join('/home','jupyter', 'submissions','bert_use_features2','saved_models2','Qmodel_save_fold_{}_epoch_{}.pt'.format(fold,epoch)))\n",
    "        # torch.save(model_a.state_dict(),path_join('/home','jupyter', 'submissions','bert_use_features2','saved_models2','Amodel_save_fold_{}_epoch_{}.pt'.format(fold,epoch)))\n",
    "\n",
    "\n",
    "logging.info(all_rhos)\n",
    "logging.warning(np.mean(best_rhos))\n",
    "print(\"Best Rhos:\",np.mean(best_rhos))\n",
    "#Fold 0\n",
    "#Epoch 1/5 \t Train loss Q=3.6291 \t Val loss Q=3.3467 \t  Score Q=0.37285 \t Train loss A=3.0599 \t Val loss A=2.9053 \t Score A=0.26080  \t score=0.339231 \n",
    "#Epoch 2/5 \t Train loss Q=3.2991 \t Val loss Q=3.2418 \t  Score Q=0.41490 \t Train loss A=2.8658 \t Val loss A=2.8570 \t Score A=0.29683  \t score=0.379478 \n",
    "#Epoch 3/5 \t Train loss Q=3.1689 \t Val loss Q=3.2556 \t  Score Q=0.42321 \t Train loss A=2.7558 \t Val loss A=2.8924 \t Score A=0.30668  \t score=0.388249 \n",
    "#Epoch 4/5 \t Train loss Q=3.0835 \t Val loss Q=3.2204 \t  Score Q=0.43078 \t Train loss A=2.6517 \t Val loss A=2.8680 \t Score A=0.31594  \t score=0.396327 \n",
    "#Epoch 5/5 \t Train loss Q=3.0326 \t Val loss Q=3.2294 \t  Score Q=0.43011 \t Train loss A=2.5876 \t Val loss A=2.8840 \t Score A=0.31390  \t score=0.395246 \n",
    "\n",
    "#Fold 1\n",
    "#Epoch 1/5 \t Train loss Q=3.6351 \t Val loss Q=3.3773 \t  Score Q=0.37860 \t Train loss A=3.0605 \t Val loss A=2.8482 \t Score A=0.26614  \t score=0.344861\n",
    "#Epoch 2/5 \t Train loss Q=3.2919 \t Val loss Q=3.2975 \t  Score Q=0.41038 \t Train loss A=2.8895 \t Val loss A=2.7901 \t Score A=0.29722  \t score=0.376434 \n",
    "#Epoch 3/5 \t Train loss Q=3.1569 \t Val loss Q=3.2572 \t  Score Q=0.42451 \t Train loss A=2.7733 \t Val loss A=2.8140 \t Score A=0.30807  \t score=0.389576 \n",
    "#Epoch 4/5 \t Train loss Q=3.0682 \t Val loss Q=3.2425 \t  Score Q=0.42885 \t Train loss A=2.6735 \t Val loss A=2.8094 \t Score A=0.32633  \t score=0.398096 \n",
    "#Epoch 5/5 \t Train loss Q=3.0135 \t Val loss Q=3.2511 \t  Score Q=0.42892 \t Train loss A=2.6079 \t Val loss A=2.8167 \t Score A=0.32991  \t score=0.399219 \n",
    "\n",
    "#Fold 2\n",
    "#Epoch 1/5 \t Train loss Q=3.6564 \t Val loss Q=3.3355 \t  Score Q=0.37701 \t Train loss A=3.0213 \t Val loss A=2.9099 \t Score A=0.28440  \t score=0.349230\n",
    "#Epoch 2/5 \t Train loss Q=3.3040 \t Val loss Q=3.2620 \t  Score Q=0.39947 \t Train loss A=2.8633 \t Val loss A=2.8619 \t Score A=0.33732  \t score=0.380825 \t time=1161.45s \n",
    "#Epoch 3/5 \t Train loss Q=3.1668 \t Val loss Q=3.2258 \t  Score Q=0.41935 \t Train loss A=2.7541 \t Val loss A=2.8580 \t Score A=0.35387  \t score=0.399709 \t time=1162.21s \n",
    "#Epoch 4/5 \t Train loss Q=3.0738 \t Val loss Q=3.2288 \t  Score Q=0.42027 \t Train loss A=2.6546 \t Val loss A=2.8709 \t Score A=0.36130  \t score=0.402576 \t time=1162.43s \n",
    "#Epoch 5/5 \t Train loss Q=3.0184 \t Val loss Q=3.2307 \t  Score Q=0.42141 \t Train loss A=2.5918 \t Val loss A=2.8878 \t Score A=0.35558  \t score=0.401661 \n",
    "\n",
    "#Fold 3\n",
    "#Epoch 1/5 \t Train loss Q=3.6034 \t Val loss Q=3.3458 \t  Score Q=0.37910 \t Train loss A=3.0650 \t Val loss A=3.0914 \t Score A=0.26050  \t score=0.343520\n",
    "#Epoch 2/5 \t Train loss Q=3.2757 \t Val loss Q=3.2794 \t  Score Q=0.41307 \t Train loss A=2.8709 \t Val loss A=2.9206 \t Score A=0.30731  \t score=0.381342 \n",
    "#Epoch 3/5 \t Train loss Q=3.1492 \t Val loss Q=3.2543 \t  Score Q=0.42318 \t Train loss A=2.7528 \t Val loss A=2.9059 \t Score A=0.31349  \t score=0.390273 \n",
    "#Epoch 4/5 \t Train loss Q=3.0567 \t Val loss Q=3.2596 \t  Score Q=0.42535 \t Train loss A=2.6504 \t Val loss A=2.9141 \t Score A=0.31956  \t score=0.393616 \n",
    "#Epoch 5/5 \t Train loss Q=3.0038 \t Val loss Q=3.2597 \t  Score Q=0.42577 \t Train loss A=2.5788 \t Val loss A=2.9400 \t Score A=0.31793  \t score=0.393420\n",
    "\n",
    "#Fold 4\n",
    "#Epoch 1/5 \t Train loss Q=3.6454 \t Val loss Q=3.4217 \t  Score Q=0.36672 \t Train loss A=3.0171 \t Val loss A=2.9213 \t Score A=0.27712  \t score=0.339841\n",
    "#Epoch 2/5 \t Train loss Q=3.3042 \t Val loss Q=3.2812 \t  Score Q=0.41768 \t Train loss A=2.8419 \t Val loss A=2.9026 \t Score A=0.29734  \t score=0.381582\n",
    "#Epoch 3/5 \t Train loss Q=3.1631 \t Val loss Q=3.2649 \t  Score Q=0.42529 \t Train loss A=2.7362 \t Val loss A=2.9021 \t Score A=0.32294  \t score=0.394586\n",
    "#Epoch 4/5 \t Train loss Q=3.0724 \t Val loss Q=3.2554 \t  Score Q=0.42962 \t Train loss A=2.6296 \t Val loss A=2.9024 \t Score A=0.32544  \t score=0.398366\n",
    "#Epoch 5/5 \t Train loss Q=3.0194 \t Val loss Q=3.2582 \t  Score Q=0.42994 \t Train loss A=2.5660 \t Val loss A=2.9175 \t Score A=0.32513  \t score=0.398495 \n"
   ]
  },
  {
   "cell_type": "code",
   "execution_count": 0,
   "metadata": {
    "colab": {},
    "colab_type": "code",
    "id": "WdH0rGTMxgsz"
   },
   "outputs": [],
   "source": [
    "#seed 101 = Best Rhos: 0.40001835074053727\n",
    "#fold 0\n",
    "#Epoch 1/5 \t Train loss Q=3.6465 \t Val loss Q=3.3752 \t  Score Q=0.37313 \t Train loss A=3.0130 \t Val loss A=2.9009 \t Score A=0.30204  \t score=0.351800 \n",
    "#Epoch 2/5 \t Train loss Q=3.3065 \t Val loss Q=3.2708 \t  Score Q=0.41303 \t Train loss A=2.8496 \t Val loss A=2.8537 \t Score A=0.32592  \t score=0.386899 \n",
    "#Epoch 3/5 \t Train loss Q=3.1729 \t Val loss Q=3.2182 \t  Score Q=0.42667 \t Train loss A=2.7434 \t Val loss A=2.8512 \t Score A=0.33558  \t score=0.399343 \n",
    "#Epoch 4/5 \t Train loss Q=3.0805 \t Val loss Q=3.2230 \t  Score Q=0.42826 \t Train loss A=2.6389 \t Val loss A=2.8626 \t Score A=0.33821  \t score=0.401243 \n",
    "#Epoch 5/5 \t Train loss Q=3.0243 \t Val loss Q=3.2256 \t  Score Q=0.42841 \t Train loss A=2.5809 \t Val loss A=2.8796 \t Score A=0.33659  \t score=0.400865\n",
    "\n",
    "#fold 1\n",
    "#Epoch 1/5 \t Train loss Q=3.6608 \t Val loss Q=3.4193 \t  Score Q=0.37832 \t Train loss A=3.0450 \t Val loss A=2.8930 \t Score A=0.27187  \t score=0.346386\n",
    "#Epoch 2/5 \t Train loss Q=3.3020 \t Val loss Q=3.2908 \t  Score Q=0.41636 \t Train loss A=2.8527 \t Val loss A=2.8901 \t Score A=0.29938  \t score=0.381267 \n",
    "#Epoch 3/5 \t Train loss Q=3.1659 \t Val loss Q=3.2635 \t  Score Q=0.41941 \t Train loss A=2.7586 \t Val loss A=2.8404 \t Score A=0.32161  \t score=0.390069 \n",
    "#Epoch 4/5 \t Train loss Q=3.0751 \t Val loss Q=3.2547 \t  Score Q=0.42925 \t Train loss A=2.6593 \t Val loss A=2.8685 \t Score A=0.32359  \t score=0.397552\n",
    "#Epoch 5/5 \t Train loss Q=3.0206 \t Val loss Q=3.2569 \t  Score Q=0.42965 \t Train loss A=2.5987 \t Val loss A=2.8739 \t Score A=0.32882  \t score=0.399401\n",
    "\n",
    "#fold 2\n",
    "#Epoch 1/5 \t Train loss Q=3.6485 \t Val loss Q=3.3970 \t  Score Q=0.37134 \t Train loss A=3.0209 \t Val loss A=2.9240 \t Score A=0.26258  \t score=0.338716\n",
    "#Epoch 2/5 \t Train loss Q=3.3063 \t Val loss Q=3.2726 \t  Score Q=0.40817 \t Train loss A=2.8490 \t Val loss A=2.8695 \t Score A=0.29184  \t score=0.373267 \n",
    "#Epoch 3/5 \t Train loss Q=3.1726 \t Val loss Q=3.2544 \t  Score Q=0.41980 \t Train loss A=2.7474 \t Val loss A=2.8555 \t Score A=0.31695  \t score=0.388946 \n",
    "#Epoch 4/5 \t Train loss Q=3.0783 \t Val loss Q=3.2402 \t  Score Q=0.42286 \t Train loss A=2.6486 \t Val loss A=2.8895 \t Score A=0.32781  \t score=0.394344\n",
    "#Epoch 5/5 \t Train loss Q=3.0287 \t Val loss Q=3.2486 \t  Score Q=0.42310 \t Train loss A=2.5868 \t Val loss A=2.9125 \t Score A=0.32722  \t score=0.394332 \n",
    "\n",
    "#fold 3\n",
    "#Epoch 1/5 \t Train loss Q=3.6445 \t Val loss Q=3.3337 \t  Score Q=0.38704 \t Train loss A=3.0510 \t Val loss A=2.9127 \t Score A=0.24856  \t score=0.345500 \n",
    "#Epoch 2/5 \t Train loss Q=3.3088 \t Val loss Q=3.2371 \t  Score Q=0.42216 \t Train loss A=2.8674 \t Val loss A=2.8869 \t Score A=0.30683  \t score=0.387561 \n",
    "#poch 3/5 \t Train loss Q=3.1785 \t Val loss Q=3.2187 \t  Score Q=0.43165 \t Train loss A=2.7655 \t Val loss A=2.8162 \t Score A=0.34497  \t score=0.405645 \n",
    "#Epoch 4/5 \t Train loss Q=3.0848 \t Val loss Q=3.2250 \t  Score Q=0.43497 \t Train loss A=2.6583 \t Val loss A=2.8393 \t Score A=0.35230  \t score=0.410167 \n",
    "#Epoch 5/5 \t Train loss Q=3.0318 \t Val loss Q=3.2208 \t  Score Q=0.43622 \t Train loss A=2.5872 \t Val loss A=2.8599 \t Score A=0.35194  \t score=0.410933 \n",
    "\n",
    "#fold 4\n",
    "#Epoch 1/5 \t Train loss Q=3.6318 \t Val loss Q=3.3908 \t  Score Q=0.37632 \t Train loss A=3.0399 \t Val loss A=2.8916 \t Score A=0.28689  \t score=0.349489 \n",
    "#Epoch 2/5 \t Train loss Q=3.2875 \t Val loss Q=3.3016 \t  Score Q=0.41263 \t Train loss A=2.8559 \t Val loss A=2.8728 \t Score A=0.29738  \t score=0.378053\n",
    "#Epoch 3/5 \t Train loss Q=3.1647 \t Val loss Q=3.2512 \t  Score Q=0.42451 \t Train loss A=2.7322 \t Val loss A=2.9082 \t Score A=0.30192  \t score=0.387729\n",
    "#Epoch 4/5 \t Train loss Q=3.0753 \t Val loss Q=3.2565 \t  Score Q=0.42699 \t Train loss A=2.6290 \t Val loss A=2.9158 \t Score A=0.31597  \t score=0.393682\n",
    "#Epoch 5/5 \t Train loss Q=3.0221 \t Val loss Q=3.2533 \t  Score Q=0.42714 \t Train loss A=2.5673 \t Val loss A=2.9345 \t Score A=0.31109  \t score=0.392324 \n",
    "\n",
    "# Seed 42\n",
    "#Fold 0 \n",
    "#Epoch 1/5 \t Train loss Q=3.6090 \t Val loss Q=3.3769 \t  Score Q=0.38789 \t Train loss A=3.0358 \t Val loss A=2.9281 \t Score A=0.25481  \t score=0.347965 \n",
    "#Epoch 2/5 \t Train loss Q=3.2809 \t Val loss Q=3.2712 \t  Score Q=0.41401 \t Train loss A=2.8714 \t Val loss A=2.8501 \t Score A=0.30459  \t score=0.381183 \n",
    "#Epoch 3/5 \t Train loss Q=3.1597 \t Val loss Q=3.2413 \t  Score Q=0.42741 \t Train loss A=2.7692 \t Val loss A=2.8257 \t Score A=0.32929  \t score=0.397977\n",
    "#Epoch 4/5 \t Train loss Q=3.0639 \t Val loss Q=3.2401 \t  Score Q=0.42968 \t Train loss A=2.6711 \t Val loss A=2.8494 \t Score A=0.33965  \t score=0.402669 \n",
    "#Epoch 5/5 \t Train loss Q=3.0106 \t Val loss Q=3.2400 \t  Score Q=0.42994 \t Train loss A=2.6066 \t Val loss A=2.8563 \t Score A=0.34197  \t score=0.403548 \n",
    "\n",
    "#Fold 1 (seems like I ran fold 1 first!!)\n",
    "#Epoch 1/5 \t Train loss Q=3.6729 \t Val loss Q=3.4193 \t  Score Q=0.36193 \t Train loss A=3.0376 \t Val loss A=2.8714 \t Score A=0.25758  \t score=0.330624 \n",
    "#Epoch 2/5 \t Train loss Q=3.3151 \t Val loss Q=3.2850 \t  Score Q=0.40845 \t Train loss A=2.8580 \t Val loss A=2.8161 \t Score A=0.31599  \t score=0.380709 \n",
    "#Epoch 3/5 \t Train loss Q=3.1757 \t Val loss Q=3.2270 \t  Score Q=0.42401 \t Train loss A=2.7472 \t Val loss A=2.8132 \t Score A=0.33506  \t score=0.397328 \n",
    "#Epoch 4/5 \t Train loss Q=3.0787 \t Val loss Q=3.2295 \t  Score Q=0.42494 \t Train loss A=2.6447 \t Val loss A=2.8384 \t Score A=0.34775  \t score=0.401781\n",
    "#Epoch 5/5 \t Train loss Q=3.0240 \t Val loss Q=3.2328 \t  Score Q=0.42581 \t Train loss A=2.5796 \t Val loss A=2.8537 \t Score A=0.34537  \t score=0.401677 \n",
    "\n",
    "#Fold 2\n",
    "#Epoch 1/5 \t Train loss Q=3.6480 \t Val loss Q=3.3509 \t  Score Q=0.39388 \t Train loss A=3.0346 \t Val loss A=2.9463 \t Score A=0.25937  \t score=0.353528 \n",
    "#Epoch 2/5 \t Train loss Q=3.3015 \t Val loss Q=3.2849 \t  Score Q=0.41583 \t Train loss A=2.8625 \t Val loss A=2.8586 \t Score A=0.30475  \t score=0.382504 \n"
   ]
  },
  {
   "cell_type": "code",
   "execution_count": 0,
   "metadata": {
    "colab": {
     "base_uri": "https://localhost:8080/",
     "height": 442
    },
    "colab_type": "code",
    "executionInfo": {
     "elapsed": 17,
     "status": "ok",
     "timestamp": 1581145340188,
     "user": {
      "displayName": "Rashmi Banthia",
      "photoUrl": "https://lh3.googleusercontent.com/a-/AAuE7mC5ihkUCG0_SA8371-sQxBlJGpW-h1VSy6j7MY-QQ=s64",
      "userId": "08241869107709835428"
     },
     "user_tz": 300
    },
    "id": "BBZ29HBwYoFR",
    "outputId": "fb082f76-1d11-449f-ff50-387a55bc1413"
   },
   "outputs": [
    {
     "data": {
      "text/plain": [
       "[0.35180030951654445,\n",
       " 0.38689907071757834,\n",
       " 0.39934297582903827,\n",
       " 0.4012427167083823,\n",
       " 0.40086516255312965,\n",
       " 0.3463861853241752,\n",
       " 0.38126744429415166,\n",
       " 0.3900687706930823,\n",
       " 0.397551690809272,\n",
       " 0.3994012901122473,\n",
       " 0.3387159686838434,\n",
       " 0.3732671378480203,\n",
       " 0.3889463665524084,\n",
       " 0.3943438783009059,\n",
       " 0.3943321358639862,\n",
       " 0.3455003449456339,\n",
       " 0.38756051102503614,\n",
       " 0.4056445897249139,\n",
       " 0.4101674718980629,\n",
       " 0.41093260828006717,\n",
       " 0.34948943900545043,\n",
       " 0.37805251295942816,\n",
       " 0.38772916493152815,\n",
       " 0.3936821972163829,\n",
       " 0.3923236366304047]"
      ]
     },
     "execution_count": 41,
     "metadata": {
      "tags": []
     },
     "output_type": "execute_result"
    }
   ],
   "source": [
    "all_rhos"
   ]
  },
  {
   "cell_type": "code",
   "execution_count": 0,
   "metadata": {
    "colab": {
     "base_uri": "https://localhost:8080/",
     "height": 34
    },
    "colab_type": "code",
    "executionInfo": {
     "elapsed": 222,
     "status": "ok",
     "timestamp": 1581145340400,
     "user": {
      "displayName": "Rashmi Banthia",
      "photoUrl": "https://lh3.googleusercontent.com/a-/AAuE7mC5ihkUCG0_SA8371-sQxBlJGpW-h1VSy6j7MY-QQ=s64",
      "userId": "08241869107709835428"
     },
     "user_tz": 300
    },
    "id": "SqjgbWxksqKD",
    "outputId": "54529b62-e004-419d-e099-abefbb1796fd"
   },
   "outputs": [
    {
     "data": {
      "text/plain": [
       "0.38422054321694693"
      ]
     },
     "execution_count": 42,
     "metadata": {
      "tags": []
     },
     "output_type": "execute_result"
    }
   ],
   "source": [
    "np.mean(all_rhos)"
   ]
  },
  {
   "cell_type": "code",
   "execution_count": 0,
   "metadata": {
    "colab": {},
    "colab_type": "code",
    "id": "Ikd7sZH-srre"
   },
   "outputs": [],
   "source": []
  }
 ],
 "metadata": {
  "accelerator": "GPU",
  "colab": {
   "collapsed_sections": [],
   "name": "model_use_roberta_seed1029.ipynb",
   "provenance": []
  },
  "kernelspec": {
   "display_name": "Python (myenv)",
   "language": "python",
   "name": "myenv"
  },
  "language_info": {
   "codemirror_mode": {
    "name": "ipython",
    "version": 3
   },
   "file_extension": ".py",
   "mimetype": "text/x-python",
   "name": "python",
   "nbconvert_exporter": "python",
   "pygments_lexer": "ipython3",
   "version": "3.7.6"
  },
  "widgets": {
   "application/vnd.jupyter.widget-state+json": {
    "01d08197ab1f4b57a9401ca349c05575": {
     "model_module": "@jupyter-widgets/controls",
     "model_name": "ProgressStyleModel",
     "state": {
      "_model_module": "@jupyter-widgets/controls",
      "_model_module_version": "1.5.0",
      "_model_name": "ProgressStyleModel",
      "_view_count": null,
      "_view_module": "@jupyter-widgets/base",
      "_view_module_version": "1.2.0",
      "_view_name": "StyleView",
      "bar_color": null,
      "description_width": "initial"
     }
    },
    "04aef23de6614bab94390156858e8d44": {
     "model_module": "@jupyter-widgets/controls",
     "model_name": "HBoxModel",
     "state": {
      "_dom_classes": [],
      "_model_module": "@jupyter-widgets/controls",
      "_model_module_version": "1.5.0",
      "_model_name": "HBoxModel",
      "_view_count": null,
      "_view_module": "@jupyter-widgets/controls",
      "_view_module_version": "1.5.0",
      "_view_name": "HBoxView",
      "box_style": "",
      "children": [
       "IPY_MODEL_78cbadb5a5b0494d9979515c4daf47d8",
       "IPY_MODEL_c66be8c32f724d4f935be31d0adfd1eb"
      ],
      "layout": "IPY_MODEL_c2d4b5a9f2e845ff9776672ab4477539"
     }
    },
    "10f0ea51472d44c6a630e7bb5c9aed9a": {
     "model_module": "@jupyter-widgets/controls",
     "model_name": "DescriptionStyleModel",
     "state": {
      "_model_module": "@jupyter-widgets/controls",
      "_model_module_version": "1.5.0",
      "_model_name": "DescriptionStyleModel",
      "_view_count": null,
      "_view_module": "@jupyter-widgets/base",
      "_view_module_version": "1.2.0",
      "_view_name": "StyleView",
      "description_width": ""
     }
    },
    "132f6c75c0ee4519a5b32bc6c1c52604": {
     "model_module": "@jupyter-widgets/controls",
     "model_name": "IntProgressModel",
     "state": {
      "_dom_classes": [],
      "_model_module": "@jupyter-widgets/controls",
      "_model_module_version": "1.5.0",
      "_model_name": "IntProgressModel",
      "_view_count": null,
      "_view_module": "@jupyter-widgets/controls",
      "_view_module_version": "1.5.0",
      "_view_name": "ProgressView",
      "bar_style": "success",
      "description": "Downloading",
      "description_tooltip": null,
      "layout": "IPY_MODEL_eb971101f0ff4d228dc6ac706c43b01c",
      "max": 501200538,
      "min": 0,
      "orientation": "horizontal",
      "style": "IPY_MODEL_76673d218d24445595ddd9830f0fb852",
      "value": 501200538
     }
    },
    "20a3315445d8465582d91b239e4bb008": {
     "model_module": "@jupyter-widgets/base",
     "model_name": "LayoutModel",
     "state": {
      "_model_module": "@jupyter-widgets/base",
      "_model_module_version": "1.2.0",
      "_model_name": "LayoutModel",
      "_view_count": null,
      "_view_module": "@jupyter-widgets/base",
      "_view_module_version": "1.2.0",
      "_view_name": "LayoutView",
      "align_content": null,
      "align_items": null,
      "align_self": null,
      "border": null,
      "bottom": null,
      "display": null,
      "flex": null,
      "flex_flow": null,
      "grid_area": null,
      "grid_auto_columns": null,
      "grid_auto_flow": null,
      "grid_auto_rows": null,
      "grid_column": null,
      "grid_gap": null,
      "grid_row": null,
      "grid_template_areas": null,
      "grid_template_columns": null,
      "grid_template_rows": null,
      "height": null,
      "justify_content": null,
      "justify_items": null,
      "left": null,
      "margin": null,
      "max_height": null,
      "max_width": null,
      "min_height": null,
      "min_width": null,
      "object_fit": null,
      "object_position": null,
      "order": null,
      "overflow": null,
      "overflow_x": null,
      "overflow_y": null,
      "padding": null,
      "right": null,
      "top": null,
      "visibility": null,
      "width": null
     }
    },
    "318ba92b304d48cfb517aea974a3a6f3": {
     "model_module": "@jupyter-widgets/controls",
     "model_name": "HBoxModel",
     "state": {
      "_dom_classes": [],
      "_model_module": "@jupyter-widgets/controls",
      "_model_module_version": "1.5.0",
      "_model_name": "HBoxModel",
      "_view_count": null,
      "_view_module": "@jupyter-widgets/controls",
      "_view_module_version": "1.5.0",
      "_view_name": "HBoxView",
      "box_style": "",
      "children": [
       "IPY_MODEL_132f6c75c0ee4519a5b32bc6c1c52604",
       "IPY_MODEL_c41960ca1bf04943aa5b3416afdb6ca7"
      ],
      "layout": "IPY_MODEL_e7771ff59b2c47fd92172af210cce96a"
     }
    },
    "3e2926825f1e42eda439f40ffad5e4c3": {
     "model_module": "@jupyter-widgets/controls",
     "model_name": "DescriptionStyleModel",
     "state": {
      "_model_module": "@jupyter-widgets/controls",
      "_model_module_version": "1.5.0",
      "_model_name": "DescriptionStyleModel",
      "_view_count": null,
      "_view_module": "@jupyter-widgets/base",
      "_view_module_version": "1.2.0",
      "_view_name": "StyleView",
      "description_width": ""
     }
    },
    "4558fbd1f07d405789cfc7b045eaee2f": {
     "model_module": "@jupyter-widgets/controls",
     "model_name": "ProgressStyleModel",
     "state": {
      "_model_module": "@jupyter-widgets/controls",
      "_model_module_version": "1.5.0",
      "_model_name": "ProgressStyleModel",
      "_view_count": null,
      "_view_module": "@jupyter-widgets/base",
      "_view_module_version": "1.2.0",
      "_view_name": "StyleView",
      "bar_color": null,
      "description_width": "initial"
     }
    },
    "4b0e9873d4004cd5a42f04bac83bec8b": {
     "model_module": "@jupyter-widgets/controls",
     "model_name": "ProgressStyleModel",
     "state": {
      "_model_module": "@jupyter-widgets/controls",
      "_model_module_version": "1.5.0",
      "_model_name": "ProgressStyleModel",
      "_view_count": null,
      "_view_module": "@jupyter-widgets/base",
      "_view_module_version": "1.2.0",
      "_view_name": "StyleView",
      "bar_color": null,
      "description_width": "initial"
     }
    },
    "54a4bd06741448ff9638dd1b725d57bd": {
     "model_module": "@jupyter-widgets/controls",
     "model_name": "HTMLModel",
     "state": {
      "_dom_classes": [],
      "_model_module": "@jupyter-widgets/controls",
      "_model_module_version": "1.5.0",
      "_model_name": "HTMLModel",
      "_view_count": null,
      "_view_module": "@jupyter-widgets/controls",
      "_view_module_version": "1.5.0",
      "_view_name": "HTMLView",
      "description": "",
      "description_tooltip": null,
      "layout": "IPY_MODEL_96e023b036c24c84ad5551e4f13f2836",
      "placeholder": "​",
      "style": "IPY_MODEL_d967f02d98774cbaad9591b6e5b3a469",
      "value": "100% 456k/456k [00:00&lt;00:00, 1.32MB/s]"
     }
    },
    "72d57f1c07ed4828aed02c80bca13e33": {
     "model_module": "@jupyter-widgets/controls",
     "model_name": "HTMLModel",
     "state": {
      "_dom_classes": [],
      "_model_module": "@jupyter-widgets/controls",
      "_model_module_version": "1.5.0",
      "_model_name": "HTMLModel",
      "_view_count": null,
      "_view_module": "@jupyter-widgets/controls",
      "_view_module_version": "1.5.0",
      "_view_name": "HTMLView",
      "description": "",
      "description_tooltip": null,
      "layout": "IPY_MODEL_c3c910132a7b4b449c66108812e942f3",
      "placeholder": "​",
      "style": "IPY_MODEL_3e2926825f1e42eda439f40ffad5e4c3",
      "value": "100% 899k/899k [00:00&lt;00:00, 1.52MB/s]"
     }
    },
    "76673d218d24445595ddd9830f0fb852": {
     "model_module": "@jupyter-widgets/controls",
     "model_name": "ProgressStyleModel",
     "state": {
      "_model_module": "@jupyter-widgets/controls",
      "_model_module_version": "1.5.0",
      "_model_name": "ProgressStyleModel",
      "_view_count": null,
      "_view_module": "@jupyter-widgets/base",
      "_view_module_version": "1.2.0",
      "_view_name": "StyleView",
      "bar_color": null,
      "description_width": "initial"
     }
    },
    "78cbadb5a5b0494d9979515c4daf47d8": {
     "model_module": "@jupyter-widgets/controls",
     "model_name": "IntProgressModel",
     "state": {
      "_dom_classes": [],
      "_model_module": "@jupyter-widgets/controls",
      "_model_module_version": "1.5.0",
      "_model_name": "IntProgressModel",
      "_view_count": null,
      "_view_module": "@jupyter-widgets/controls",
      "_view_module_version": "1.5.0",
      "_view_name": "ProgressView",
      "bar_style": "success",
      "description": "Downloading",
      "description_tooltip": null,
      "layout": "IPY_MODEL_d314f3b144ac42dd844b595c093558ff",
      "max": 524,
      "min": 0,
      "orientation": "horizontal",
      "style": "IPY_MODEL_01d08197ab1f4b57a9401ca349c05575",
      "value": 524
     }
    },
    "96e023b036c24c84ad5551e4f13f2836": {
     "model_module": "@jupyter-widgets/base",
     "model_name": "LayoutModel",
     "state": {
      "_model_module": "@jupyter-widgets/base",
      "_model_module_version": "1.2.0",
      "_model_name": "LayoutModel",
      "_view_count": null,
      "_view_module": "@jupyter-widgets/base",
      "_view_module_version": "1.2.0",
      "_view_name": "LayoutView",
      "align_content": null,
      "align_items": null,
      "align_self": null,
      "border": null,
      "bottom": null,
      "display": null,
      "flex": null,
      "flex_flow": null,
      "grid_area": null,
      "grid_auto_columns": null,
      "grid_auto_flow": null,
      "grid_auto_rows": null,
      "grid_column": null,
      "grid_gap": null,
      "grid_row": null,
      "grid_template_areas": null,
      "grid_template_columns": null,
      "grid_template_rows": null,
      "height": null,
      "justify_content": null,
      "justify_items": null,
      "left": null,
      "margin": null,
      "max_height": null,
      "max_width": null,
      "min_height": null,
      "min_width": null,
      "object_fit": null,
      "object_position": null,
      "order": null,
      "overflow": null,
      "overflow_x": null,
      "overflow_y": null,
      "padding": null,
      "right": null,
      "top": null,
      "visibility": null,
      "width": null
     }
    },
    "a271e2d2f20041c09517d6c122044c7b": {
     "model_module": "@jupyter-widgets/controls",
     "model_name": "DescriptionStyleModel",
     "state": {
      "_model_module": "@jupyter-widgets/controls",
      "_model_module_version": "1.5.0",
      "_model_name": "DescriptionStyleModel",
      "_view_count": null,
      "_view_module": "@jupyter-widgets/base",
      "_view_module_version": "1.2.0",
      "_view_name": "StyleView",
      "description_width": ""
     }
    },
    "a3e99ec49bb84745a59dd95655747c07": {
     "model_module": "@jupyter-widgets/base",
     "model_name": "LayoutModel",
     "state": {
      "_model_module": "@jupyter-widgets/base",
      "_model_module_version": "1.2.0",
      "_model_name": "LayoutModel",
      "_view_count": null,
      "_view_module": "@jupyter-widgets/base",
      "_view_module_version": "1.2.0",
      "_view_name": "LayoutView",
      "align_content": null,
      "align_items": null,
      "align_self": null,
      "border": null,
      "bottom": null,
      "display": null,
      "flex": null,
      "flex_flow": null,
      "grid_area": null,
      "grid_auto_columns": null,
      "grid_auto_flow": null,
      "grid_auto_rows": null,
      "grid_column": null,
      "grid_gap": null,
      "grid_row": null,
      "grid_template_areas": null,
      "grid_template_columns": null,
      "grid_template_rows": null,
      "height": null,
      "justify_content": null,
      "justify_items": null,
      "left": null,
      "margin": null,
      "max_height": null,
      "max_width": null,
      "min_height": null,
      "min_width": null,
      "object_fit": null,
      "object_position": null,
      "order": null,
      "overflow": null,
      "overflow_x": null,
      "overflow_y": null,
      "padding": null,
      "right": null,
      "top": null,
      "visibility": null,
      "width": null
     }
    },
    "a79d6f2c0e204450a05c94449f58dd4e": {
     "model_module": "@jupyter-widgets/controls",
     "model_name": "HBoxModel",
     "state": {
      "_dom_classes": [],
      "_model_module": "@jupyter-widgets/controls",
      "_model_module_version": "1.5.0",
      "_model_name": "HBoxModel",
      "_view_count": null,
      "_view_module": "@jupyter-widgets/controls",
      "_view_module_version": "1.5.0",
      "_view_name": "HBoxView",
      "box_style": "",
      "children": [
       "IPY_MODEL_aa1ac487e26a4107a7b48624027e2306",
       "IPY_MODEL_54a4bd06741448ff9638dd1b725d57bd"
      ],
      "layout": "IPY_MODEL_a79f113e60a9470ba888845b411ee420"
     }
    },
    "a79f113e60a9470ba888845b411ee420": {
     "model_module": "@jupyter-widgets/base",
     "model_name": "LayoutModel",
     "state": {
      "_model_module": "@jupyter-widgets/base",
      "_model_module_version": "1.2.0",
      "_model_name": "LayoutModel",
      "_view_count": null,
      "_view_module": "@jupyter-widgets/base",
      "_view_module_version": "1.2.0",
      "_view_name": "LayoutView",
      "align_content": null,
      "align_items": null,
      "align_self": null,
      "border": null,
      "bottom": null,
      "display": null,
      "flex": null,
      "flex_flow": null,
      "grid_area": null,
      "grid_auto_columns": null,
      "grid_auto_flow": null,
      "grid_auto_rows": null,
      "grid_column": null,
      "grid_gap": null,
      "grid_row": null,
      "grid_template_areas": null,
      "grid_template_columns": null,
      "grid_template_rows": null,
      "height": null,
      "justify_content": null,
      "justify_items": null,
      "left": null,
      "margin": null,
      "max_height": null,
      "max_width": null,
      "min_height": null,
      "min_width": null,
      "object_fit": null,
      "object_position": null,
      "order": null,
      "overflow": null,
      "overflow_x": null,
      "overflow_y": null,
      "padding": null,
      "right": null,
      "top": null,
      "visibility": null,
      "width": null
     }
    },
    "aa1ac487e26a4107a7b48624027e2306": {
     "model_module": "@jupyter-widgets/controls",
     "model_name": "IntProgressModel",
     "state": {
      "_dom_classes": [],
      "_model_module": "@jupyter-widgets/controls",
      "_model_module_version": "1.5.0",
      "_model_name": "IntProgressModel",
      "_view_count": null,
      "_view_module": "@jupyter-widgets/controls",
      "_view_module_version": "1.5.0",
      "_view_name": "ProgressView",
      "bar_style": "success",
      "description": "Downloading",
      "description_tooltip": null,
      "layout": "IPY_MODEL_da4ff9306095404b8eda45e114a4bcb2",
      "max": 456318,
      "min": 0,
      "orientation": "horizontal",
      "style": "IPY_MODEL_4b0e9873d4004cd5a42f04bac83bec8b",
      "value": 456318
     }
    },
    "c2d4b5a9f2e845ff9776672ab4477539": {
     "model_module": "@jupyter-widgets/base",
     "model_name": "LayoutModel",
     "state": {
      "_model_module": "@jupyter-widgets/base",
      "_model_module_version": "1.2.0",
      "_model_name": "LayoutModel",
      "_view_count": null,
      "_view_module": "@jupyter-widgets/base",
      "_view_module_version": "1.2.0",
      "_view_name": "LayoutView",
      "align_content": null,
      "align_items": null,
      "align_self": null,
      "border": null,
      "bottom": null,
      "display": null,
      "flex": null,
      "flex_flow": null,
      "grid_area": null,
      "grid_auto_columns": null,
      "grid_auto_flow": null,
      "grid_auto_rows": null,
      "grid_column": null,
      "grid_gap": null,
      "grid_row": null,
      "grid_template_areas": null,
      "grid_template_columns": null,
      "grid_template_rows": null,
      "height": null,
      "justify_content": null,
      "justify_items": null,
      "left": null,
      "margin": null,
      "max_height": null,
      "max_width": null,
      "min_height": null,
      "min_width": null,
      "object_fit": null,
      "object_position": null,
      "order": null,
      "overflow": null,
      "overflow_x": null,
      "overflow_y": null,
      "padding": null,
      "right": null,
      "top": null,
      "visibility": null,
      "width": null
     }
    },
    "c3c910132a7b4b449c66108812e942f3": {
     "model_module": "@jupyter-widgets/base",
     "model_name": "LayoutModel",
     "state": {
      "_model_module": "@jupyter-widgets/base",
      "_model_module_version": "1.2.0",
      "_model_name": "LayoutModel",
      "_view_count": null,
      "_view_module": "@jupyter-widgets/base",
      "_view_module_version": "1.2.0",
      "_view_name": "LayoutView",
      "align_content": null,
      "align_items": null,
      "align_self": null,
      "border": null,
      "bottom": null,
      "display": null,
      "flex": null,
      "flex_flow": null,
      "grid_area": null,
      "grid_auto_columns": null,
      "grid_auto_flow": null,
      "grid_auto_rows": null,
      "grid_column": null,
      "grid_gap": null,
      "grid_row": null,
      "grid_template_areas": null,
      "grid_template_columns": null,
      "grid_template_rows": null,
      "height": null,
      "justify_content": null,
      "justify_items": null,
      "left": null,
      "margin": null,
      "max_height": null,
      "max_width": null,
      "min_height": null,
      "min_width": null,
      "object_fit": null,
      "object_position": null,
      "order": null,
      "overflow": null,
      "overflow_x": null,
      "overflow_y": null,
      "padding": null,
      "right": null,
      "top": null,
      "visibility": null,
      "width": null
     }
    },
    "c41960ca1bf04943aa5b3416afdb6ca7": {
     "model_module": "@jupyter-widgets/controls",
     "model_name": "HTMLModel",
     "state": {
      "_dom_classes": [],
      "_model_module": "@jupyter-widgets/controls",
      "_model_module_version": "1.5.0",
      "_model_name": "HTMLModel",
      "_view_count": null,
      "_view_module": "@jupyter-widgets/controls",
      "_view_module_version": "1.5.0",
      "_view_name": "HTMLView",
      "description": "",
      "description_tooltip": null,
      "layout": "IPY_MODEL_20a3315445d8465582d91b239e4bb008",
      "placeholder": "​",
      "style": "IPY_MODEL_a271e2d2f20041c09517d6c122044c7b",
      "value": "100% 501M/501M [00:18&lt;00:00, 26.4MB/s]"
     }
    },
    "c66be8c32f724d4f935be31d0adfd1eb": {
     "model_module": "@jupyter-widgets/controls",
     "model_name": "HTMLModel",
     "state": {
      "_dom_classes": [],
      "_model_module": "@jupyter-widgets/controls",
      "_model_module_version": "1.5.0",
      "_model_name": "HTMLModel",
      "_view_count": null,
      "_view_module": "@jupyter-widgets/controls",
      "_view_module_version": "1.5.0",
      "_view_name": "HTMLView",
      "description": "",
      "description_tooltip": null,
      "layout": "IPY_MODEL_db92aefa1f4743d7967fd715890bac04",
      "placeholder": "​",
      "style": "IPY_MODEL_10f0ea51472d44c6a630e7bb5c9aed9a",
      "value": "100% 524/524 [00:00&lt;00:00, 15.0kB/s]"
     }
    },
    "d314f3b144ac42dd844b595c093558ff": {
     "model_module": "@jupyter-widgets/base",
     "model_name": "LayoutModel",
     "state": {
      "_model_module": "@jupyter-widgets/base",
      "_model_module_version": "1.2.0",
      "_model_name": "LayoutModel",
      "_view_count": null,
      "_view_module": "@jupyter-widgets/base",
      "_view_module_version": "1.2.0",
      "_view_name": "LayoutView",
      "align_content": null,
      "align_items": null,
      "align_self": null,
      "border": null,
      "bottom": null,
      "display": null,
      "flex": null,
      "flex_flow": null,
      "grid_area": null,
      "grid_auto_columns": null,
      "grid_auto_flow": null,
      "grid_auto_rows": null,
      "grid_column": null,
      "grid_gap": null,
      "grid_row": null,
      "grid_template_areas": null,
      "grid_template_columns": null,
      "grid_template_rows": null,
      "height": null,
      "justify_content": null,
      "justify_items": null,
      "left": null,
      "margin": null,
      "max_height": null,
      "max_width": null,
      "min_height": null,
      "min_width": null,
      "object_fit": null,
      "object_position": null,
      "order": null,
      "overflow": null,
      "overflow_x": null,
      "overflow_y": null,
      "padding": null,
      "right": null,
      "top": null,
      "visibility": null,
      "width": null
     }
    },
    "d967f02d98774cbaad9591b6e5b3a469": {
     "model_module": "@jupyter-widgets/controls",
     "model_name": "DescriptionStyleModel",
     "state": {
      "_model_module": "@jupyter-widgets/controls",
      "_model_module_version": "1.5.0",
      "_model_name": "DescriptionStyleModel",
      "_view_count": null,
      "_view_module": "@jupyter-widgets/base",
      "_view_module_version": "1.2.0",
      "_view_name": "StyleView",
      "description_width": ""
     }
    },
    "da4ff9306095404b8eda45e114a4bcb2": {
     "model_module": "@jupyter-widgets/base",
     "model_name": "LayoutModel",
     "state": {
      "_model_module": "@jupyter-widgets/base",
      "_model_module_version": "1.2.0",
      "_model_name": "LayoutModel",
      "_view_count": null,
      "_view_module": "@jupyter-widgets/base",
      "_view_module_version": "1.2.0",
      "_view_name": "LayoutView",
      "align_content": null,
      "align_items": null,
      "align_self": null,
      "border": null,
      "bottom": null,
      "display": null,
      "flex": null,
      "flex_flow": null,
      "grid_area": null,
      "grid_auto_columns": null,
      "grid_auto_flow": null,
      "grid_auto_rows": null,
      "grid_column": null,
      "grid_gap": null,
      "grid_row": null,
      "grid_template_areas": null,
      "grid_template_columns": null,
      "grid_template_rows": null,
      "height": null,
      "justify_content": null,
      "justify_items": null,
      "left": null,
      "margin": null,
      "max_height": null,
      "max_width": null,
      "min_height": null,
      "min_width": null,
      "object_fit": null,
      "object_position": null,
      "order": null,
      "overflow": null,
      "overflow_x": null,
      "overflow_y": null,
      "padding": null,
      "right": null,
      "top": null,
      "visibility": null,
      "width": null
     }
    },
    "db92aefa1f4743d7967fd715890bac04": {
     "model_module": "@jupyter-widgets/base",
     "model_name": "LayoutModel",
     "state": {
      "_model_module": "@jupyter-widgets/base",
      "_model_module_version": "1.2.0",
      "_model_name": "LayoutModel",
      "_view_count": null,
      "_view_module": "@jupyter-widgets/base",
      "_view_module_version": "1.2.0",
      "_view_name": "LayoutView",
      "align_content": null,
      "align_items": null,
      "align_self": null,
      "border": null,
      "bottom": null,
      "display": null,
      "flex": null,
      "flex_flow": null,
      "grid_area": null,
      "grid_auto_columns": null,
      "grid_auto_flow": null,
      "grid_auto_rows": null,
      "grid_column": null,
      "grid_gap": null,
      "grid_row": null,
      "grid_template_areas": null,
      "grid_template_columns": null,
      "grid_template_rows": null,
      "height": null,
      "justify_content": null,
      "justify_items": null,
      "left": null,
      "margin": null,
      "max_height": null,
      "max_width": null,
      "min_height": null,
      "min_width": null,
      "object_fit": null,
      "object_position": null,
      "order": null,
      "overflow": null,
      "overflow_x": null,
      "overflow_y": null,
      "padding": null,
      "right": null,
      "top": null,
      "visibility": null,
      "width": null
     }
    },
    "e7771ff59b2c47fd92172af210cce96a": {
     "model_module": "@jupyter-widgets/base",
     "model_name": "LayoutModel",
     "state": {
      "_model_module": "@jupyter-widgets/base",
      "_model_module_version": "1.2.0",
      "_model_name": "LayoutModel",
      "_view_count": null,
      "_view_module": "@jupyter-widgets/base",
      "_view_module_version": "1.2.0",
      "_view_name": "LayoutView",
      "align_content": null,
      "align_items": null,
      "align_self": null,
      "border": null,
      "bottom": null,
      "display": null,
      "flex": null,
      "flex_flow": null,
      "grid_area": null,
      "grid_auto_columns": null,
      "grid_auto_flow": null,
      "grid_auto_rows": null,
      "grid_column": null,
      "grid_gap": null,
      "grid_row": null,
      "grid_template_areas": null,
      "grid_template_columns": null,
      "grid_template_rows": null,
      "height": null,
      "justify_content": null,
      "justify_items": null,
      "left": null,
      "margin": null,
      "max_height": null,
      "max_width": null,
      "min_height": null,
      "min_width": null,
      "object_fit": null,
      "object_position": null,
      "order": null,
      "overflow": null,
      "overflow_x": null,
      "overflow_y": null,
      "padding": null,
      "right": null,
      "top": null,
      "visibility": null,
      "width": null
     }
    },
    "ea10cea3e47940468e3baf74b544a038": {
     "model_module": "@jupyter-widgets/controls",
     "model_name": "HBoxModel",
     "state": {
      "_dom_classes": [],
      "_model_module": "@jupyter-widgets/controls",
      "_model_module_version": "1.5.0",
      "_model_name": "HBoxModel",
      "_view_count": null,
      "_view_module": "@jupyter-widgets/controls",
      "_view_module_version": "1.5.0",
      "_view_name": "HBoxView",
      "box_style": "",
      "children": [
       "IPY_MODEL_eafd027c78c54c0e8e12777985986003",
       "IPY_MODEL_72d57f1c07ed4828aed02c80bca13e33"
      ],
      "layout": "IPY_MODEL_a3e99ec49bb84745a59dd95655747c07"
     }
    },
    "eafd027c78c54c0e8e12777985986003": {
     "model_module": "@jupyter-widgets/controls",
     "model_name": "IntProgressModel",
     "state": {
      "_dom_classes": [],
      "_model_module": "@jupyter-widgets/controls",
      "_model_module_version": "1.5.0",
      "_model_name": "IntProgressModel",
      "_view_count": null,
      "_view_module": "@jupyter-widgets/controls",
      "_view_module_version": "1.5.0",
      "_view_name": "ProgressView",
      "bar_style": "success",
      "description": "Downloading",
      "description_tooltip": null,
      "layout": "IPY_MODEL_f98cdae6b72f4c48ae31e2377f1fdc65",
      "max": 898823,
      "min": 0,
      "orientation": "horizontal",
      "style": "IPY_MODEL_4558fbd1f07d405789cfc7b045eaee2f",
      "value": 898823
     }
    },
    "eb971101f0ff4d228dc6ac706c43b01c": {
     "model_module": "@jupyter-widgets/base",
     "model_name": "LayoutModel",
     "state": {
      "_model_module": "@jupyter-widgets/base",
      "_model_module_version": "1.2.0",
      "_model_name": "LayoutModel",
      "_view_count": null,
      "_view_module": "@jupyter-widgets/base",
      "_view_module_version": "1.2.0",
      "_view_name": "LayoutView",
      "align_content": null,
      "align_items": null,
      "align_self": null,
      "border": null,
      "bottom": null,
      "display": null,
      "flex": null,
      "flex_flow": null,
      "grid_area": null,
      "grid_auto_columns": null,
      "grid_auto_flow": null,
      "grid_auto_rows": null,
      "grid_column": null,
      "grid_gap": null,
      "grid_row": null,
      "grid_template_areas": null,
      "grid_template_columns": null,
      "grid_template_rows": null,
      "height": null,
      "justify_content": null,
      "justify_items": null,
      "left": null,
      "margin": null,
      "max_height": null,
      "max_width": null,
      "min_height": null,
      "min_width": null,
      "object_fit": null,
      "object_position": null,
      "order": null,
      "overflow": null,
      "overflow_x": null,
      "overflow_y": null,
      "padding": null,
      "right": null,
      "top": null,
      "visibility": null,
      "width": null
     }
    },
    "f98cdae6b72f4c48ae31e2377f1fdc65": {
     "model_module": "@jupyter-widgets/base",
     "model_name": "LayoutModel",
     "state": {
      "_model_module": "@jupyter-widgets/base",
      "_model_module_version": "1.2.0",
      "_model_name": "LayoutModel",
      "_view_count": null,
      "_view_module": "@jupyter-widgets/base",
      "_view_module_version": "1.2.0",
      "_view_name": "LayoutView",
      "align_content": null,
      "align_items": null,
      "align_self": null,
      "border": null,
      "bottom": null,
      "display": null,
      "flex": null,
      "flex_flow": null,
      "grid_area": null,
      "grid_auto_columns": null,
      "grid_auto_flow": null,
      "grid_auto_rows": null,
      "grid_column": null,
      "grid_gap": null,
      "grid_row": null,
      "grid_template_areas": null,
      "grid_template_columns": null,
      "grid_template_rows": null,
      "height": null,
      "justify_content": null,
      "justify_items": null,
      "left": null,
      "margin": null,
      "max_height": null,
      "max_width": null,
      "min_height": null,
      "min_width": null,
      "object_fit": null,
      "object_position": null,
      "order": null,
      "overflow": null,
      "overflow_x": null,
      "overflow_y": null,
      "padding": null,
      "right": null,
      "top": null,
      "visibility": null,
      "width": null
     }
    }
   }
  }
 },
 "nbformat": 4,
 "nbformat_minor": 1
}
